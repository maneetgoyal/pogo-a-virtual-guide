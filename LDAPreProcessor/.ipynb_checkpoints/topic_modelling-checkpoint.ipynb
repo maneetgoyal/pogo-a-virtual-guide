{
 "cells": [
  {
   "cell_type": "markdown",
   "metadata": {
    "collapsed": true
   },
   "source": [
    "### Topic Modelling with Gensim!\n",
    "\n",
    "This notebook will walk you through the entire process of analysing your text - from pre-processing to creating your topic models and visualising them. \n",
    "\n",
    "python offers a very rich suite of NLP and CL tools, and we will illustrate these to the best of our capabilities.\n",
    "Let's start by setting up our imports.\n",
    "\n",
    "We will be needing: \n",
    "```\n",
    "- Gensim\n",
    "- matplotlib\n",
    "- spaCy\n",
    "- pyLDAVis\n",
    "```\n"
   ]
  },
  {
   "cell_type": "code",
   "execution_count": 1,
   "metadata": {
    "collapsed": true
   },
   "outputs": [],
   "source": [
    "# Suppressing warnings\n",
    "import warnings\n",
    "warnings.filterwarnings(action='ignore', category=UserWarning, module='gensim')\n",
    "\n",
    "# Importing Libraries\n",
    "import os\n",
    "\n",
    "import matplotlib.pyplot as plt\n",
    "import gensim\n",
    "import numpy as np\n",
    "import spacy\n",
    "import en_core_web_sm\n",
    "\n",
    "from gensim.models import CoherenceModel, LdaModel, LsiModel, HdpModel\n",
    "from gensim.models.wrappers import LdaMallet\n",
    "from gensim.corpora import Dictionary\n",
    "import pyLDAvis.gensim\n",
    "\n",
    "\n"
   ]
  },
  {
   "cell_type": "markdown",
   "metadata": {},
   "source": [
    "For this tutorial, we will be using the Lee corpus which is a shortened version of the [Lee Background Corpus](http://www.socsci.uci.edu/~mdlee/lee_pincombe_welsh_document.PDF). The shortened version consists of 300 documents selected from the Australian Broadcasting Corporation's news mail service. It consists of texts of headline stories from around the year 2000-2001. \n",
    "\n",
    "We should keep in mind we can use pretty much any textual data-set and go ahead with what we will be doing."
   ]
  },
  {
   "cell_type": "code",
   "execution_count": null,
   "metadata": {
    "collapsed": true
   },
   "outputs": [],
   "source": []
  },
  {
   "cell_type": "markdown",
   "metadata": {},
   "source": [
    "### Pre-processing data!\n",
    "\n",
    "It's been often said in Machine Learning and NLP algorithms - garbage in, garbage out. We can't have state-of-the-art results without data which is aa good. Let's spend this section working on cleaning and understanding our data set.\n",
    "NTLK is usually a popular choice for pre-processing - but is a rather [outdated](https://explosion.ai/blog/dead-code-should-be-buried) and we will be checking out spaCy, an industry grade text-processing package. "
   ]
  },
  {
   "cell_type": "code",
   "execution_count": null,
   "metadata": {
    "collapsed": true
   },
   "outputs": [],
   "source": []
  },
  {
   "cell_type": "markdown",
   "metadata": {},
   "source": [
    "For safe measure, let's add some stopwords. It's a newspaper corpus, so it is likely we will be coming across variations of 'said' and 'Mister' which will not really add any value to the topic models."
   ]
  },
  {
   "cell_type": "code",
   "execution_count": null,
   "metadata": {
    "collapsed": true
   },
   "outputs": [],
   "source": []
  },
  {
   "cell_type": "code",
   "execution_count": null,
   "metadata": {
    "collapsed": true
   },
   "outputs": [],
   "source": []
  },
  {
   "cell_type": "markdown",
   "metadata": {},
   "source": [
    "Voila! With the `English` pipeline, all the heavy lifting has been done. Let's see what went on under the hood."
   ]
  },
  {
   "cell_type": "code",
   "execution_count": null,
   "metadata": {
    "collapsed": true
   },
   "outputs": [],
   "source": []
  },
  {
   "cell_type": "markdown",
   "metadata": {},
   "source": [
    "It seems like nothing, right? But spaCy's internal data structure has done all the work for us. Let's see how we can create our corpus. You can check out what a gensim corpus looks like [here](google.com)."
   ]
  },
  {
   "cell_type": "code",
   "execution_count": null,
   "metadata": {
    "collapsed": true
   },
   "outputs": [],
   "source": []
  },
  {
   "cell_type": "markdown",
   "metadata": {},
   "source": [
    "And this is the magic of spaCy - just like that, we've managed to get rid of stopwords, punctauation markers, and added the lemmatized word. There's lot more we can do with spaCy which I would really recommend checking out.\n",
    "\n",
    "Sometimes topic models make more sense when 'New' and 'York' are treated as 'New_York' - we can do this by creating a bigram model and modifying our corpus accordingly."
   ]
  },
  {
   "cell_type": "code",
   "execution_count": null,
   "metadata": {
    "collapsed": true
   },
   "outputs": [],
   "source": []
  },
  {
   "cell_type": "code",
   "execution_count": 2,
   "metadata": {},
   "outputs": [
    {
     "name": "stdout",
     "output_type": "stream",
     "text": [
      "File read!\n",
      "Stop words added!\n",
      "Text tagged!\n",
      "5000 documents read!\n",
      "10000 documents read!\n",
      "15000 documents read!\n",
      "20000 documents read!\n",
      "25000 documents read!\n",
      "30000 documents read!\n",
      "35000 documents read!\n",
      "40000 documents read!\n",
      "45000 documents read!\n",
      "50000 documents read!\n",
      "55000 documents read!\n",
      "60000 documents read!\n",
      "65000 documents read!\n",
      "70000 documents read!\n",
      "75000 documents read!\n",
      "80000 documents read!\n",
      "85000 documents read!\n",
      "90000 documents read!\n",
      "95000 documents read!\n",
      "100000 documents read!\n",
      "105000 documents read!\n",
      "110000 documents read!\n",
      "115000 documents read!\n",
      "120000 documents read!\n",
      "125000 documents read!\n",
      "130000 documents read!\n",
      "135000 documents read!\n",
      "140000 documents read!\n",
      "145000 documents read!\n",
      "150000 documents read!\n",
      "155000 documents read!\n",
      "160000 documents read!\n",
      "165000 documents read!\n",
      "170000 documents read!\n",
      "175000 documents read!\n",
      "180000 documents read!\n",
      "185000 documents read!\n",
      "190000 documents read!\n",
      "195000 documents read!\n",
      "200000 documents read!\n",
      "205000 documents read!\n",
      "210000 documents read!\n",
      "215000 documents read!\n",
      "220000 documents read!\n",
      "225000 documents read!\n",
      "230000 documents read!\n",
      "235000 documents read!\n",
      "240000 documents read!\n",
      "245000 documents read!\n",
      "250000 documents read!\n",
      "255000 documents read!\n",
      "260000 documents read!\n",
      "265000 documents read!\n",
      "270000 documents read!\n",
      "275000 documents read!\n",
      "280000 documents read!\n",
      "285000 documents read!\n",
      "Texts bigramed!\n"
     ]
    }
   ],
   "source": [
    "import txtpreprocess as tp\n",
    "texts = tp.txtpreprocess()"
   ]
  },
  {
   "cell_type": "code",
   "execution_count": 3,
   "metadata": {
    "collapsed": true
   },
   "outputs": [],
   "source": [
    "dictionary = Dictionary(texts)\n",
    "corpus = [dictionary.doc2bow(text) for text in texts]"
   ]
  },
  {
   "cell_type": "markdown",
   "metadata": {},
   "source": [
    "We're now done with a very important part of any text analysis - the data cleaning and setting up of corpus. It must be kept in mind that we created the corpus the way we did because that's how gensim requires it - most algorithms still require one to clean the data set the way we did, by removing stop words and numbers, adding the lemmatized form of the word, and using bigrams. "
   ]
  },
  {
   "cell_type": "markdown",
   "metadata": {},
   "source": [
    "### LSI\n",
    "\n",
    "LSI stands for Latent Semantic Indeixing - it is a popular information retreival method which works by decomposing the original matrix of words to maintain key topics. Gensim's implementation uses an SVD."
   ]
  },
  {
   "cell_type": "code",
   "execution_count": 4,
   "metadata": {
    "collapsed": true
   },
   "outputs": [],
   "source": [
    "#lsimodel = LsiModel(corpus=corpus, num_topics=10, id2word=dictionary)"
   ]
  },
  {
   "cell_type": "code",
   "execution_count": 5,
   "metadata": {
    "collapsed": true
   },
   "outputs": [],
   "source": [
    "#lsimodel.show_topics(num_topics=5)  # Showing only the top 5 topics"
   ]
  },
  {
   "cell_type": "markdown",
   "metadata": {},
   "source": [
    "### HDP\n",
    "\n",
    "HDP, the Hierarchical Dirichlet process is an unsupervised topic model which figures out the number of topics on it's own."
   ]
  },
  {
   "cell_type": "code",
   "execution_count": 6,
   "metadata": {
    "collapsed": true
   },
   "outputs": [],
   "source": [
    "#hdpmodel = HdpModel(corpus=corpus, id2word=dictionary)"
   ]
  },
  {
   "cell_type": "code",
   "execution_count": 7,
   "metadata": {
    "collapsed": true
   },
   "outputs": [],
   "source": [
    "#hdpmodel.show_topics()"
   ]
  },
  {
   "cell_type": "markdown",
   "metadata": {},
   "source": [
    "### LDA\n",
    "\n",
    "LDA, or Latent Dirichlet Allocation is arguably the most famous topic modelling algorithm out there. Out here we create a simple topic model with 10 topics."
   ]
  },
  {
   "cell_type": "code",
   "execution_count": 8,
   "metadata": {
    "collapsed": true
   },
   "outputs": [],
   "source": [
    "\n",
    "ldamodel = LdaModel(corpus=corpus, num_topics=10, id2word=dictionary)"
   ]
  },
  {
   "cell_type": "code",
   "execution_count": 9,
   "metadata": {},
   "outputs": [
    {
     "data": {
      "text/plain": [
       "[(0,\n",
       "  '0.051*\"image\" + 0.029*\" \" + 0.022*\"view\" + 0.018*\"button\" + 0.017*\"not\" + 0.016*\"code\" + 0.013*\"item\" + 0.011*\"problem\" + 0.011*\"screen\" + 0.010*\"text\"'),\n",
       " (1,\n",
       "  '0.041*\"error\" + 0.029*\" \" + 0.023*\"project\" + 0.017*\"not\" + 0.017*\"test\" + 0.014*\"code\" + 0.010*\"version\" + 0.009*\"library\" + 0.009*\"problem\" + 0.009*\"module\"'),\n",
       " (2,\n",
       "  '0.027*\"list\" + 0.025*\" \" + 0.014*\"element\" + 0.013*\"value\" + 0.010*\"point\" + 0.009*\"time\" + 0.008*\"datum\" + 0.007*\"number\" + 0.006*\"b\" + 0.006*\"question\"'),\n",
       " (3,\n",
       "  '0.058*\"class\" + 0.046*\"object\" + 0.038*\"method\" + 0.029*\"\\n  \" + 0.019*\" \" + 0.018*\"model\" + 0.017*\"type\" + 0.016*\"property\" + 0.013*\"error\" + 0.011*\"exception\"'),\n",
       " (4,\n",
       "  '0.031*\"datum\" + 0.022*\"server\" + 0.021*\"client\" + 0.019*\"json\" + 0.017*\"api\" + 0.017*\"xml\" + 0.015*\"key\" + 0.015*\"request\" + 0.014*\"message\" + 0.013*\"thread\"'),\n",
       " (5,\n",
       "  '0.059*\"app\" + 0.051*\"user\" + 0.027*\"application\" + 0.024*\"android\" + 0.014*\"service\" + 0.011*\" \" + 0.011*\"device\" + 0.010*\"email\" + 0.009*\"not\" + 0.008*\"ios\"'),\n",
       " (6,\n",
       "  '0.052*\"table\" + 0.033*\" \" + 0.032*\"database\" + 0.032*\"column\" + 0.027*\"datum\" + 0.027*\"query\" + 0.025*\"row\" + 0.017*\"date\" + 0.016*\"field\" + 0.013*\"result\"'),\n",
       " (7,\n",
       "  '0.037*\"page\" + 0.031*\" \" + 0.025*\"code\" + 0.022*\"not\" + 0.019*\"form\" + 0.016*\"html\" + 0.015*\"user\" + 0.014*\"url\" + 0.013*\"javascript\" + 0.011*\"php\"'),\n",
       " (8,\n",
       "  '0.042*\"code\" + 0.041*\"function\" + 0.035*\" \" + 0.027*\"string\" + 0.025*\"array\" + 0.023*\"not\" + 0.020*\"line\" + 0.019*\"variable\" + 0.013*\"number\" + 0.012*\"output\"'),\n",
       " (9,\n",
       "  '0.088*\"file\" + 0.025*\" \" + 0.016*\"server\" + 0.016*\"error\" + 0.014*\"not\" + 0.012*\"command\" + 0.011*\"folder\" + 0.010*\"script\" + 0.010*\"application\" + 0.009*\"project\"')]"
      ]
     },
     "execution_count": 9,
     "metadata": {},
     "output_type": "execute_result"
    }
   ],
   "source": [
    "ldamodel.show_topics()"
   ]
  },
  {
   "cell_type": "markdown",
   "metadata": {},
   "source": [
    "### pyLDAvis \n",
    "\n",
    "Thanks to pyLDAvis, we can visualise our topic models in a really handy way. All we need to do is enable our notebook and prepare the object."
   ]
  },
  {
   "cell_type": "code",
   "execution_count": 10,
   "metadata": {},
   "outputs": [
    {
     "name": "stderr",
     "output_type": "stream",
     "text": [
      "C:\\Users\\maneet\\AppData\\Local\\Continuum\\Anaconda3\\lib\\site-packages\\pyLDAvis\\_prepare.py:387: DeprecationWarning: \n",
      ".ix is deprecated. Please use\n",
      ".loc for label based indexing or\n",
      ".iloc for positional indexing\n",
      "\n",
      "See the documentation here:\n",
      "http://pandas.pydata.org/pandas-docs/stable/indexing.html#ix-indexer-is-deprecated\n",
      "  topic_term_dists = topic_term_dists.ix[topic_order]\n"
     ]
    },
    {
     "data": {
      "text/html": [
       "\n",
       "<link rel=\"stylesheet\" type=\"text/css\" href=\"https://cdn.rawgit.com/bmabey/pyLDAvis/files/ldavis.v1.0.0.css\">\n",
       "\n",
       "\n",
       "<div id=\"ldavis_el994422406775601367260634559\"></div>\n",
       "<script type=\"text/javascript\">\n",
       "\n",
       "var ldavis_el994422406775601367260634559_data = {\"mdsDat\": {\"Freq\": [14.951985639361443, 12.837156440553073, 12.315733106187695, 9.755641105041379, 9.695882584231573, 9.488662463088444, 8.757403874298229, 8.278286497459495, 7.078676436016954, 6.840571853761706], \"cluster\": [1, 1, 1, 1, 1, 1, 1, 1, 1, 1], \"topics\": [1, 2, 3, 4, 5, 6, 7, 8, 9, 10], \"x\": [0.022394590329764756, -0.08982354677640739, 0.15057827101890592, -0.18118881239201626, 0.05565746891096867, 0.16538768515737862, -0.031171396317443548, -0.19713831682057162, -0.05938409511326414, 0.16468815200268555], \"y\": [0.1496206154274481, 0.0667004505640186, -0.0314702974457764, -0.09717546840266651, -0.020520495468092117, -0.01092062924666493, 0.24676884962363524, -0.019957933353033582, -0.19231431027378146, -0.09073078142508653]}, \"tinfo\": {\"Category\": [\"Default\", \"Default\", \"Default\", \"Default\", \"Default\", \"Default\", \"Default\", \"Default\", \"Default\", \"Default\", \"Default\", \"Default\", \"Default\", \"Default\", \"Default\", \"Default\", \"Default\", \"Default\", \"Default\", \"Default\", \"Default\", \"Default\", \"Default\", \"Default\", \"Default\", \"Default\", \"Default\", \"Default\", \"Default\", \"Default\", \"Topic1\", \"Topic1\", \"Topic1\", \"Topic1\", \"Topic1\", \"Topic1\", \"Topic1\", \"Topic1\", \"Topic1\", \"Topic1\", \"Topic1\", \"Topic1\", \"Topic1\", \"Topic1\", \"Topic1\", \"Topic1\", \"Topic1\", \"Topic1\", \"Topic1\", \"Topic1\", \"Topic1\", \"Topic1\", \"Topic1\", \"Topic1\", \"Topic1\", \"Topic1\", \"Topic1\", \"Topic1\", \"Topic1\", \"Topic1\", \"Topic1\", \"Topic1\", \"Topic1\", \"Topic1\", \"Topic1\", \"Topic1\", \"Topic1\", \"Topic1\", \"Topic1\", \"Topic1\", \"Topic1\", \"Topic1\", \"Topic1\", \"Topic1\", \"Topic1\", \"Topic1\", \"Topic1\", \"Topic1\", \"Topic1\", \"Topic1\", \"Topic1\", \"Topic1\", \"Topic1\", \"Topic1\", \"Topic1\", \"Topic1\", \"Topic1\", \"Topic1\", \"Topic1\", \"Topic1\", \"Topic1\", \"Topic2\", \"Topic2\", \"Topic2\", \"Topic2\", \"Topic2\", \"Topic2\", \"Topic2\", \"Topic2\", \"Topic2\", \"Topic2\", \"Topic2\", \"Topic2\", \"Topic2\", \"Topic2\", \"Topic2\", \"Topic2\", \"Topic2\", \"Topic2\", \"Topic2\", \"Topic2\", \"Topic2\", \"Topic2\", \"Topic2\", \"Topic2\", \"Topic2\", \"Topic2\", \"Topic2\", \"Topic2\", \"Topic2\", \"Topic2\", \"Topic2\", \"Topic2\", \"Topic2\", \"Topic2\", \"Topic2\", \"Topic2\", \"Topic2\", \"Topic2\", \"Topic2\", \"Topic2\", \"Topic2\", \"Topic2\", \"Topic2\", \"Topic2\", \"Topic2\", \"Topic2\", \"Topic2\", \"Topic2\", \"Topic2\", \"Topic2\", \"Topic2\", \"Topic2\", \"Topic2\", \"Topic2\", \"Topic2\", \"Topic2\", \"Topic2\", \"Topic2\", \"Topic2\", \"Topic2\", \"Topic2\", \"Topic2\", \"Topic2\", \"Topic2\", \"Topic2\", \"Topic2\", \"Topic2\", \"Topic2\", \"Topic2\", \"Topic2\", \"Topic2\", \"Topic2\", \"Topic2\", \"Topic3\", \"Topic3\", \"Topic3\", \"Topic3\", \"Topic3\", \"Topic3\", \"Topic3\", \"Topic3\", \"Topic3\", \"Topic3\", \"Topic3\", \"Topic3\", \"Topic3\", \"Topic3\", \"Topic3\", \"Topic3\", \"Topic3\", \"Topic3\", \"Topic3\", \"Topic3\", \"Topic3\", \"Topic3\", \"Topic3\", \"Topic3\", \"Topic3\", \"Topic3\", \"Topic3\", \"Topic3\", \"Topic3\", \"Topic3\", \"Topic3\", \"Topic3\", \"Topic3\", \"Topic3\", \"Topic3\", \"Topic3\", \"Topic3\", \"Topic3\", \"Topic3\", \"Topic3\", \"Topic3\", \"Topic3\", \"Topic3\", \"Topic3\", \"Topic3\", \"Topic3\", \"Topic3\", \"Topic3\", \"Topic3\", \"Topic3\", \"Topic3\", \"Topic3\", \"Topic3\", \"Topic3\", \"Topic3\", \"Topic3\", \"Topic3\", \"Topic3\", \"Topic3\", \"Topic3\", \"Topic3\", \"Topic3\", \"Topic3\", \"Topic3\", \"Topic3\", \"Topic3\", \"Topic3\", \"Topic3\", \"Topic4\", \"Topic4\", \"Topic4\", \"Topic4\", \"Topic4\", \"Topic4\", \"Topic4\", \"Topic4\", \"Topic4\", \"Topic4\", \"Topic4\", \"Topic4\", \"Topic4\", \"Topic4\", \"Topic4\", \"Topic4\", \"Topic4\", \"Topic4\", \"Topic4\", \"Topic4\", \"Topic4\", \"Topic4\", \"Topic4\", \"Topic4\", \"Topic4\", \"Topic4\", \"Topic4\", \"Topic4\", \"Topic4\", \"Topic4\", \"Topic4\", \"Topic4\", \"Topic4\", \"Topic4\", \"Topic4\", \"Topic4\", \"Topic4\", \"Topic4\", \"Topic4\", \"Topic4\", \"Topic4\", \"Topic4\", \"Topic4\", \"Topic4\", \"Topic4\", \"Topic4\", \"Topic4\", \"Topic4\", \"Topic4\", \"Topic4\", \"Topic4\", \"Topic4\", \"Topic4\", \"Topic4\", \"Topic4\", \"Topic4\", \"Topic4\", \"Topic4\", \"Topic4\", \"Topic4\", \"Topic4\", \"Topic5\", \"Topic5\", \"Topic5\", \"Topic5\", \"Topic5\", \"Topic5\", \"Topic5\", \"Topic5\", \"Topic5\", \"Topic5\", \"Topic5\", \"Topic5\", \"Topic5\", \"Topic5\", \"Topic5\", \"Topic5\", \"Topic5\", \"Topic5\", \"Topic5\", \"Topic5\", \"Topic5\", \"Topic5\", \"Topic5\", \"Topic5\", \"Topic5\", \"Topic5\", \"Topic5\", \"Topic5\", \"Topic5\", \"Topic5\", \"Topic5\", \"Topic5\", \"Topic5\", \"Topic5\", \"Topic5\", \"Topic5\", \"Topic5\", \"Topic5\", \"Topic5\", \"Topic5\", \"Topic5\", \"Topic5\", \"Topic5\", \"Topic5\", \"Topic5\", \"Topic5\", \"Topic5\", \"Topic5\", \"Topic5\", \"Topic5\", \"Topic5\", \"Topic5\", \"Topic5\", \"Topic5\", \"Topic5\", \"Topic5\", \"Topic5\", \"Topic5\", \"Topic5\", \"Topic5\", \"Topic5\", \"Topic5\", \"Topic5\", \"Topic5\", \"Topic5\", \"Topic5\", \"Topic6\", \"Topic6\", \"Topic6\", \"Topic6\", \"Topic6\", \"Topic6\", \"Topic6\", \"Topic6\", \"Topic6\", \"Topic6\", \"Topic6\", \"Topic6\", \"Topic6\", \"Topic6\", \"Topic6\", \"Topic6\", \"Topic6\", \"Topic6\", \"Topic6\", \"Topic6\", \"Topic6\", \"Topic6\", \"Topic6\", \"Topic6\", \"Topic6\", \"Topic6\", \"Topic6\", \"Topic6\", \"Topic6\", \"Topic6\", \"Topic6\", \"Topic6\", \"Topic6\", \"Topic6\", \"Topic6\", \"Topic6\", \"Topic6\", \"Topic6\", \"Topic6\", \"Topic6\", \"Topic6\", \"Topic6\", \"Topic6\", \"Topic6\", \"Topic6\", \"Topic6\", \"Topic6\", \"Topic6\", \"Topic6\", \"Topic6\", \"Topic6\", \"Topic6\", \"Topic6\", \"Topic6\", \"Topic6\", \"Topic6\", \"Topic6\", \"Topic6\", \"Topic6\", \"Topic6\", \"Topic6\", \"Topic6\", \"Topic6\", \"Topic6\", \"Topic6\", \"Topic6\", \"Topic6\", \"Topic6\", \"Topic6\", \"Topic6\", \"Topic6\", \"Topic6\", \"Topic7\", \"Topic7\", \"Topic7\", \"Topic7\", \"Topic7\", \"Topic7\", \"Topic7\", \"Topic7\", \"Topic7\", \"Topic7\", \"Topic7\", \"Topic7\", \"Topic7\", \"Topic7\", \"Topic7\", \"Topic7\", \"Topic7\", \"Topic7\", \"Topic7\", \"Topic7\", \"Topic7\", \"Topic7\", \"Topic7\", \"Topic7\", \"Topic7\", \"Topic7\", \"Topic7\", \"Topic7\", \"Topic7\", \"Topic7\", \"Topic7\", \"Topic7\", \"Topic7\", \"Topic7\", \"Topic7\", \"Topic7\", \"Topic7\", \"Topic7\", \"Topic7\", \"Topic7\", \"Topic7\", \"Topic7\", \"Topic7\", \"Topic7\", \"Topic7\", \"Topic7\", \"Topic7\", \"Topic7\", \"Topic7\", \"Topic7\", \"Topic7\", \"Topic7\", \"Topic7\", \"Topic7\", \"Topic7\", \"Topic7\", \"Topic7\", \"Topic7\", \"Topic7\", \"Topic7\", \"Topic8\", \"Topic8\", \"Topic8\", \"Topic8\", \"Topic8\", \"Topic8\", \"Topic8\", \"Topic8\", \"Topic8\", \"Topic8\", \"Topic8\", \"Topic8\", \"Topic8\", \"Topic8\", \"Topic8\", \"Topic8\", \"Topic8\", \"Topic8\", \"Topic8\", \"Topic8\", \"Topic8\", \"Topic8\", \"Topic8\", \"Topic8\", \"Topic8\", \"Topic8\", \"Topic8\", \"Topic8\", \"Topic8\", \"Topic8\", \"Topic8\", \"Topic8\", \"Topic8\", \"Topic8\", \"Topic8\", \"Topic8\", \"Topic8\", \"Topic8\", \"Topic8\", \"Topic8\", \"Topic8\", \"Topic8\", \"Topic8\", \"Topic8\", \"Topic8\", \"Topic8\", \"Topic8\", \"Topic8\", \"Topic8\", \"Topic8\", \"Topic8\", \"Topic8\", \"Topic8\", \"Topic8\", \"Topic8\", \"Topic8\", \"Topic8\", \"Topic8\", \"Topic8\", \"Topic8\", \"Topic8\", \"Topic8\", \"Topic8\", \"Topic8\", \"Topic8\", \"Topic8\", \"Topic8\", \"Topic8\", \"Topic8\", \"Topic8\", \"Topic9\", \"Topic9\", \"Topic9\", \"Topic9\", \"Topic9\", \"Topic9\", \"Topic9\", \"Topic9\", \"Topic9\", \"Topic9\", \"Topic9\", \"Topic9\", \"Topic9\", \"Topic9\", \"Topic9\", \"Topic9\", \"Topic9\", \"Topic9\", \"Topic9\", \"Topic9\", \"Topic9\", \"Topic9\", \"Topic9\", \"Topic9\", \"Topic9\", \"Topic9\", \"Topic9\", \"Topic9\", \"Topic9\", \"Topic9\", \"Topic9\", \"Topic9\", \"Topic9\", \"Topic9\", \"Topic9\", \"Topic9\", \"Topic9\", \"Topic9\", \"Topic9\", \"Topic9\", \"Topic9\", \"Topic9\", \"Topic9\", \"Topic9\", \"Topic9\", \"Topic9\", \"Topic9\", \"Topic9\", \"Topic9\", \"Topic9\", \"Topic9\", \"Topic9\", \"Topic9\", \"Topic9\", \"Topic9\", \"Topic9\", \"Topic9\", \"Topic9\", \"Topic9\", \"Topic9\", \"Topic10\", \"Topic10\", \"Topic10\", \"Topic10\", \"Topic10\", \"Topic10\", \"Topic10\", \"Topic10\", \"Topic10\", \"Topic10\", \"Topic10\", \"Topic10\", \"Topic10\", \"Topic10\", \"Topic10\", \"Topic10\", \"Topic10\", \"Topic10\", \"Topic10\", \"Topic10\", \"Topic10\", \"Topic10\", \"Topic10\", \"Topic10\", \"Topic10\", \"Topic10\", \"Topic10\", \"Topic10\", \"Topic10\", \"Topic10\", \"Topic10\", \"Topic10\", \"Topic10\", \"Topic10\", \"Topic10\", \"Topic10\", \"Topic10\", \"Topic10\", \"Topic10\", \"Topic10\", \"Topic10\", \"Topic10\", \"Topic10\", \"Topic10\", \"Topic10\", \"Topic10\", \"Topic10\", \"Topic10\", \"Topic10\", \"Topic10\", \"Topic10\", \"Topic10\", \"Topic10\", \"Topic10\", \"Topic10\", \"Topic10\", \"Topic10\", \"Topic10\", \"Topic10\", \"Topic10\", \"Topic10\", \"Topic10\", \"Topic10\", \"Topic10\", \"Topic10\", \"Topic10\", \"Topic10\"], \"Freq\": [98710.0, 48996.0, 44001.0, 38730.0, 39908.0, 47623.0, 58148.0, 53818.0, 40363.0, 51938.0, 75448.0, 27108.0, 27919.0, 31223.0, 45290.0, 24523.0, 22960.0, 28931.0, 33866.0, 22152.0, 29255.0, 27306.0, 36670.0, 23319.0, 21047.0, 26130.0, 24420.0, 17774.0, 32483.0, 15332.0, 47622.361331127555, 21046.82900454251, 13920.83174089539, 7228.74654586807, 3109.7975704026044, 3061.6785553871473, 3138.586504103887, 2557.0727385785735, 2381.1148937112716, 2343.1937108743537, 2216.2423512617966, 2160.262374409899, 1823.8440228181396, 1801.3407110794333, 2145.4388282484933, 1517.2341138541083, 1401.8981532475523, 1379.7629273148132, 1422.6570026027487, 1367.9499304026708, 18128.197781297004, 1180.4207557570742, 1020.2755236539905, 995.2430015895495, 978.8610082067418, 947.5058967160347, 912.3523326191064, 907.2560130996757, 895.9217173736401, 867.7315814163754, 6396.930737269844, 9264.573271321695, 10965.640296978727, 2321.60200624116, 2473.010506397266, 2929.763220543928, 1382.819610205827, 24546.781499646495, 10318.471456028228, 16400.154808965475, 10972.394353743694, 8478.483718600128, 13372.911834960794, 10084.942214413375, 14370.894332897997, 12125.467141457078, 8802.384923773985, 6583.924888678601, 13437.273565102494, 19170.4754659306, 32847.19733285198, 29129.786419025993, 7153.992857728121, 39908.85918588957, 4038.942514448898, 8376.383306835516, 8696.725208543821, 13192.720355502559, 8237.611225979714, 5969.783598215324, 8066.490520043907, 7361.403924559823, 3354.471635431043, 1889.0232693699322, 1821.8167777506067, 1752.276646426464, 1524.7506545254887, 1319.834917184521, 1141.1992713464954, 1036.4393599337873, 912.3079705669863, 755.965668349197, 745.5071447769747, 732.619809078092, 703.3100091626673, 696.09473873321, 1249.2671178342628, 666.1223782007952, 660.5991581215563, 658.1494834463074, 670.7056070505326, 621.424513941547, 611.2849214296847, 605.5668808366263, 1616.8089340027607, 598.6909782297238, 576.6763061661185, 566.0965901221149, 546.3183369340986, 540.0729911455738, 536.7103604451139, 30569.8446760113, 7524.569064109026, 28089.011690367133, 833.6823276393793, 624.2735082278159, 21676.340197985628, 641.9390346064959, 10130.438219388318, 3705.220423213154, 3926.126617046042, 45576.60874619059, 3969.1765517695503, 2098.7436721893496, 2834.61706860651, 22722.72857188312, 4711.723714133021, 3055.8618382020904, 4920.591567068038, 13057.039652106143, 11527.070688168895, 10465.917978818281, 14335.484818099176, 10329.318323661313, 4995.32390315486, 47118.09755807577, 3391.1712520917135, 10801.315109557736, 7050.907389427966, 39159.34247301585, 26139.722161402748, 3577.4808751847468, 7972.123050994949, 7959.542353755982, 7665.333817261165, 11450.935746589952, 6470.47813650856, 10760.967939563396, 7586.784514647001, 7875.416228569456, 5704.537265721526, 6202.482969280337, 5220.120806627977, 5074.13936658103, 11647.643464014393, 9317.196807275996, 7270.4531925516585, 3620.9595538968033, 2622.501364207786, 2375.396419725039, 2162.957276260198, 1992.1345535661055, 1678.8380042547458, 2155.7855990211683, 1241.1631773210465, 1235.0138681808999, 1823.098115957644, 1086.9949908888552, 4243.43413084596, 2263.683266066223, 1017.5288235794293, 976.2589214177437, 1088.0387122147924, 959.5308273541862, 950.6838837697377, 895.4697830661831, 890.2316570571468, 817.4238828367178, 1011.264553991894, 778.8792851241516, 768.6677904091889, 773.6619934046173, 724.7974161249662, 707.4486454687491, 5470.122990626694, 1856.1077125895579, 94597.92950726014, 2961.286323781274, 919.6884557729686, 1017.196320641666, 3171.0300010061546, 2608.2088376916613, 13170.202066752487, 1323.2671661788204, 9263.009929971116, 2494.243347587351, 1327.2619047952962, 2333.2751356830613, 1551.0008211321779, 5038.925814057786, 5190.241128746904, 7072.962257737188, 17059.362979458638, 10956.336045017844, 1645.48409640025, 7010.200296932903, 6062.660332584145, 7568.634447020906, 6889.49352039768, 7597.5346965749095, 9633.550132874325, 16635.303024583493, 10296.443444942768, 26776.33315636465, 6688.530157101568, 6752.450737949916, 4246.385651637773, 15161.389024665026, 8306.97625941582, 8782.819619420916, 4570.506224398379, 4341.314078701345, 44000.65943986974, 22960.023042537352, 14544.09873273314, 9322.027654833724, 8747.060897226867, 8068.3259012809185, 4659.870038063603, 3070.373770131219, 1991.1434600145194, 1919.1988114465644, 1836.8987310595348, 1517.2999569646915, 1464.6952431792124, 1419.3473763304848, 1409.757294248268, 1367.3102741854168, 1252.0128640654314, 1257.6241081518256, 1082.5301375379454, 757.9416075797207, 724.8834216467931, 673.3230981528873, 27073.31121107506, 609.9735946983478, 593.5150248445225, 561.9635029084521, 560.7800227405666, 605.6872987043668, 512.5207255733521, 507.44213620867305, 4874.823024215001, 21525.276336147872, 27018.80438899804, 5814.720655883834, 1307.9877063503482, 3759.416258608352, 2782.517236051237, 1606.5415018533706, 1316.4975185159192, 5800.277308303406, 2110.3588491893092, 2855.2355832687713, 13823.446608542292, 2310.1858149089744, 23149.060993434177, 4877.018076588233, 3506.118761477321, 10987.733599933068, 3402.285491160029, 6758.783138753079, 3797.9940400218265, 4448.334771308278, 28153.69392282085, 7362.984015285687, 8696.321074408897, 4989.976504487759, 5292.331404323506, 7083.685600291564, 7241.9328047836125, 4550.535194416207, 3882.118224789676, 6473.721572136817, 5449.475460889829, 15329.54898086921, 3997.564505962931, 2372.4339990317517, 24512.43451739053, 1657.2320298822597, 3120.5925118754976, 1586.4677672763078, 1531.477973529613, 1400.4043240976182, 1822.5193520000194, 1362.8488573584557, 1171.6043903599993, 1101.6997381935216, 907.3169917677099, 888.7343698504365, 877.1195676460318, 861.2943086652532, 827.832564514231, 771.1490780687526, 745.1340577032166, 737.4067655779513, 665.4975699290952, 629.7374385818297, 598.5462785980519, 602.0087820087595, 543.644104340026, 531.845679870096, 528.7873522283035, 48900.98502034438, 1299.9331146293719, 1100.9630389462952, 1298.4403737371274, 38692.87838855979, 5079.627901699469, 2179.963902724607, 3347.7857240232643, 13361.460985824544, 2818.661524958505, 32313.554621458705, 8970.297521115695, 9106.990372709757, 1664.1319060353817, 3414.1034354046624, 14159.133973013397, 3957.1960437441076, 7129.179269473491, 4391.605440188707, 3394.895691568575, 4707.375388915908, 4514.854327739546, 5873.206311564147, 2687.3895579395717, 3217.4095425612863, 2583.9832703860543, 3042.5783115329727, 10775.748940058516, 16355.566562467257, 4178.966529650475, 7966.554525665691, 3373.033091570876, 6805.972334634586, 4354.947586445196, 4044.165993644517, 3403.1869548262325, 2145.406608782664, 1775.9529237864833, 1644.3112593716078, 1449.407742051582, 1289.4357867617146, 1215.0237867775486, 1212.2969880574228, 1026.1840804183437, 999.2753800803412, 969.006531944726, 954.5242948417581, 929.6035561853914, 863.9472415440675, 848.1103472065512, 1816.2178933909393, 831.4476417004221, 826.5066214106482, 1554.8647936034486, 723.1305797014918, 717.0238766063571, 708.7748569669985, 704.0635378595484, 643.9692565529974, 643.8116386571159, 641.8126727466882, 674.0409675245702, 635.6557690265561, 604.9471095990978, 593.0240065282004, 591.5892350347075, 1729.1926873858145, 1268.9575943187704, 939.8582447160189, 1728.6116081365874, 723.6489230984263, 674.1777832965704, 14018.703410948492, 7646.196501863985, 1143.539074671434, 3310.967951261683, 883.1899601676193, 775.2169283427245, 19047.565611401922, 951.9971646074816, 33746.20651853059, 7775.415432499867, 2466.8294348928266, 4273.63130749491, 3327.1132560476044, 8020.001437318951, 1664.985829842086, 1991.0273529586862, 2819.1104536414905, 2467.6835049420315, 3369.8677558904105, 6881.956013593127, 24263.744379515283, 14348.422932346894, 11628.509032292119, 7716.423585934582, 2259.53298637549, 2588.4525065835346, 3990.8270843425626, 4600.264548305333, 2408.395763026043, 4344.256582667332, 3527.5916828888858, 3153.3162389927916, 3077.0701719563895, 2196.361727153336, 2305.151509066221, 2165.6986135046386, 38729.97387336448, 3750.5402671413726, 3722.2650173443058, 3291.934865885788, 3088.477589964294, 2610.9070566883993, 2090.464732066549, 1876.9004118387259, 1744.1057956294144, 2430.8902501344232, 3131.9622232867564, 1466.086495121546, 1397.2774317844287, 1348.2388227016513, 1208.8963633073477, 1202.6883211255167, 1114.847881048837, 1073.9208857483045, 1042.6913172484785, 1081.1940573371635, 1001.5397914943356, 1223.736087099744, 973.1216079353491, 968.4081918354904, 920.1844308808035, 895.7890108178665, 827.1244581358188, 822.9911142442928, 807.9008610202764, 790.172484784094, 4980.803667286295, 3816.4292003256733, 1670.9766904264875, 1770.2351145355904, 5534.258469879563, 3813.6078259441188, 2766.0279636557684, 8142.206633436771, 4380.423785585296, 2226.551882344013, 2469.598198624844, 16692.074787874833, 4215.646204524352, 10213.420554439092, 13867.663626611735, 4294.008475704934, 5808.570311124249, 3794.2639993615385, 3760.5995183755713, 7822.967659744994, 22178.979350692854, 4798.077945291651, 3962.4689018758972, 12625.47323514882, 12447.775627119709, 8276.0364708287, 3555.9449970549763, 3677.3017653363972, 2878.6400695652537, 3152.774443371853, 3129.378075203629, 3030.9465405347487, 3604.768289426024, 1986.763410190596, 1889.8067694377294, 1791.9387120305266, 1542.2406154520015, 1534.9598212018973, 1469.9035308354973, 1241.0859625158325, 1181.3669533227924, 970.1903701709705, 1751.4164230603897, 921.0737648832762, 916.5665902351157, 879.1503017529499, 831.0885782234578, 823.0891209003948, 804.4242002997352, 767.7332321154623, 752.9070812007683, 665.638668697872, 647.552244655587, 653.7877256735173, 620.8520664878133, 614.093438283063, 596.383630162347, 593.9243183329756, 591.0114459915667, 588.589210889002, 4404.830492675536, 1695.6138714853903, 1250.4735568560236, 1386.2308154904524, 779.2443828671647, 1295.1446342305, 1180.565653375276, 1410.3269666487877, 1060.3175758464656, 2325.6836921501085, 2922.1448585609496, 1911.349222563934, 2592.858815349622, 19189.884978255555, 2601.1588987877835, 7210.108655763921, 4586.234797243899, 1291.7939206653373, 9933.691457981022, 3599.502644822379, 9039.993769626912, 4194.830658866731, 3154.790814519419, 1829.912058351712, 17864.76365356114, 1796.9671992954861, 6380.806577857251, 4944.972749275724, 2589.695677134485, 3915.0337547480335, 5887.443867877049, 4418.304781199093, 2734.7580134409195, 2991.3636094517574, 3713.2862056370386, 2654.4730534568293, 2443.9514206485514, 2559.6248017378603, 2199.0751779573443, 2235.254938807096, 7757.251776475797, 11995.725502734906, 1589.8286045206237, 1534.5730153596899, 1157.1204769913659, 1914.4807998983738, 1068.4844325912281, 1000.5197529926354, 988.5519178895364, 939.6426203146528, 2284.543122788668, 838.6052922617896, 829.4807890081579, 806.7748397578996, 858.1731015760979, 755.5729630408903, 697.8777120956182, 695.0016751634203, 697.6591235855935, 656.8451269737758, 648.9088870582011, 644.4707109574167, 623.736641615727, 658.3442497373471, 612.2475916743458, 555.5618839952516, 544.447850182349, 543.9317387108235, 523.1755901469018, 569.6771273095239, 1659.362179379858, 864.4300016092061, 7849.365063649184, 2685.4632338708007, 2751.3982824487266, 953.0455323279929, 12949.987597695304, 9335.316616493383, 10287.713312865539, 6489.592917336769, 9305.746428804187, 10553.957272964815, 4202.130735967097, 8671.00591715266, 4435.084336898797, 19307.302064609077, 13762.303700039452, 2759.531429270349, 1192.177832684687, 1947.4793046926095, 3466.54690851172, 5165.907707884669, 2910.2942923748683, 1889.4457857867149, 4042.23133485207, 7180.531179032745, 4393.59002318005, 2492.946755330311, 2816.61183282607, 2389.7964660674593, 2958.2828931566014, 2530.7888487456235, 5832.089497452256, 1462.4848433899788, 1431.7233326140342, 1115.0131574174986, 1021.4064077688816, 978.9082092640259, 963.7922464613602, 897.0781899286145, 895.151170021465, 887.7371256538161, 909.0934833375338, 830.4611024982014, 785.6698126646597, 755.5661682436883, 655.107112110662, 642.8331439337477, 635.2299502112409, 660.1642051224497, 671.8715345807555, 553.5467284637848, 548.9325957261995, 541.7564556544962, 537.7613574036054, 534.3338157956686, 531.2958198528927, 510.7064874575095, 502.23209050419695, 488.33582265892505, 1776.0699104616563, 6768.940817228375, 2642.1677802948057, 1878.930379513701, 2380.5394933316206, 35370.80512856114, 813.5940267837714, 875.3376731504576, 3916.4539916062936, 3486.6931910544085, 4780.012375760044, 14086.595818671993, 1124.8639571142096, 1140.5432619845408, 2725.286122839069, 3105.794065654215, 8038.30684159811, 30400.106917695535, 16169.338248686618, 2540.7641812334928, 1911.1463626519806, 1270.4648490612472, 2812.9097250619443, 3018.12535840942, 1768.9058234840297, 4419.093305092324, 1963.0202039833653, 1864.7776875968552, 2776.3432764490585, 2173.5189342767435, 6814.3731633461275, 5484.34302941118, 2080.836924771101, 2293.2951016551974, 1928.6979401005024, 2043.4589365722597, 2100.994594904428], \"Term\": [\"file\", \"class\", \"table\", \"image\", \"app\", \"page\", \"user\", \"function\", \"object\", \"datum\", \"error\", \"database\", \"column\", \"string\", \"method\", \"\\n  \", \"query\", \"array\", \"server\", \"row\", \"project\", \"button\", \"application\", \"variable\", \"html\", \"form\", \"view\", \"android\", \"list\", \"model\", \"page\", \"html\", \"jquery\", \"ajax\", \"pdf\", \"checkbox\", \"chrome\", \"wordpress\", \"ie\", \"firefox\", \"webpage\", \"font\", \"iframe\", \"popup\", \"dropdown\", \"page_load\", \"redirect\", \"dom\", \"radio_button\", \"theme\", \"url\", \"input_field\", \"footer\", \"ajax_request\", \"spinner\", \"emulator\", \"submit_button\", \"textfield\", \"onclick\", \"textarea\", \"js\", \"tag\", \"browser\", \"cookie\", \"widget\", \"textbox\", \"text_box\", \"form\", \"website\", \"javascript\", \"site\", \"div\", \"link\", \"event\", \"php\", \"content\", \"post\", \"css\", \"button\", \"user\", \"code\", \"not\", \"web\", \" \", \"session\", \"script\", \"element\", \"problem\", \"text\", \"option\", \"function\", \"character\", \"regex\", \"letter\", \"struct\", \"char\", \"arraylist\", \"qt\", \"assignment\", \"bitmap\", \"datagridview\", \"unicode\", \"haskell\", \"programmer\", \"tooltip\", \"occurrence\", \"f\", \"iterator\", \"\\n          \", \"boost\", \"internet_explorer\", \"stop\", \"edittext\", \"zip_file\", \"operator\", \"const\", \"true_false\", \"end\", \"z\", \"segmentation_fault\", \"substring\", \"string\", \"word\", \"array\", \"sentence\", \"data_structure\", \"variable\", \"access_token\", \"loop\", \"int\", \"integer\", \"function\", \"pointer\", \"double\", \"expression\", \"line\", \"argument\", \"length\", \"c++\", \"output\", \"program\", \"input\", \"number\", \"c\", \"statement\", \"code\", \"space\", \"text\", \"python\", \" \", \"not\", \"return\", \"value\", \"result\", \"type\", \"problem\", \"wrong\", \"error\", \"question\", \"time\", \"case\", \"method\", \"java\", \"simple\", \"folder\", \"directory\", \"windows\", \"linux\", \"dll\", \"git\", \"ubuntu\", \"terminal\", \"shell\", \"iis\", \"executable\", \"gcc\", \"installation\", \"ip_address\", \"machine\", \"host\", \"docker\", \"nginx\", \"vm\", \"magento\", \"ssh\", \"backup\", \"installer\", \"svn\", \"commit\", \"laptop\", \"cmd\", \"tfs\", \"vim\", \"environment_variable\", \"visual_studio\", \"mac\", \"file\", \"computer\", \"file,\\\"i\", \"cpu\", \"command_line\", \"port\", \"command\", \"install\", \"path\", \"apache\", \"pc\", \"remote\", \"branch\", \"local\", \"package\", \"process\", \"server\", \"script\", \"vs\", \"system\", \"source\", \"python\", \"window\", \"version\", \"project\", \"error\", \"application\", \" \", \"program\", \"java\", \"log\", \"not\", \"problem\", \"code\", \"fine\", \"output\", \"table\", \"query\", \"date\", \"record\", \"mysql\", \"sql\", \"sql_server\", \"procedure\", \"datetime\", \"oracle\", \"sql_query\", \"timestamp\", \"clause\", \"sqlite\", \"join\", \"price\", \"calendar\", \"datatable\", \"postgresql\", \"distinct\", \"stored_procedure\", \"drive\", \"database\", \"ant\", \"quantity\", \"snapshot\", \"delphi\", \"userid\", \"grunt\", \"department\", \"product\", \"row\", \"column\", \"db\", \"employee\", \"category\", \"insert\", \"csv\", \"foreign_key\", \"group\", \"schema\", \"report\", \"field\", \"month\", \"datum\", \"id\", \"select\", \"result\", \"entry\", \"data\", \"day\", \"index\", \" \", \"value\", \"time\", \"order\", \"multiple\", \"user\", \"not\", \"number\", \"problem\", \"entity\", \"\\n    \", \"model\", \"\\n      \", \"\\n        \", \"\\n  \", \"annotation\", \"constructor\", \"helper\", \"\\n    _\\n  \", \"bean\", \"transaction\", \"hibernate\", \"jsp\", \"firebase\", \"promise\", \"typescript\", \"base_class\", \"colour\", \"management\", \"association\", \"vertex\", \"\\n     \", \"validator\", \"inheritance\", \"anonymous\", \"spring_mvc\", \"reflection\", \"singleton\", \"frequency\", \"class\", \"enum\", \"async\", \"servlet\", \"object\", \"collection\", \"relationship\", \"member\", \"property\", \"spring\", \"method\", \"controller\", \"exception\", \"boolean\", \"context\", \"type\", \"interface\", \"instance\", \"attribute\", \"static\", \"null\", \"reference\", \"parameter\", \"django\", \"parent\", \"route\", \"child\", \"error\", \" \", \"custom\", \"not\", \"action\", \"code\", \"view\", \"java\", \"problem\", \"angularjs\", \"contact\", \"unit_test\", \"maven\", \"gem\", \"sound\", \"debugging\", \"heroku\", \"logcat\", \"viewcontroller\", \"breakpoint\", \"worker\", \"repo\", \"cloud\", \"namespace\", \"router\", \"batch_file\", \"bundle\", \"c_c++\", \"jenkins\", \"jboss\", \"origin\", \"pass\", \"consumer\", \"nhibernate\", \"alias\", \"gradient\", \"flask\", \"limitation\", \"arbitrary\", \"audio\", \"history\", \"city\", \"tomcat\", \"fatal_error\", \"material\", \"test\", \"module\", \"ng\", \"dependency\", \"test_case\", \"spec\", \"project\", \"failure\", \"error\", \"library\", \"angular\", \"plugin\", \"rail\", \"version\", \"swift\", \"ruby\", \"framework\", \"eclipse\", \"resource\", \"issue\", \" \", \"not\", \"code\", \"problem\", \"tutorial\", \"configuration\", \"fine\", \"application\", \"console\", \"app\", \"solution\", \"wrong\", \"idea\", \"build\", \"log\", \"time\", \"image\", \"height\", \"width\", \"animation\", \"frame\", \"listview\", \"canvas\", \"camera\", \"center\", \"fragment\", \"icon\", \"circle\", \"textview\", \"marker\", \"background_color\", \"svg\", \"background_image\", \"imageview\", \"black\", \"tableview\", \"white\", \"xaml\", \"overlay\", \"listbox\", \"graphic\", \"touch\", \"safari\", \"padding\", \"opengl\", \"width_height\", \"color\", \"picture\", \"wpf\", \"photo\", \"layout\", \"grid\", \"left\", \"screen\", \"label\", \"view_controller\", \"bar\", \"view\", \"position\", \"item\", \"button\", \"activity\", \"size\", \"background\", \"cell\", \"text\", \" \", \"window\", \"control\", \"not\", \"code\", \"problem\", \"custom\", \"android\", \"menu\", \"list\", \"matrix\", \"n\", \"excel\", \"sheet\", \"|\", \"plot\", \"pixel\", \"directive\", \"formula\", \"combobox\", \"axis\", \"score\", \"matlab\", \"rectangle\", \"tile\", \"datagrid\", \"office\", \"foreach\", \"xpath\", \"sprite\", \"min\", \"spreadsheet\", \"segment\", \"cycle\", \"degree\", \"\\n         \", \"na\", \"phpmyadmin\", \"x_axis\", \"clojure\", \"r\", \"macro\", \"linq\", \"speed\", \"cost\", \"maximum\", \"dataframe\", \"vba\", \"distance\", \"graph\", \"algorithm\", \"t\", \"range\", \"list\", \"vector\", \"point\", \"b\", \"float\", \"element\", \"x\", \"value\", \"set\", \"cell\", \"fast\", \" \", \"book\", \"time\", \"number\", \"large\", \"item\", \"datum\", \"question\", \"order\", \"result\", \"not\", \"solution\", \"  \", \"code\", \"data\", \"problem\", \"node\", \"json\", \"scala\", \"regular_expression\", \"interval\", \"queue\", \"parser\", \"packet\", \"digit\", \"sharepoint\", \"socket\", \"sorry\", \"spark\", \"decimal\", \"architecture\", \"3d\", \"xslt\", \"power\", \"tuple\", \"emacs\", \"redis\", \"hex\", \"solr\", \"pool\", \"movie\", \"find\", \"json_response\", \"bluetooth\", \"services\", \"phone_number\", \"buffer\", \"analysis\", \"thread\", \"dictionary\", \"stream\", \"rest_api\", \"client\", \"key\", \"xml\", \"response\", \"request\", \"api\", \"map\", \"message\", \"document\", \"datum\", \"server\", \"address\", \"endpoint\", \"http\", \"connection\", \"data\", \"location\", \"network\", \"time\", \" \", \"code\", \"java\", \"not\", \"problem\", \"notification\", \"web_service\", \"email\", \"android_studio\", \"mail\", \"factory\", \"simulator\", \"delegate\", \"gradle\", \"square\", \"email_address\", \"ad\", \"nil\", \"date_format\", \"subscription\", \"apk\", \"ionic\", \"unix\", \"locale\", \"oauth\", \"soap\", \"data_frame\", \"observable\", \"select_statement\", \"datum_frame\", \"administrator\", \"hashmap\", \"shortcut\", \"wsdl\", \"react_native\", \"proxy\", \"device\", \"authentication\", \"apps\", \"phone\", \"app\", \"cakephp\", \"ios_app\", \"account\", \"password\", \"ios\", \"android\", \"apple\", \"webservice\", \"iphone\", \"facebook\", \"service\", \"user\", \"application\", \"xcode\", \"sdk\", \"role\", \"domain\", \"login\", \"native\", \"api\", \"permission\", \"mobile\", \"google\", \"store\", \" \", \"not\", \"access\", \"question\", \"activity\", \"time\", \"code\"], \"Total\": [98710.0, 48996.0, 44001.0, 38730.0, 39908.0, 47623.0, 58148.0, 53818.0, 40363.0, 51938.0, 75448.0, 27108.0, 27919.0, 31223.0, 45290.0, 24523.0, 22960.0, 28931.0, 33866.0, 22152.0, 29255.0, 27306.0, 36670.0, 23319.0, 21047.0, 26130.0, 24420.0, 17774.0, 32483.0, 15332.0, 47623.203561531416, 21047.67599466137, 13921.674935674528, 7229.587588763117, 3110.6387821427325, 3062.5198626366764, 3139.455039480321, 2557.9137173957297, 2381.9647234468525, 2344.0346435322444, 2217.0832740996416, 2161.103291588378, 1824.6848632187916, 1802.1816122542436, 2146.4966927197893, 1518.0749938925871, 1402.7391035493297, 1380.6039658102868, 1423.5294748264623, 1368.791596723435, 18139.880007012063, 1181.2625092278652, 1021.1164153061147, 996.0839092367786, 979.7020581011327, 948.3470014953934, 913.1931860381142, 908.0990145319201, 896.7626335756499, 868.5724865783791, 6409.007578858081, 9325.868646088917, 11068.40466115008, 2324.663892106095, 2479.8398809432433, 2957.7516868496937, 1387.5083484384304, 26130.041383532327, 11193.55619354973, 18179.983141148005, 12436.718524612168, 9782.474365476732, 16150.507054435759, 12734.529999862589, 21462.647134495342, 17578.56169236859, 12242.488796993508, 9054.959900027017, 27306.51340572359, 58148.818749623104, 132305.49787276654, 124627.52217091306, 13754.287496015006, 228656.18702670632, 5543.058665921138, 20582.92594562804, 22191.01039786713, 62727.656152046, 26883.571291442473, 14032.163103220068, 53818.066819075066, 7362.251595073808, 3355.3152841498277, 1889.8669713405234, 1822.6604232499915, 1753.1203057172945, 1525.6427018990275, 1320.6826599999422, 1142.044069509471, 1037.2831273554928, 913.1517339596409, 756.8132921442532, 746.3508146025714, 733.4636728228484, 704.1537199450671, 696.9384761500286, 1250.811925684348, 666.9660442322743, 661.4429072510071, 658.9932081382335, 671.5702097941954, 622.2686118567664, 612.1286397731783, 606.4107100224613, 1619.0628883982592, 599.5346514442186, 577.5200694123655, 566.9403945532266, 547.1631296605786, 540.9166236977073, 537.5540237550034, 31223.510664664132, 7615.184752576803, 28931.747135615864, 835.4103085232658, 625.2609727824755, 23319.200946171575, 643.5916043752707, 10760.018899592, 3863.3223262212123, 4127.701253264281, 53818.066819075066, 4238.5776071513155, 2201.5851529230413, 3114.501765456353, 30290.848321918158, 5606.488119213918, 3599.1886904407647, 6503.354425973517, 20877.548068951706, 18329.37437318667, 16378.222057131285, 24330.991530502066, 16616.75320208008, 7271.488382218404, 132305.49787276654, 4852.575530945369, 26883.571291442473, 15453.56460716735, 228656.18702670632, 124627.52217091306, 5962.496653712324, 25826.841002048932, 27135.381365331607, 25492.530879196915, 62727.656152046, 20172.051036900863, 75448.51722799955, 31180.786986055144, 42508.21676644666, 17123.05226220849, 45290.13771966209, 19414.428222614013, 19706.393395490806, 11648.509272887783, 9318.20534892736, 7271.299946987977, 3621.802117629427, 2623.3436702447384, 2376.2424712202983, 2163.802089217569, 1992.9775107020357, 1679.6925071829828, 2157.214930297196, 1242.0054877816933, 1235.8562105876908, 1824.450201413915, 1087.8389626650314, 4246.889555694027, 2265.535205621348, 1018.3710456412504, 977.1014155502781, 1088.9910261837413, 960.3732056458431, 951.526299717704, 896.3121113743678, 891.0738974853998, 818.266133116396, 1012.3500796866174, 779.723429405746, 769.5102151430712, 774.5344663708952, 725.6396658753738, 708.2908983884098, 5522.010704235775, 1858.79905394861, 98710.28018872821, 2998.51354803408, 921.0205057127301, 1020.1012748129416, 3234.016107378317, 2653.2892386118688, 14059.761352377283, 1337.1915559961471, 10113.339144331752, 2581.8051935092803, 1358.842792055138, 2565.21526099036, 1631.841618528491, 6360.3409721663875, 7054.036883585196, 10643.886633238215, 33866.34026792047, 20582.92594562804, 1784.81771646895, 12990.45148732094, 11086.188261377114, 15453.56460716735, 13910.9719788309, 17768.309357114384, 29255.465503808588, 75448.51722799955, 36670.77643239237, 228656.18702670632, 18329.37437318667, 19414.428222614013, 7598.1810782754055, 124627.52217091306, 62727.656152046, 132305.49787276654, 22211.557542675626, 20877.548068951706, 44001.58224416984, 22960.867463690804, 14544.942935842273, 9322.873733607375, 8747.90497523293, 8069.1698142478845, 4660.714001806308, 3071.2178425456377, 1992.008048587591, 1920.0619227973987, 1837.7425603418862, 1518.143920216582, 1465.5391421102977, 1420.1956061404098, 1410.6011439567358, 1368.1542389118156, 1252.8567866030403, 1258.475960035779, 1083.3740182730646, 758.7855405177907, 725.7272441627939, 674.1671962499522, 27108.814266141177, 610.817630428556, 594.3694513519692, 562.8076602208993, 561.6240628192537, 606.6008668183579, 513.3647363092034, 508.28671604466746, 4932.283325991769, 22152.461066746404, 27919.51975798239, 6051.101958950986, 1323.506765855768, 3905.251721981053, 2874.17519091672, 1652.2653403085565, 1358.096913508953, 6541.8480225605135, 2246.0885173480806, 3165.227519382214, 21731.38924451286, 2645.6579361081335, 51938.26532683499, 7753.876131729675, 5151.44963770859, 27135.381365331607, 4987.750106428148, 15726.314112812279, 6490.642274968055, 8542.814327329772, 228656.18702670632, 25826.841002048932, 42508.21676644666, 13427.508928522086, 18023.92781402343, 58148.818749623104, 124627.52217091306, 24330.991530502066, 62727.656152046, 6474.570588344981, 5450.320194906788, 15332.271311257957, 3998.4092585415583, 2373.2796427733206, 24523.026311643367, 1658.0767041601835, 3122.267896485765, 1587.3418884295922, 1532.322582800131, 1401.2501849178564, 1823.6220227803017, 1363.6935350087062, 1172.4491162448944, 1102.5445543531148, 908.1617137127971, 889.5791676180672, 877.9642116124185, 862.1391838322697, 828.6774918419695, 771.9937907491343, 745.9789301110001, 738.2515380371533, 666.3423024351171, 630.5820930451495, 599.3909781111923, 602.8606273965431, 544.4889954700367, 532.6903564839156, 529.6323772357608, 48996.90211913271, 1302.6221189904306, 1103.178831462256, 1305.6128350887213, 40363.18038323216, 5227.6236680061775, 2269.786705532058, 3578.833350687968, 15622.911186040494, 3126.006466721463, 45290.13771966209, 11314.48161383678, 12180.176989944095, 1821.0403303865498, 4173.355476632932, 25492.530879196915, 5346.266584720331, 11728.44409453614, 7262.856325351418, 5065.454598631841, 8598.566399173687, 8187.030718500249, 13353.456841580944, 4019.127955121309, 5653.4758363112915, 3844.137372916774, 5329.5140569322975, 75448.51722799955, 228656.18702670632, 14052.20040818001, 124627.52217091306, 7671.568377746447, 132305.49787276654, 24420.04782173553, 19414.428222614013, 62727.656152046, 2146.275764188017, 1776.8117891943587, 1645.154528466689, 1450.259801119547, 1290.290847562095, 1215.8672762519548, 1213.1406068379645, 1027.0273784098943, 1000.1196946865097, 969.8499655914767, 955.3676432476802, 930.446905815648, 864.7905246572257, 848.95372954291, 1818.0256408558284, 832.291122803643, 827.3499644404942, 1556.6725152370063, 723.9739881187758, 717.8671380418548, 709.6190117038226, 704.9069850876033, 644.8128208098366, 644.6550218344765, 642.6560270129601, 674.9300291798941, 636.4992682048702, 605.7913290334238, 593.867518300489, 592.4328397982156, 1732.3752871229663, 1271.6877962878118, 941.3687978937306, 1747.3904754845114, 725.15552099309, 675.1398825687809, 14483.179525662801, 8120.163606265219, 1162.5945930353182, 3502.1120597601325, 896.0617134237255, 780.4841164468761, 29255.465503808588, 1000.9710942717829, 75448.51722799955, 13065.12303721611, 3350.1422063123, 6798.268437520453, 5110.671834574283, 17768.309357114384, 2143.1304847305346, 2749.044893712134, 4637.699109097257, 4125.244168168522, 6850.880333059773, 24462.95777408532, 228656.18702670632, 124627.52217091306, 132305.49787276654, 62727.656152046, 4722.536972460844, 6507.79396458977, 22211.557542675626, 36670.77643239237, 6003.936087013129, 39908.16001550375, 21953.82361992447, 20172.051036900863, 21555.069758402944, 4887.9046087254255, 7598.1810782754055, 42508.21676644666, 38730.9887999021, 3751.38618167635, 3723.1100605296874, 3292.779905502368, 3089.4899374679258, 2611.8456143703897, 2091.3162064221947, 1877.7454880516161, 1744.9509155774301, 2432.2246387563796, 3133.6854411922145, 1466.93155017582, 1398.1224738791252, 1349.0839022605144, 1209.741387413711, 1203.5333606641389, 1115.6928929041856, 1074.7658895549564, 1043.5363976490823, 1082.0945472168887, 1002.3848888060694, 1224.7911461867438, 973.9666563430924, 969.2648705000685, 921.031404412325, 896.6340817337584, 827.9696180791309, 823.8362457563572, 808.7459295194099, 791.0175164623635, 4991.727308799331, 3837.165452864737, 1673.3335995087625, 1778.049036003805, 5686.533195970502, 3998.315964755667, 2882.348146900965, 8909.374942263297, 4671.320487974593, 2388.66943372715, 2726.1713417231767, 24420.04782173553, 5454.86899748776, 16925.30156235472, 27306.51340572359, 6223.588359154912, 9750.821685089804, 5669.059767996427, 6918.339766078369, 26883.571291442473, 228656.18702670632, 13910.9719788309, 9395.616528622897, 124627.52217091306, 132305.49787276654, 62727.656152046, 14052.20040818001, 17774.397722245358, 5586.89756586107, 32483.245022946237, 3130.2223076591954, 3031.9285379207186, 3605.9702312607265, 1987.6075663012225, 1890.6509951715516, 1792.7832705196388, 1543.0874371559987, 1535.80401697217, 1470.783553952592, 1241.9301069578628, 1182.211090238879, 971.0346722371465, 1752.952000848711, 921.9178902875236, 917.4107693613836, 879.9944770198616, 831.932845952448, 823.9333559805046, 805.2683644117615, 768.5773879318591, 753.7548608593355, 666.482804816365, 648.3965737205967, 654.6489661769642, 621.6962248699382, 614.9376967135095, 597.2288982462652, 594.7686114093217, 591.8556637253178, 589.4333848408194, 4412.223967633981, 1701.612563583495, 1253.6957903703608, 1416.6143009989478, 784.8759142783429, 1332.6104199151393, 1214.58665884422, 1485.0578316337803, 1103.1123288081042, 2600.1055060654303, 3344.949903492446, 2101.435388994432, 2985.6458998116573, 32483.245022946237, 3205.451306618633, 11232.467050231488, 6549.557239281338, 1426.5535453858238, 22191.01039786713, 6110.723671358547, 25826.841002048932, 9048.43414554296, 6918.339766078369, 2599.5926307577834, 228656.18702670632, 2547.000354819777, 42508.21676644666, 24330.991530502066, 6081.498963150431, 16925.30156235472, 51938.26532683499, 31180.786986055144, 13427.508928522086, 27135.381365331607, 124627.52217091306, 21953.82361992447, 20194.966053618522, 132305.49787276654, 15726.314112812279, 62727.656152046, 7758.243759791766, 11998.395764182082, 1590.6740395144266, 1535.4182705087858, 1157.9909234520492, 1915.9687529638618, 1069.329774988305, 1001.3648996481743, 989.3971732534665, 940.4878823862513, 2286.8142658355564, 839.4507300823972, 830.3259766384812, 807.6201097420682, 859.0796556434267, 756.418257013287, 698.7228878864788, 695.8470400338999, 698.5223124943028, 657.6903647627926, 649.7541324406267, 645.3159726165297, 624.5818097225815, 659.238319708346, 613.0928613698358, 556.4072476915441, 545.2930286249376, 544.7769704650728, 524.0209073963823, 570.6944713384622, 1672.8011788796034, 867.9848788636334, 8327.145982809041, 2796.7828750015196, 2872.232895250851, 968.3577732486158, 14783.120673914364, 10526.487922629189, 11696.031041823171, 7910.143031447869, 12907.775986309767, 15090.49321564893, 5866.7699237403, 14567.104935589421, 7340.778734680321, 51938.26532683499, 33866.34026792047, 4534.260868246479, 1411.7093497192473, 3145.2501596212237, 8015.78871510534, 15726.314112812279, 6203.1887468081195, 3175.98379620028, 42508.21676644666, 228656.18702670632, 132305.49787276654, 19414.428222614013, 124627.52217091306, 62727.656152046, 2959.1344858303546, 2531.634391445786, 5834.360783948638, 1463.3294729934435, 1432.5680900227671, 1115.857867642128, 1022.2510491867529, 979.7528800035507, 964.6369063700931, 897.9231371147794, 895.9971116222227, 888.5817531494376, 909.9628404238914, 831.3061730398579, 786.5145150159201, 756.4107615577724, 655.95173574413, 643.6779096336148, 636.0749070448763, 661.0498664222326, 672.7845468059496, 554.391501546409, 549.7772520482459, 542.6013259075149, 538.6066118581023, 535.1793964535226, 532.1405486802197, 511.5536083328548, 503.0767111918873, 489.1806494616655, 1788.126973806032, 6910.057232647708, 2672.7737170263417, 1909.796524383438, 2455.2858282937505, 39908.16001550375, 823.2956945658949, 892.4176665034787, 4311.041284019336, 3879.397243011148, 5477.822868423043, 17774.397722245358, 1176.2520141175748, 1201.8479474493652, 3194.063923737815, 3850.5729412200963, 11993.386387260027, 58148.818749623104, 36670.77643239237, 3463.6860470617344, 2484.4711662490427, 1472.6539718371268, 4751.1756722504615, 5269.929708351615, 2453.755236299904, 15090.49321564893, 3377.4784078915895, 3175.9182795550814, 7175.461491872777, 4951.88161566583, 228656.18702670632, 124627.52217091306, 8092.315734232223, 31180.786986055144, 6223.588359154912, 42508.21676644666, 132305.49787276654], \"loglift\": [30.0, 29.0, 28.0, 27.0, 26.0, 25.0, 24.0, 23.0, 22.0, 21.0, 20.0, 19.0, 18.0, 17.0, 16.0, 15.0, 14.0, 13.0, 12.0, 11.0, 10.0, 9.0, 8.0, 7.0, 6.0, 5.0, 4.0, 3.0, 2.0, 1.0, 1.9003, 1.9003, 1.9003, 1.9002, 1.9001, 1.9001, 1.9, 1.9, 1.9, 1.9, 1.8999, 1.8999, 1.8999, 1.8999, 1.8998, 1.8998, 1.8997, 1.8997, 1.8997, 1.8997, 1.8997, 1.8996, 1.8995, 1.8995, 1.8995, 1.8994, 1.8994, 1.8994, 1.8994, 1.8994, 1.8984, 1.8937, 1.891, 1.899, 1.8976, 1.8908, 1.8969, 1.8378, 1.8189, 1.7973, 1.7751, 1.7573, 1.7116, 1.6671, 1.4992, 1.529, 1.5704, 1.5816, 1.1912, 0.7907, 0.5071, 0.4468, 1.2466, 0.1547, 1.5838, 1.0013, 0.9636, 0.3412, 0.7175, 1.0457, 0.0024, 2.0527, 2.0526, 2.0524, 2.0524, 2.0523, 2.0522, 2.0522, 2.0521, 2.052, 2.0519, 2.0517, 2.0517, 2.0517, 2.0516, 2.0516, 2.0516, 2.0516, 2.0515, 2.0515, 2.0515, 2.0515, 2.0514, 2.0514, 2.0514, 2.0514, 2.0514, 2.0513, 2.0513, 2.0513, 2.0513, 2.0317, 2.0409, 2.0233, 2.0508, 2.0512, 1.9798, 2.0503, 1.9925, 2.011, 2.0028, 1.8866, 1.9872, 2.005, 1.9587, 1.7653, 1.879, 1.8892, 1.7739, 1.5835, 1.589, 1.605, 1.5238, 1.5774, 1.6774, 1.0204, 1.6945, 1.141, 1.2681, 0.2882, 0.491, 1.542, 0.8774, 0.8264, 0.8511, 0.3521, 0.9158, 0.1053, 0.6394, 0.3669, 0.9537, 0.0647, 0.7393, 0.696, 2.0942, 2.0942, 2.0942, 2.0941, 2.094, 2.0939, 2.0939, 2.0939, 2.0938, 2.0936, 2.0936, 2.0936, 2.0936, 2.0935, 2.0935, 2.0935, 2.0935, 2.0934, 2.0934, 2.0934, 2.0934, 2.0934, 2.0933, 2.0933, 2.0932, 2.0932, 2.0932, 2.0932, 2.0931, 2.0931, 2.0849, 2.0928, 2.0517, 2.0818, 2.0928, 2.0914, 2.0746, 2.0772, 2.0289, 2.0838, 2.0065, 2.0598, 2.0708, 1.9995, 2.0435, 1.8614, 1.7875, 1.6856, 1.4086, 1.4637, 2.013, 1.4774, 1.4907, 1.3805, 1.3916, 1.2447, 0.9835, 0.5824, 0.8241, -0.0504, 1.0862, 1.0382, 1.5125, -0.0123, 0.0726, -0.618, 0.5133, 0.5238, 2.3273, 2.3273, 2.3273, 2.3272, 2.3272, 2.3272, 2.3271, 2.327, 2.3269, 2.3269, 2.3269, 2.3268, 2.3267, 2.3267, 2.3267, 2.3267, 2.3267, 2.3266, 2.3265, 2.3262, 2.3262, 2.3261, 2.326, 2.3259, 2.3259, 2.3258, 2.3258, 2.3258, 2.3257, 2.3257, 2.3156, 2.2986, 2.2945, 2.2875, 2.3155, 2.2893, 2.2949, 2.2993, 2.2962, 2.207, 2.265, 2.2243, 1.8749, 2.1917, 1.5192, 1.8637, 1.9426, 1.4233, 1.9448, 1.4828, 1.7914, 1.6748, 0.2328, 1.0724, 0.7405, 1.3375, 1.1019, 0.2221, -0.5181, 0.6508, -0.4551, 2.3333, 2.3333, 2.3333, 2.3333, 2.3331, 2.333, 2.333, 2.3329, 2.3329, 2.3329, 2.3329, 2.3329, 2.3328, 2.3327, 2.3327, 2.3325, 2.3325, 2.3325, 2.3325, 2.3324, 2.3324, 2.3323, 2.3323, 2.3322, 2.3321, 2.3321, 2.3321, 2.3319, 2.3319, 2.3319, 2.3315, 2.3314, 2.3315, 2.328, 2.2912, 2.3048, 2.2931, 2.2667, 2.1771, 2.23, 1.9959, 2.1013, 2.0427, 2.2434, 2.1327, 1.7454, 2.0326, 1.8356, 1.8304, 1.9333, 1.731, 1.7383, 1.5121, 1.931, 1.7698, 1.9363, 1.7729, 0.3873, -0.3042, 1.1208, -0.4166, 1.5118, -0.6338, 0.6094, 0.7647, -0.5806, 2.3547, 2.3546, 2.3546, 2.3545, 2.3544, 2.3544, 2.3544, 2.3543, 2.3542, 2.3542, 2.3542, 2.3542, 2.3541, 2.3541, 2.3541, 2.3541, 2.3541, 2.3539, 2.3539, 2.3539, 2.3539, 2.3539, 2.3538, 2.3538, 2.3538, 2.3538, 2.3537, 2.3537, 2.3537, 2.3536, 2.3532, 2.3529, 2.3535, 2.3443, 2.353, 2.3536, 2.3225, 2.2949, 2.3385, 2.2989, 2.3406, 2.3483, 1.9259, 2.3049, 1.5505, 1.8361, 2.049, 1.8909, 1.9258, 1.5596, 2.1026, 2.0325, 1.8573, 1.8412, 1.6456, 1.0868, 0.1118, 0.1934, -0.0766, 0.2596, 1.6179, 1.4331, 0.6385, 0.2792, 1.4416, 0.1373, 0.5267, 0.4992, 0.4084, 1.5551, 1.1623, -0.6219, 2.4352, 2.435, 2.435, 2.435, 2.4349, 2.4349, 2.4349, 2.4348, 2.4348, 2.4347, 2.4347, 2.4347, 2.4347, 2.4346, 2.4346, 2.4346, 2.4345, 2.4345, 2.4345, 2.4344, 2.4344, 2.4344, 2.4344, 2.4344, 2.4344, 2.4343, 2.4342, 2.4342, 2.4342, 2.4342, 2.4331, 2.4299, 2.4339, 2.4309, 2.4081, 2.388, 2.3941, 2.3452, 2.371, 2.365, 2.3364, 2.0548, 2.1776, 1.9302, 1.7577, 2.0641, 1.9173, 2.0337, 1.8257, 1.2008, 0.1022, 1.3708, 1.5719, 0.1457, 0.0717, 0.4098, 1.0611, 0.8597, 1.7722, 0.1028, 2.4913, 2.4912, 2.4912, 2.4911, 2.4911, 2.4911, 2.491, 2.491, 2.4909, 2.4909, 2.4908, 2.4907, 2.4907, 2.4906, 2.4906, 2.4906, 2.4905, 2.4905, 2.4905, 2.4904, 2.4904, 2.4903, 2.4902, 2.4902, 2.4902, 2.4902, 2.4901, 2.4901, 2.4901, 2.4901, 2.4899, 2.488, 2.489, 2.4699, 2.4843, 2.463, 2.4631, 2.4399, 2.452, 2.38, 2.3564, 2.3967, 2.3505, 1.9652, 2.2826, 2.0482, 2.1352, 2.3923, 1.6878, 1.9623, 1.4418, 1.7228, 1.7063, 2.1404, -0.0579, 2.1427, 0.5951, 0.8982, 1.6378, 1.0275, 0.3143, 0.5375, 0.9003, 0.2864, -1.0219, 0.3788, 0.3797, -1.4537, 0.5242, -0.8429, 2.648, 2.6479, 2.6476, 2.6475, 2.6473, 2.6473, 2.6473, 2.6472, 2.6472, 2.6472, 2.6471, 2.6471, 2.6471, 2.647, 2.647, 2.647, 2.6469, 2.6469, 2.6468, 2.6468, 2.6468, 2.6468, 2.6467, 2.6467, 2.6467, 2.6466, 2.6465, 2.6465, 2.6465, 2.6463, 2.64, 2.644, 2.589, 2.6075, 2.6051, 2.6321, 2.5157, 2.528, 2.5198, 2.4501, 2.3209, 2.2905, 2.3144, 2.1293, 2.1442, 1.6585, 1.7476, 2.1515, 2.4791, 2.1687, 1.8098, 1.5348, 1.8913, 2.1287, 0.2952, -0.8128, -0.7569, 0.5955, -1.1417, -0.6195, 2.682, 2.682, 2.6819, 2.6817, 2.6817, 2.6815, 2.6815, 2.6814, 2.6814, 2.6814, 2.6814, 2.6813, 2.6813, 2.6813, 2.6812, 2.6812, 2.681, 2.681, 2.681, 2.681, 2.6809, 2.6808, 2.6808, 2.6807, 2.6807, 2.6807, 2.6807, 2.6806, 2.6806, 2.6806, 2.6755, 2.6617, 2.6708, 2.666, 2.6514, 2.5616, 2.6704, 2.663, 2.5863, 2.5756, 2.546, 2.4498, 2.6376, 2.6299, 2.5236, 2.4673, 2.2822, 2.0337, 1.8634, 2.3724, 2.4199, 2.5346, 2.1581, 2.1249, 2.355, 1.4542, 2.1397, 2.1498, 1.7328, 1.8589, -0.8309, -0.4411, 1.3242, 0.0725, 1.5108, -0.3528, -1.4604], \"logprob\": [30.0, 29.0, 28.0, 27.0, 26.0, 25.0, 24.0, 23.0, 22.0, 21.0, 20.0, 19.0, 18.0, 17.0, 16.0, 15.0, 14.0, 13.0, 12.0, 11.0, 10.0, 9.0, 8.0, 7.0, 6.0, 5.0, 4.0, 3.0, 2.0, 1.0, -3.3079, -4.1245, -4.5379, -5.1932, -6.0367, -6.0523, -6.0275, -6.2324, -6.3037, -6.3197, -6.3754, -6.401, -6.5703, -6.5827, -6.4079, -6.7543, -6.8334, -6.8493, -6.8187, -6.8579, -4.2738, -7.0054, -7.1512, -7.176, -7.1926, -7.2252, -7.263, -7.2686, -7.2811, -7.3131, -5.3154, -4.945, -4.7765, -6.329, -6.2658, -6.0963, -6.8471, -3.9707, -4.8373, -4.3739, -4.7759, -5.0337, -4.578, -4.8602, -4.506, -4.6759, -4.9962, -5.2866, -4.5732, -4.2179, -3.6794, -3.7995, -5.2036, -3.4846, -5.7753, -5.0458, -5.0083, -4.5916, -5.0625, -5.3845, -5.0835, -5.0225, -5.8084, -6.3827, -6.4189, -6.4578, -6.5969, -6.7412, -6.8867, -6.9829, -7.1105, -7.2985, -7.3124, -7.3299, -7.3707, -7.381, -6.7962, -7.425, -7.4333, -7.4371, -7.4182, -7.4945, -7.5109, -7.5203, -6.5383, -7.5317, -7.5692, -7.5877, -7.6233, -7.6348, -7.641, -3.5987, -5.0006, -3.6834, -7.2006, -7.4899, -3.9425, -7.462, -4.7032, -5.709, -5.6511, -3.1993, -5.6402, -6.2774, -5.9768, -3.8954, -5.4687, -5.9017, -5.4253, -4.4494, -4.574, -4.6706, -4.356, -4.6838, -5.4102, -3.1661, -5.7976, -4.6391, -5.0656, -3.3511, -3.7553, -5.7441, -4.9428, -4.9444, -4.982, -4.5807, -5.1515, -4.6428, -4.9923, -4.955, -5.2775, -5.1938, -5.3662, -5.3946, -4.5222, -4.7454, -4.9935, -5.6905, -6.0131, -6.1121, -6.2058, -6.2881, -6.4592, -6.2091, -6.7612, -6.7662, -6.3767, -6.8939, -5.5319, -6.1603, -6.9599, -7.0013, -6.8929, -7.0186, -7.0278, -7.0877, -7.0935, -7.1789, -6.9661, -7.2272, -7.2404, -7.2339, -7.2991, -7.3234, -5.278, -6.3588, -2.4276, -5.8916, -7.061, -6.9602, -5.8232, -6.0186, -4.3993, -6.6972, -4.7512, -6.0633, -6.6942, -6.13, -6.5384, -5.3601, -5.3305, -5.021, -4.1406, -4.5834, -6.4792, -5.0299, -5.1751, -4.9533, -5.0473, -4.9494, -4.712, -4.1657, -4.6455, -3.6898, -5.0769, -5.0674, -5.5312, -4.2585, -4.8602, -4.8045, -5.4576, -5.5091, -2.96, -3.6105, -4.0671, -4.5119, -4.5755, -4.6563, -5.2053, -5.6224, -6.0555, -6.0923, -6.1362, -6.3273, -6.3626, -6.394, -6.4008, -6.4314, -6.5195, -6.515, -6.6649, -7.0214, -7.066, -7.1398, -3.4457, -7.2386, -7.2659, -7.3206, -7.3227, -7.2456, -7.4127, -7.4226, -5.1602, -3.675, -3.4477, -4.9838, -6.4758, -5.42, -5.7209, -6.2702, -6.4693, -4.9863, -5.9974, -5.6951, -4.1179, -5.9069, -3.6023, -5.1597, -5.4897, -4.3475, -5.5198, -4.8334, -5.4098, -5.2517, -3.4066, -4.7478, -4.5813, -5.1368, -5.078, -4.7864, -4.7644, -5.229, -5.3879, -4.8703, -5.0426, -4.0083, -5.3524, -5.8742, -3.5389, -6.2329, -5.6001, -6.2766, -6.3119, -6.4013, -6.1379, -6.4285, -6.5797, -6.6412, -6.8354, -6.8561, -6.8692, -6.8874, -6.927, -6.998, -7.0323, -7.0427, -7.1453, -7.2005, -7.2513, -7.2456, -7.3476, -7.3695, -7.3753, -2.8483, -6.4758, -6.6419, -6.4769, -3.0824, -5.1129, -5.9588, -5.5298, -4.1457, -5.7018, -3.2626, -4.5442, -4.5291, -6.2288, -5.5102, -4.0877, -5.3626, -4.7739, -5.2584, -5.5158, -5.189, -5.2307, -4.9677, -5.7495, -5.5695, -5.7888, -5.6254, -4.3608, -3.9435, -5.308, -4.6628, -5.5223, -4.8203, -5.2668, -5.3408, -5.5134, -5.9532, -6.1422, -6.2192, -6.3453, -6.4623, -6.5217, -6.524, -6.6906, -6.7172, -6.748, -6.763, -6.7895, -6.8627, -6.8812, -6.1197, -6.9011, -6.907, -6.2751, -7.0407, -7.0491, -7.0607, -7.0674, -7.1566, -7.1568, -7.16, -7.111, -7.1696, -7.2191, -7.239, -7.2414, -6.1688, -6.4783, -6.7785, -6.1692, -7.0399, -7.1108, -4.0761, -4.6823, -6.5824, -5.5193, -6.8407, -6.9711, -3.7696, -6.7657, -3.1976, -4.6655, -5.8136, -5.264, -5.5144, -4.6346, -6.2067, -6.0278, -5.6801, -5.8132, -5.5016, -4.7876, -3.5275, -4.0529, -4.263, -4.6731, -5.9013, -5.7654, -5.3325, -5.1904, -5.8375, -5.2476, -5.4559, -5.568, -5.5925, -5.9297, -5.8813, -5.9437, -2.9797, -5.3144, -5.322, -5.4448, -5.5086, -5.6766, -5.8989, -6.0067, -6.0801, -5.748, -5.4946, -6.2537, -6.3018, -6.3375, -6.4466, -6.4517, -6.5276, -6.565, -6.5945, -6.5582, -6.6348, -6.4344, -6.6635, -6.6684, -6.7195, -6.7463, -6.8261, -6.8311, -6.8496, -6.8718, -5.0307, -5.297, -6.1229, -6.0652, -4.9253, -5.2977, -5.6189, -4.5392, -5.1591, -5.8358, -5.7322, -3.8214, -5.1975, -4.3126, -4.0067, -5.1791, -4.877, -5.3028, -5.3117, -4.5792, -3.5371, -5.0681, -5.2594, -4.1006, -4.1148, -4.5229, -5.3677, -5.3341, -5.579, -5.488, -5.4392, -5.4712, -5.2978, -5.8935, -5.9436, -5.9967, -6.1468, -6.1515, -6.1948, -6.364, -6.4134, -6.6103, -6.0196, -6.6622, -6.6672, -6.7088, -6.765, -6.7747, -6.7977, -6.8443, -6.8638, -6.987, -7.0146, -7.005, -7.0567, -7.0676, -7.0969, -7.101, -7.106, -7.1101, -5.0973, -6.052, -6.3565, -6.2534, -6.8295, -6.3214, -6.414, -6.2362, -6.5215, -5.736, -5.5077, -5.9322, -5.6273, -3.6256, -5.6241, -4.6045, -5.057, -6.324, -4.2841, -5.2992, -4.3784, -5.1462, -5.4311, -5.9758, -3.6972, -5.9939, -4.7267, -4.9817, -5.6285, -5.2152, -4.8072, -5.0943, -5.574, -5.4843, -5.2681, -5.6038, -5.6864, -5.6402, -5.792, -5.7757, -4.3749, -3.9389, -5.9599, -5.9952, -6.2775, -5.774, -6.3572, -6.423, -6.435, -6.4857, -5.5973, -6.5995, -6.6104, -6.6382, -6.5764, -6.7038, -6.7832, -6.7873, -6.7835, -6.8438, -6.8559, -6.8628, -6.8955, -6.8415, -6.9141, -7.0113, -7.0315, -7.0324, -7.0713, -6.9862, -5.917, -6.5692, -4.363, -5.4356, -5.4114, -6.4716, -3.8624, -4.1897, -4.0925, -4.5533, -4.1928, -4.067, -4.9879, -4.2635, -4.9339, -3.463, -3.8015, -5.4084, -6.2477, -5.7569, -5.1803, -4.7814, -5.3552, -5.7872, -5.0267, -4.4521, -4.9433, -5.51, -5.3879, -5.5523, -5.3047, -5.4607, -4.6259, -6.0091, -6.0304, -6.2804, -6.3681, -6.4106, -6.4261, -6.4979, -6.5, -6.5083, -6.4846, -6.575, -6.6305, -6.6696, -6.8122, -6.8311, -6.843, -6.8045, -6.787, -6.9807, -6.989, -7.0022, -7.0096, -7.016, -7.0217, -7.0612, -7.078, -7.106, -5.8149, -4.4769, -5.4177, -5.7586, -5.5219, -2.8234, -6.5956, -6.5224, -5.0241, -5.1403, -4.8248, -3.744, -6.2716, -6.2578, -5.3867, -5.256, -4.305, -2.9748, -3.6061, -5.4568, -5.7416, -6.1499, -5.355, -5.2846, -5.8189, -4.9033, -5.7148, -5.7661, -5.3681, -5.6129, -4.4702, -4.6874, -5.6565, -5.5593, -5.7324, -5.6746, -5.6469]}, \"token.table\": {\"Topic\": [2, 3, 5, 6, 5, 5, 5, 5, 8, 2, 5, 1, 2, 3, 4, 5, 6, 7, 8, 9, 10, 1, 2, 3, 4, 5, 6, 7, 8, 9, 10, 9, 1, 2, 3, 4, 5, 6, 8, 9, 10, 2, 4, 1, 3, 4, 10, 1, 5, 7, 10, 7, 10, 10, 1, 2, 3, 4, 5, 9, 10, 10, 1, 1, 2, 7, 8, 9, 6, 5, 9, 6, 7, 9, 10, 10, 1, 6, 10, 6, 7, 5, 5, 4, 1, 3, 6, 1, 5, 6, 9, 10, 10, 1, 3, 5, 6, 7, 9, 10, 7, 10, 1, 3, 4, 5, 6, 7, 9, 10, 3, 6, 10, 6, 9, 2, 3, 5, 6, 2, 4, 5, 7, 8, 9, 2, 2, 5, 1, 5, 1, 4, 5, 7, 8, 9, 6, 9, 1, 5, 6, 10, 8, 2, 3, 4, 5, 6, 7, 8, 10, 1, 2, 3, 5, 6, 7, 9, 10, 7, 7, 3, 1, 2, 7, 8, 5, 6, 5, 2, 7, 9, 1, 2, 3, 4, 6, 8, 9, 10, 5, 8, 2, 3, 6, 8, 6, 1, 3, 6, 3, 9, 3, 6, 10, 3, 6, 1, 7, 10, 1, 2, 3, 4, 5, 7, 8, 9, 10, 2, 3, 6, 6, 10, 4, 7, 7, 1, 2, 3, 4, 5, 6, 7, 8, 9, 10, 1, 4, 2, 7, 8, 7, 2, 2, 1, 1, 5, 7, 8, 1, 7, 1, 6, 1, 2, 5, 6, 7, 4, 1, 3, 4, 5, 6, 9, 10, 8, 6, 3, 1, 2, 3, 4, 5, 6, 7, 8, 9, 10, 4, 5, 7, 8, 9, 7, 8, 5, 4, 8, 8, 2, 3, 4, 6, 8, 9, 2, 3, 6, 3, 1, 2, 3, 9, 10, 3, 5, 6, 3, 4, 5, 6, 9, 10, 1, 2, 3, 5, 6, 9, 10, 2, 2, 5, 6, 6, 1, 2, 3, 4, 5, 6, 7, 8, 9, 10, 1, 2, 5, 6, 7, 8, 9, 10, 1, 2, 3, 5, 6, 7, 8, 9, 10, 1, 5, 6, 10, 1, 10, 2, 8, 3, 4, 1, 7, 2, 3, 4, 8, 1, 2, 3, 4, 5, 6, 7, 8, 9, 10, 8, 1, 2, 4, 5, 6, 7, 8, 9, 10, 10, 2, 1, 4, 5, 4, 8, 8, 2, 4, 4, 10, 4, 1, 2, 3, 4, 5, 6, 7, 8, 9, 10, 10, 1, 2, 3, 4, 6, 7, 8, 9, 10, 4, 5, 6, 9, 8, 10, 4, 4, 3, 5, 6, 7, 9, 10, 2, 8, 9, 9, 8, 3, 7, 8, 9, 4, 1, 7, 1, 3, 5, 6, 3, 3, 1, 2, 3, 4, 5, 8, 9, 10, 1, 1, 3, 5, 6, 10, 2, 4, 7, 8, 4, 1, 3, 6, 10, 2, 1, 2, 5, 7, 8, 9, 9, 1, 10, 10, 4, 8, 1, 2, 3, 5, 6, 9, 10, 5, 1, 2, 3, 4, 5, 6, 7, 8, 9, 10, 5, 10, 3, 1, 2, 3, 4, 5, 6, 8, 9, 10, 1, 2, 4, 5, 6, 7, 8, 9, 10, 8, 2, 3, 4, 5, 6, 9, 10, 3, 2, 4, 5, 2, 4, 1, 10, 10, 4, 5, 6, 2, 3, 4, 6, 7, 8, 9, 10, 2, 6, 1, 2, 4, 5, 8, 9, 1, 2, 3, 6, 9, 2, 3, 9, 1, 2, 3, 4, 5, 6, 7, 8, 9, 10, 5, 1, 6, 7, 8, 3, 1, 1, 8, 4, 5, 1, 2, 4, 5, 8, 8, 6, 7, 7, 1, 3, 5, 6, 7, 9, 10, 5, 1, 2, 3, 4, 5, 6, 7, 8, 9, 10, 3, 6, 3, 1, 3, 6, 8, 9, 10, 6, 10, 2, 7, 8, 9, 7, 1, 7, 8, 3, 4, 7, 8, 10, 4, 10, 2, 7, 5, 6, 9, 5, 3, 6, 3, 6, 1, 1, 3, 5, 6, 9, 10, 1, 7, 1, 4, 5, 8, 9, 10, 1, 2, 3, 4, 5, 6, 7, 8, 9, 10, 1, 1, 1, 3, 7, 7, 1, 2, 4, 5, 7, 8, 9, 5, 1, 2, 4, 8, 9, 1, 2, 4, 3, 10, 3, 10, 3, 1, 2, 3, 4, 5, 6, 7, 8, 9, 10, 2, 4, 8, 2, 4, 8, 9, 3, 5, 6, 9, 10, 2, 9, 10, 6, 7, 10, 7, 10, 3, 7, 10, 1, 2, 3, 4, 5, 6, 7, 8, 9, 10, 1, 4, 5, 7, 8, 9, 10, 2, 1, 2, 3, 4, 5, 6, 8, 9, 10, 1, 2, 6, 6, 4, 1, 1, 6, 5, 6, 9, 9, 5, 4, 9, 1, 2, 7, 8, 3, 1, 2, 3, 4, 6, 7, 8, 9, 1, 7, 2, 7, 2, 4, 7, 8, 9, 2, 1, 2, 3, 5, 6, 7, 8, 9, 10, 6, 1, 2, 3, 4, 5, 6, 7, 8, 9, 10, 1, 2, 3, 4, 5, 6, 7, 8, 9, 10, 8, 9, 3, 1, 2, 3, 4, 5, 6, 7, 8, 9, 10, 7, 7, 1, 2, 3, 4, 5, 6, 9, 10, 10, 1, 2, 3, 5, 6, 7, 8, 9, 10, 1, 3, 4, 5, 6, 9, 10, 6, 1, 10, 2, 4, 7, 8, 9, 3, 10, 3, 6, 9, 3, 8, 3, 10, 5, 2, 5, 7, 9, 7, 6, 2, 8, 8, 6, 3, 7, 8, 4, 5, 8, 10, 1, 7, 1, 2, 3, 5, 6, 9, 10, 1, 2, 3, 4, 5, 6, 7, 8, 9, 10, 8, 1, 10, 4, 5, 8, 3, 6, 1, 3, 4, 6, 8, 10, 9, 1, 2, 3, 4, 5, 6, 7, 8, 9, 10, 4, 8, 8, 6, 9, 3, 6, 10, 3, 6, 9, 6, 8, 3, 6, 10, 9, 1, 2, 3, 4, 5, 6, 7, 8, 9, 10, 10, 1, 2, 4, 5, 6, 7, 8, 9, 10, 1, 2, 3, 4, 7, 8, 9, 10, 10, 2, 5, 6, 7, 8, 9, 10, 2, 8, 1, 7, 2, 4, 1, 2, 3, 4, 5, 6, 7, 8, 9, 10, 4, 1, 2, 3, 4, 5, 6, 7, 8, 9, 10, 6, 1, 2, 3, 4, 6, 7, 8, 9, 7, 3, 5, 6, 8, 10, 9, 7, 1, 1, 1, 2, 3, 4, 5, 6, 8, 9, 10, 1, 3, 5, 6, 7, 8, 9, 6, 1, 3, 4, 10, 1, 3, 5, 6, 7, 8, 1, 3, 9, 10, 1, 1, 3, 10, 7, 9, 10, 9, 1, 7, 1, 2, 3, 4, 6, 9, 8, 1, 7, 8, 8, 8, 1, 6, 1, 2, 3, 4, 5, 6, 7, 8, 9, 10, 2, 3, 5, 8, 9, 9, 1, 3, 9, 2, 7, 8, 9, 1, 2, 3, 4, 5, 6, 7, 8, 9, 10, 4, 9, 4, 1, 2, 3, 4, 5, 6, 7, 8, 9, 10, 4, 1, 2, 3, 4, 5, 6, 7, 8, 9, 10, 1, 4, 2, 3, 8, 9, 2, 1, 3, 4, 5, 6, 7, 10, 5, 1, 5, 6, 7, 8, 3, 10, 2, 3, 6, 8, 9, 2, 4, 4, 1, 2, 3, 4, 5, 6, 7, 8, 9, 10, 9, 2, 3, 8, 1, 1, 4, 5, 6, 2, 4, 8, 10, 4, 8, 1, 9, 1, 2, 3, 4, 5, 6, 7, 8, 9, 10, 5, 2, 9, 5, 8, 1, 3, 6, 10, 6, 3, 4, 1, 5, 6, 9, 10, 1, 3, 4, 5, 6, 7, 9, 10, 1, 5, 6, 9, 10, 1, 9, 1, 2, 3, 4, 5, 6, 7, 8, 9, 10, 1, 2, 3, 4, 5, 6, 8, 9, 10, 1, 3, 4, 8, 10, 1, 5, 10, 6, 4, 7, 8, 2, 6, 7, 9, 4, 9, 8, 1, 7, 10, 1, 2, 3, 4, 6, 8, 9, 3, 6, 10, 8, 2, 1, 4, 8, 10, 2, 8, 1, 3, 4, 5, 6, 9, 10, 3, 5, 6, 9, 10, 9, 1, 5, 1, 5, 6, 9, 1, 2, 3, 4, 5, 6, 7, 8, 9, 10, 9, 8, 3, 10, 1, 2, 3, 4, 5, 6, 7, 8, 9, 10, 10, 5, 1, 3, 4, 6, 10, 2, 3, 7, 8, 9, 4, 10, 3, 9, 9, 1, 2, 3, 4, 5, 6, 7, 8, 9, 10, 9, 6, 1, 2, 3, 4, 5, 6, 7, 8, 9, 2, 3, 7, 9, 1, 6, 2, 3, 4, 7, 8, 9, 1, 8, 5, 6, 5, 8, 4, 4, 4, 4, 10, 3, 1, 2, 4, 5, 6, 1, 2, 3, 5, 7, 9, 10, 2, 1, 2, 3, 4, 5, 7, 8, 9, 10, 4, 2, 3, 9, 2, 4, 5, 9, 2, 1, 10, 2, 7, 3, 6, 7, 1, 2, 3, 4, 5, 6, 7, 8, 9, 10, 4, 6, 8, 9, 4, 7, 1, 3, 8, 9, 3, 1, 2, 3, 4, 5, 6, 8, 9, 6, 9, 1, 2, 3, 7, 8, 9, 1, 8, 1, 1, 2, 1, 7, 3, 1, 2, 3, 5, 9, 8, 1, 2, 3, 4, 5, 6, 7, 8, 9, 10, 4, 3, 6, 2, 7, 5, 2, 9, 1, 2, 3, 5, 6, 7, 8, 9, 10, 1, 2, 3, 4, 5, 6, 7, 8, 9, 10, 5, 3, 2, 6, 10, 1, 9, 10, 1, 2, 3, 4, 5, 6, 7, 8, 9, 10, 4, 5, 1, 2, 4, 5, 7, 8, 9, 1, 2, 4, 5, 6, 8, 9, 10, 2, 8, 2, 8, 1, 2, 3, 4, 5, 6, 7, 8, 10, 5, 1, 4, 5, 6, 7, 10, 7, 10, 6, 3, 3, 4, 5, 6, 3, 3, 4, 6, 1, 3, 5, 6, 9, 10, 10, 1, 4, 5, 10, 1, 3, 4, 6, 10, 7, 1, 2, 7, 7, 1, 2, 3, 7, 10, 3, 1, 2, 3, 4, 9, 1, 6, 1, 7, 1, 2, 3, 4, 5, 6, 7, 8, 9, 10, 10, 1, 2, 3, 4, 7, 8, 9, 10, 8, 7, 3, 6, 7, 10, 7, 9, 8, 9, 2, 2, 8], \"Freq\": [0.0002854460094379317, 8.155600269655192e-05, 0.9995503690489402, 4.077800134827596e-05, 0.9997577766333762, 0.9983047268137349, 0.9998976446593895, 0.9994608124764323, 0.998475135418562, 0.9993303923193494, 0.9991368770420951, 0.17453715343962573, 0.1712571197359569, 0.11710157659924876, 0.12312809185745628, 0.07153097500960982, 0.10611565038109395, 0.09699715668489461, 0.07813040282139151, 0.03140522936806115, 0.0298001995423992, 0.10765058947006569, 0.18385769949510297, 0.1238922607424583, 0.12869543791752563, 0.13953972452927557, 0.08294146152822449, 0.09061664155023928, 0.12102025789551082, 0.006536282341328735, 0.015350360044029605, 0.9994470558987584, 0.07612159735614227, 0.002100758368594835, 0.3196859940914611, 0.16039908014329976, 0.14470517938967953, 0.01396386445007155, 0.0013593142385025403, 0.024344082271363678, 0.2571575391203442, 0.9975269963678044, 0.00155378036817415, 0.03386652791779323, 0.00023196251998488512, 0.05752670495625151, 0.9083652282608101, 0.3928792460147991, 0.43967541367216906, 0.050837062357588475, 0.11640383765468336, 0.6899556577651086, 0.3099498052698869, 0.9993453014904079, 0.03793341516905644, 0.20532563675809037, 0.04102101872932847, 0.051386544967384595, 0.01565856091280818, 0.608698987596487, 0.040138846283536464, 0.9977962596068942, 0.9999187244423139, 0.9989118293883402, 0.10792388837365895, 0.0002989581395392214, 0.873555683733605, 0.018236446511892507, 0.9986220361523637, 0.0034562814088738535, 0.9954090457556698, 5.626069674070929e-05, 0.20687058191558805, 0.0005063462706663836, 0.7925444349863717, 0.9990914739175424, 0.2629739114775575, 0.7363866510954987, 0.000596989583376975, 0.9994055916721868, 0.9997631467863781, 0.999350630668966, 0.9993477077142129, 0.9986614164558703, 0.00542256249046068, 0.9659907750863524, 0.028274790128830687, 0.005367617800324944, 0.001524138387746589, 0.0007952026370851769, 0.6993807193164131, 0.2928333711066164, 0.9994569596591587, 0.0010023012833581045, 0.0003758629812592892, 2.505753208395261e-05, 0.10884991937269015, 0.003407824363417555, 2.505753208395261e-05, 0.8863099673414878, 0.0433580554064005, 0.9564276927882465, 0.028142300229247512, 0.2807685301941205, 0.001854337612004681, 0.06353833288192509, 0.12544048551796372, 0.01627999344657051, 0.04303154046681451, 0.44092330659564244, 0.006283391893738052, 0.009425087840607077, 0.9838744473611499, 0.9992693858794813, 0.9987432415186016, 0.8404548265877118, 0.025862892583874832, 0.1309197459073388, 0.002497106870167225, 0.9708711979381841, 3.456410687237652e-05, 0.00010369232061712956, 0.01738574575680539, 0.005875898168304009, 0.0057376417408145025, 0.9995787336718961, 0.9990857887735283, 0.9987126959296266, 0.0009064713457876152, 0.9980249517121643, 0.23778523526230405, 0.0035798587821771312, 0.60472076043546, 0.012391818861382378, 0.10739576346531393, 0.034008658430682744, 0.9980516420731378, 0.001154484259193913, 0.00972772211668069, 0.0014965726333354907, 0.00037414315833387266, 0.9884862243180916, 0.9989755719186881, 0.09634239032457675, 0.0109931095140563, 0.05420213718736093, 0.12428321033946985, 0.00030536415316823057, 0.011603837820392761, 0.7002000032147527, 0.0019848669955934988, 0.01922717425124679, 0.0001763960940481357, 0.0003527921880962714, 0.0001763960940481357, 0.01517006408813967, 0.6692467808186269, 0.06350259385732886, 0.2321372597673466, 0.9993871521455541, 0.9993789573200722, 0.9985360999168517, 0.005869036826528524, 0.08766873759626982, 0.9060325600953408, 0.00036681480165803274, 0.9989017643320021, 0.9995770055532294, 0.9991078074912585, 0.9987629921651535, 0.9994859808912361, 0.9985737824702656, 0.017275223349198707, 0.20926577375279343, 0.007067136824672198, 0.002355712274890733, 0.04750686421029644, 0.7055358263297744, 0.0015704748499271552, 0.009422849099562931, 0.9137633978961822, 0.08566531855276709, 0.9984928400991575, 0.9504598867864458, 0.0018384137075173033, 0.04718595182627745, 0.9996151813908722, 0.9907480197657104, 0.005511182674239315, 0.003704237535144458, 0.007771395766654735, 0.9917496597600158, 0.5503380723097718, 0.44927227018299587, 0.0002045866439813278, 0.0006423958733849348, 0.9989255831135737, 0.49208039856100905, 0.5078641785550401, 3.662129929009519e-05, 0.0008425231950997193, 0.6216015772989286, 0.2084041303307377, 0.012096225872503114, 0.041343816788107654, 0.0017452266184208472, 0.057592478407887955, 0.05458346699681753, 0.0017452266184208472, 0.7566864232935225, 0.24325907775865732, 0.998654664207886, 0.010931673831654732, 0.9887091665518835, 0.999316133645759, 0.999602987701816, 0.9993706325145127, 0.08590758104771877, 0.33317658047398746, 0.04257418530508972, 0.08941162922097717, 0.12270008686693211, 0.07889948470120194, 0.02382752757815721, 0.11925443949656134, 0.06885454660452782, 0.03550768815568525, 0.037129488781441344, 0.9625499884788828, 0.000289086698199804, 0.5436275359647313, 0.4560342664101908, 0.9994550473775846, 0.999360964724645, 0.9998299983289561, 0.9998302500359202, 0.09438008693226527, 0.570971380785056, 0.3064069223864596, 0.02814515514878686, 0.99985505781271, 0.9993649668413579, 0.0010622829248615993, 0.9985459493699035, 8.163781437190184e-05, 2.040945359297546e-05, 0.998042690150093, 0.0009184254116838957, 0.0008980159580909202, 0.999632120292931, 0.029493096188367467, 0.06304487533843688, 0.00013528943205673148, 0.0046674854059572364, 0.0007440918763120233, 0.8759990725673364, 0.025840281522835715, 0.9992647433077846, 0.9988765824217257, 0.9993369611825409, 0.24826632700923573, 0.3561303253271583, 0.06638424057363282, 0.027368477185144534, 0.05144155087602698, 0.08789506246507754, 0.0940852814141616, 0.019349158131447115, 0.03321101594905415, 0.01587991454459781, 0.00019129150518621806, 0.9717608463459878, 0.026972102231256748, 0.00019129150518621806, 0.0009564575259310903, 0.9978509826086812, 0.0020033145605474426, 0.998678654382456, 0.9677458722145489, 0.0322355114916575, 0.99925107946683, 0.020626239146723895, 0.9367157571115644, 0.04182147799404707, 0.0003556248128745499, 0.0004267497754494599, 7.112496257490998e-05, 0.016697504961957522, 0.9805145969327279, 0.002473704438808522, 0.9986663904970153, 0.006002974377688361, 0.0003334985765382423, 0.9874892851297353, 0.0010004957296147268, 0.004668980071535392, 0.5061623059862257, 0.09588502699921214, 0.3976770030031427, 0.31450429765561383, 0.2332895821562863, 0.012974393873932502, 0.006237689362467548, 0.4325213803934998, 0.0004990151489974039, 0.16156068051726397, 0.14790297350446432, 0.2530006945419835, 0.02065311792179457, 0.4010702254490429, 0.006162623896019347, 0.009493771947921698, 0.9991082226141046, 0.00032028001220700477, 0.999593918098062, 0.998983918821244, 0.9995431203241134, 0.6897606420930245, 0.050288528462699676, 0.11792773699454348, 0.0010239745614576859, 0.0006826497076384572, 0.00022754990254615238, 0.13271848066004338, 0.0002844373781826905, 0.006826497076384572, 0.00022754990254615238, 0.0014376920522573859, 0.06373768098341077, 0.8180467777344526, 0.09944036694780252, 0.0014376920522573859, 0.009105382997630111, 0.006229998893115338, 0.00047923068408579526, 0.44456901654884984, 0.00021286522219241075, 0.1048361219297623, 0.011920452442775002, 0.0029801131106937506, 0.42168600516316573, 0.012559048109352235, 0.0010643261109620538, 0.00010643261109620538, 0.1862215231693243, 0.7927893036681724, 0.019444107782274015, 0.001502499237721174, 0.9988540742964431, 0.0008603394266119235, 0.006370433732314577, 0.9925135754946112, 0.9969598363520227, 0.0019605896486765443, 0.7271153127890003, 0.2727786790080241, 0.0024209186638588023, 0.012709822985258712, 0.9726040732052739, 0.012104593319294012, 0.3215866461290588, 0.00021348969647868473, 0.00042697939295736946, 0.002917692518542025, 0.29739114719480786, 0.0992727088625884, 0.253056453559401, 0.0010674484823934237, 0.0034158351436589557, 0.020637337326272858, 0.9990086806662904, 0.05716533407326398, 0.0009538153627352166, 0.4297892024484886, 0.04323962977732982, 0.00012717538169802888, 6.358769084901444e-05, 0.13982933217698276, 0.3284940109260086, 0.0003815261450940866, 0.9992938175543511, 0.997983285640132, 0.00011066511321917131, 0.9986788700608751, 0.0011435395032647704, 0.02716973693042392, 0.9723472519645651, 0.9988699053848276, 0.9987387266356637, 0.9996217964817019, 0.9999351708805987, 0.9984287701905527, 0.9994939535569117, 0.04849988701294777, 0.0005583551899069017, 5.776088171450707e-05, 0.44570221693637474, 0.01915735910197818, 0.00019253627238169024, 0.00026955078133436637, 0.11334610355110106, 0.37172978108732935, 0.00048134068095422565, 0.9988737385603018, 0.09321111445831108, 0.031429863387595805, 0.07010092079096122, 0.5851501036572984, 0.10122264826299236, 0.013403912327062915, 0.052229037688210675, 0.00585458239572863, 0.04745293099695837, 0.9609819896355016, 0.0390011607143557, 0.9990597900758286, 0.9992321764470845, 0.9988801204799276, 0.9992315613264153, 0.9988888246416633, 0.9974685231699929, 0.02398552603875084, 0.030267449525090348, 0.9454294846940956, 0.019102591419408826, 0.0013024494149596927, 0.9795866766513511, 0.007508627211538039, 0.03217983090659159, 0.9600316220466493, 0.9995985704586557, 0.9994764846534552, 0.999870645807618, 0.025382727822699222, 0.9609175532878992, 0.012691363911349611, 0.9989647397375883, 0.8666519004557431, 0.13319738455931038, 0.19556481126669586, 0.13162059180672023, 0.6685529871165544, 0.004229773271671539, 0.9998689953403221, 0.9996356478880282, 0.27626496769600783, 0.00013622532923866264, 0.033920106980426995, 0.07042849521638858, 0.00463166119411453, 0.00980822370518371, 0.6041593351734688, 0.0005449013169546505, 0.9995625350750514, 0.28098308547022394, 0.040831998937246025, 0.08124304943184002, 0.00484090709049824, 0.5920639845900674, 0.9534039586037183, 0.0009084363588410845, 0.03951698160958718, 0.00590483633246705, 0.9982686843019881, 0.9993027276842003, 0.40118837395624213, 0.5982676174767405, 0.00048481978725829864, 0.9981562049218993, 0.39191545783944587, 0.02681265924048181, 0.0002253164642057295, 0.12532101739122675, 0.4476587510839434, 0.008066329418565115, 0.9989503194819623, 0.0003427967645577139, 0.9995953654502936, 0.998887148619913, 0.9882835764381291, 0.01133352725273084, 0.9996340986001471, 0.9983412814428796, 0.019834111041035805, 0.05596052758006531, 0.004958527760258951, 0.8443664414612386, 0.07366955529527586, 0.999911872403398, 0.0022054031908742464, 0.013031927946075094, 0.07638714688391708, 0.6820710595776533, 0.005413262377600423, 0.025863364692979802, 0.00040098239834077213, 0.1379379450292256, 0.05232820298347076, 0.004410806381748493, 0.9979870455505063, 0.0015353646854623175, 0.9981774460305123, 0.013254070944536627, 0.14262705743415866, 0.2204814701623668, 0.031279607429106446, 0.1428258684983267, 0.44727187809433305, 6.627035472268314e-05, 0.00026508141889073256, 0.001921840286957811, 0.7919412809195802, 7.852665155375114e-05, 0.0031410660621500456, 0.06423480097096843, 0.000549686560876258, 0.02771990799847415, 0.007774138503821362, 0.07153777956546728, 0.03298119365257548, 0.9997309375290135, 0.0006568049057583291, 0.06543418873617354, 0.0004105030660989557, 0.7476902845926379, 0.16551483625109895, 0.02019675085206862, 8.210061321979114e-05, 0.999190432094234, 0.9102579524736923, 0.08958094135455386, 0.0003210786428478633, 0.9985514003767141, 0.0007994807048652635, 0.1932179993360301, 0.8066332069055234, 0.9992312034829841, 0.00999029847837425, 0.037963134217822145, 0.9510764151412285, 0.07039564500790854, 0.0219265123795125, 0.050777186563081576, 0.004231432213590131, 0.04077561951277763, 0.7039564500790855, 0.10770918361865789, 0.000384675655780921, 0.001379014530056276, 0.9984065197607438, 0.20955862272587464, 4.6016386193648365e-05, 0.6360845063548013, 0.15401684459014106, 0.00018406554477459346, 4.6016386193648365e-05, 0.03823309986340162, 0.0012156788509825633, 0.9583398995437378, 0.002097046017944922, 0.00010130657091521362, 0.0010857521562195314, 0.9988919837219689, 0.9992680762279181, 0.2683287738173652, 0.08999819108404582, 0.20579376260388865, 0.049748875011441034, 0.03988914322184322, 0.17968123092367524, 0.09152892569978247, 0.0014857130093914516, 0.013956697967010606, 0.05960860680103885, 0.9995060931089227, 0.9995586056993231, 0.9986937267083594, 0.09393268162518116, 0.905679288505478, 0.9999562799946455, 0.9994894776234564, 0.9989066718648529, 0.9988671948116558, 0.9690030121634058, 0.030189303570440456, 0.9394168053430642, 0.0026406387570241346, 0.018905442695216268, 0.024301530590004717, 0.01469572873474301, 0.9994672540697873, 0.0004111462338081197, 0.9994964943875391, 0.9995177399835952, 0.060590390491007416, 0.021778040710290922, 0.17422432568232737, 0.60784452239911, 0.00021562416544842496, 0.0017249933235873997, 0.13368698257802347, 0.9988060072175698, 0.14987532025474237, 0.8468717420345144, 1.8581120785363547e-05, 3.7162241570727093e-05, 0.0006875014690584512, 0.0001114867247121813, 3.7162241570727093e-05, 0.0019881799240339, 0.00016723008706827193, 0.0002229734494243626, 0.9993071923898948, 0.998999568535626, 0.9994771277614358, 0.26883288303962954, 0.0002787277169928767, 0.15789925167646465, 0.0012542747264679451, 0.18479647636627725, 0.38687407118611283, 0.999215602861134, 0.9993397449694417, 0.0007691995556851342, 0.003461398000583104, 0.8945790832618111, 0.10114974157259515, 0.9988801636867278, 0.004501895337603706, 0.9539016009789185, 0.041517479224567506, 0.000305724008430448, 0.8865996244482992, 0.0007643100210761199, 0.11143640107289829, 0.0007643100210761199, 0.9992895181857919, 0.997856677746042, 0.9995299601799749, 0.9998970562726289, 0.9991546317530121, 0.9989996582063032, 0.9979607313744399, 0.9994914289824642, 0.0015727130557029853, 0.9978864338435441, 0.9993223651446517, 0.00044139680439251396, 0.9999678826934839, 0.09728955869025406, 0.027660756882523212, 0.0079484933570469, 0.24735711327129956, 0.6190286626468126, 0.000317939734281876, 0.0003191130758866304, 0.9994621536769264, 0.2242749265601277, 0.6289757428601167, 0.010317420428297997, 0.010704323694359173, 0.01844238901558267, 0.10730117245429917, 0.22732471084162478, 0.15068380832930556, 0.11565724574044298, 0.08067707594971132, 0.03553688336830298, 0.14275063984891417, 0.10795604125070629, 0.053026968263668796, 0.03999059198887358, 0.04639279813094383, 0.9995949883567308, 0.9996246676713351, 0.0004635606707312338, 0.9994368060965401, 0.9999744700578854, 0.9992873894097313, 0.11834507473323587, 0.24184067695238903, 0.5206715058490932, 0.0196656504007751, 0.07526793576010946, 0.015451582457751864, 0.008662250771769985, 0.99907689569436, 0.3360560127223021, 0.639019300354581, 0.001037963702085599, 0.017767496312171133, 0.006044612147439663, 0.9989312204374535, 0.03166125721479611, 0.9682777893272262, 0.9893870433652454, 0.009721868150981246, 0.9992051296260149, 0.0005481103289226632, 0.9987948278044836, 0.003666300461800568, 0.0670165619296569, 0.14699306967777162, 0.024811475218231755, 0.6078385114459594, 0.06420288948222856, 0.0004263140071861126, 0.05328925089826408, 0.02071886074924507, 0.011084164186838927, 0.9590191258061374, 0.037014773276728107, 0.0036238239571621924, 0.9511347258707807, 0.031494527346714596, 0.016231794863306753, 0.0009690623798989105, 0.14028481148761, 0.7401426654086303, 0.020762152100166277, 0.03778337589399629, 0.06060303856264751, 0.999150930482205, 0.9991442735586431, 0.9985490765672717, 0.00018255427822694097, 0.12705777764595091, 0.8726094499247778, 0.01792882480989929, 0.9804826067913675, 0.9992287804594018, 0.14652180143355698, 0.853145104500946, 0.22110981222924686, 0.08351402225630455, 0.17295537355184756, 0.06017260928109658, 0.02922786388314134, 0.28132329964164854, 0.08024377175189713, 0.010832704795849588, 0.017209693279444063, 0.04341257544600854, 0.048625426079882544, 0.11479854541094991, 0.0005908314225988159, 0.6034161319001706, 0.23131050194743638, 0.00011816628451976316, 0.0010634965606778684, 0.9985515840864339, 0.00010301616803066037, 0.26887219856002353, 0.3477825832715094, 0.00020603233606132073, 0.20829869175799526, 0.04476052500932193, 0.0009271455122759432, 0.12840965345021815, 0.0006180970081839621, 0.902091045556624, 0.09785487622227036, 0.999127684442478, 0.9987920633277348, 0.999573838459361, 0.9999515190752803, 0.9981264526979666, 0.0017163343723116513, 8.334447534938176e-05, 8.334447534938176e-05, 0.9998003262911835, 0.997628745358806, 0.9996169418027003, 0.11304815136317328, 0.8868104982985063, 0.0019266500817421439, 0.0004281444626093653, 0.93763637311451, 0.059726152534006455, 0.9990721974248006, 0.0004932994345929961, 0.09537122402131258, 0.15012746126113516, 0.08780729935755331, 0.0003288662897286641, 0.16410427857460338, 0.42588184519862, 0.0759681129273214, 0.026553964392048067, 0.9731764168582384, 0.04024496489944165, 0.9596342492401344, 0.8490802408099797, 0.0002778403929352028, 0.03139596440167791, 0.0597356844810686, 0.0597356844810686, 0.9995412527158415, 0.004668918909239584, 0.0013011741222470972, 0.3086078859353115, 0.0001530793084996585, 0.5950958117924224, 0.002219649973245048, 0.009720536089728313, 0.07087571983534188, 0.007347806807983607, 0.9985392056750778, 0.01284216261842107, 0.7501605685819589, 0.09253620004995955, 0.0013535441320186733, 0.019510843463976486, 0.06536627759504812, 0.054901070525537894, 0.00290516789311325, 0.00046218580117710794, 3.301327151265057e-05, 0.8280235385134294, 0.0013621863342029048, 0.04817186218226636, 0.0034673833961528485, 0.0005572580458102792, 0.042289693920935637, 0.01863718575432156, 0.01448870919106726, 0.006006003382621899, 0.03696478370541519, 0.9970520836085212, 0.0015952833337736338, 0.9997785307967206, 0.014345857369570576, 0.14487468837167194, 6.157020330287801e-05, 0.07699353923024894, 0.044946248411100946, 3.0785101651439007e-05, 0.09706542550698717, 0.5907661006911145, 0.026413617216934665, 0.004525409942761533, 0.9986950207950734, 0.9996762387616874, 0.0022011398541785217, 0.023269192744172947, 0.7922531232289693, 0.03065873368320084, 0.022168622817083684, 0.11257258111370154, 0.003930606882461646, 0.0128923905744742, 0.998310093617951, 0.030790615568207554, 0.017732815248705923, 0.2609947989786808, 0.010478481737871682, 0.004030185283796801, 0.13170645507447945, 0.01837764489411341, 0.4691135670339476, 0.056583801384507075, 0.005396028283298818, 0.558817953436263, 0.01592486395802822, 0.0060540805129694055, 0.3033620778781409, 0.0015793253512094102, 0.10884183878751519, 0.9988804393189551, 0.4271404220881139, 0.5726831603118293, 0.9414481605031485, 0.0008364297576039819, 0.0006505564781364303, 0.05631960367866811, 0.0006505564781364303, 0.9984941600101076, 0.0010759635344936504, 0.9990841401352639, 0.0004709328965992288, 0.0002354664482996144, 0.002938389212095553, 0.9967016207428115, 0.9996113951913183, 0.9996034464073829, 0.9991824420855651, 0.00017045154539867486, 0.022670055538023755, 0.26062041291457383, 0.7162373937652318, 0.9991965642324409, 0.9983116349689729, 0.0005704662760394119, 0.9988864493450101, 0.9996095141050511, 0.9991313272845496, 0.0007504068593908188, 0.027014646938069476, 0.9717768829111104, 0.02291249464975421, 0.9355003913094768, 0.03492758330755215, 0.006426675328589595, 0.4847055039181902, 0.5153128307904246, 0.10400144755590032, 0.00013729564033782221, 0.07159967643617428, 0.007619908038749133, 0.12569415872927625, 0.5952452486846282, 0.09569506131546208, 0.035946015666303135, 0.136939305382317, 0.00019871875982600012, 0.00013247917321733342, 0.713488667224152, 0.014616868778312454, 0.04270245350038714, 0.004482212027186448, 0.012541361731240897, 0.03894887692589603, 0.9989985326814677, 0.41247912719703844, 0.5872317345209747, 6.522190872436066e-05, 0.999851860744449, 6.522190872436066e-05, 0.05825005787260871, 0.941606643750457, 0.03137215845903959, 0.006425622816911723, 0.8731287474744753, 0.06123240566704113, 0.022300690952811272, 0.005291689378633183, 0.9982174619234777, 0.15129887492549046, 0.11146294086003314, 0.11340480394121838, 0.29360969787520924, 0.04854657702963116, 0.00832227034793677, 0.05231933958736249, 0.11107456824379609, 0.09892405353580841, 0.011040878661596115, 0.999896549489793, 0.9996937467657614, 0.9979423329147772, 0.9988858018224238, 0.0005500472476995726, 0.11125804072115417, 0.16790590760848176, 0.7209358023286511, 0.40428417850751214, 0.00031486306737345184, 0.5947763342684506, 0.9840059525936972, 0.015482611142208521, 0.9988727725364538, 0.9989791941794909, 0.998941890392532, 0.9998396853939789, 0.23373649329280077, 0.20974500290675635, 0.12165049690395306, 0.0581091549751618, 0.06392648960054047, 0.11512705821370084, 0.10130186157986988, 0.029792777191766883, 0.02260335398578166, 0.044003121497347045, 0.9996166156571162, 0.0027911629550603197, 0.141070027687007, 0.28679199363244784, 0.5474168345612052, 0.0013955814775301599, 0.0004651938258433866, 0.0004651938258433866, 0.019305543772500544, 0.0002325969129216933, 0.00016439938318935662, 0.5891662895048568, 8.219969159467831e-05, 0.1870453982236905, 0.0006986973785547657, 0.20323873746784213, 0.0195224267537361, 4.1099845797339156e-05, 0.9984118196288053, 0.0007184765849632429, 0.9586211897235434, 0.0001982004372312394, 0.00012387527326952465, 0.004484284892356792, 0.03584950408420043, 0.9985862418909655, 0.9986534304215591, 0.9988787004179646, 0.9991495703019995, 0.9990776713771492, 0.9987258750644948, 0.0006176412338061193, 0.4254511550418067, 0.007696603809801528, 0.20830715681527653, 0.07147864464102716, 0.021094395626863445, 0.05351990241815692, 0.023232341129586092, 0.10532944843413572, 0.012970202716517389, 0.0709085258403011, 0.9994469330469032, 0.07447397766207005, 0.11297702411336027, 0.03485382154584878, 0.3716251485337296, 0.050418882877221426, 0.02904485128820732, 0.03664119700973847, 0.2036863289057616, 0.07067580480130448, 0.015490587353710571, 0.9987133265710361, 0.0010058652448383246, 0.6254086905644765, 0.20792671561157938, 0.08774976802589575, 0.0017722387647151434, 9.579668998460235e-05, 0.042677425388140344, 0.033337248114641616, 0.9990075057120315, 0.7357489173436524, 0.007088139858802047, 0.1624601655637429, 0.09370520893336305, 0.0009923395802322865, 0.9996355977243635, 0.9989849369208204, 0.9999747274135, 0.9992918703641704, 0.07398833213909789, 0.34725090701315475, 0.002096835323780102, 0.11233046377393405, 0.4398112091628764, 0.0012730785894379192, 0.0035945748407658893, 0.018047761179678736, 0.0015726264928350767, 0.10949016462125313, 0.005129587680155639, 0.569030467829679, 0.0014150586703877625, 0.2992849087870118, 0.015565645374265387, 0.9987564406982686, 0.9987394468850421, 0.04691450465091672, 0.05387434874748129, 0.0002577720035764655, 0.8988509764711352, 0.0004943965517860006, 0.9159190518387447, 0.015721810346794818, 0.014733017243222818, 0.05280155173074486, 0.00029663793107160034, 0.010302884249638732, 0.9765662428050427, 0.0014718406070912474, 0.010302884249638732, 0.9997946459915567, 0.0005921577456504042, 0.41806336842918534, 0.5812028273558717, 0.029731772634687435, 0.0004072845566395539, 0.9697445293587779, 0.9987831118517173, 0.003936899297070354, 0.9954731079735037, 0.669581897794077, 0.10012744404421901, 0.11172899526199963, 0.11587573445229069, 0.002050073307559626, 0.0006988886275771452, 0.9987077135635983, 0.004951571735280544, 0.9944840916752924, 0.000260609038698976, 0.9992952848103003, 0.9995630980428484, 0.3712710116108013, 0.628689502228433, 0.02207885399449171, 0.08439819994668606, 0.038905077401584186, 0.00026708291122369007, 0.024393572558430356, 0.020565384164224133, 0.09045207926775636, 0.6418892633076018, 0.0697086398293831, 0.007300266240114195, 0.9363990394568958, 0.00047185640688178173, 0.04624192787441461, 0.0023592820344089088, 0.014391620409894343, 0.9981215902180961, 0.9993443434078957, 0.9829309078132911, 0.016583190162494175, 0.11127673281971645, 0.7728874885797768, 0.1154931493845492, 0.00018332245934055429, 0.7189714563726276, 0.005227695206526718, 0.007514811859382156, 0.05015320088761569, 0.07596494596984137, 0.04206660986501968, 0.00016336547520395993, 0.0020420684400494988, 0.09622226489513239, 0.0016336547520395992, 0.9996547653287267, 0.9987827209355397, 0.9991563532246674, 0.21032190279868573, 0.1825510580571326, 0.13242962529740637, 0.06188657823576882, 0.05425039302841867, 0.12300794375764869, 0.13193542541968642, 0.035630216990454225, 0.03810121637905396, 0.029875179704747748, 0.9996034659187092, 0.00620074248009166, 0.013434942040198596, 0.664512902449823, 0.013810744614749607, 0.005543087974627393, 0.004603581538249869, 9.395064363775242e-05, 0.04237174028062635, 0.1694869611225054, 0.08004594837936507, 0.011556513734648163, 0.9883860430949087, 0.628881257227328, 0.3649333503594688, 0.00016367170744183084, 0.0060012959395337965, 0.9993678312368711, 0.0009912677682816112, 0.32930598895258767, 0.0009229044739173622, 0.012100303102472081, 0.6510920155251079, 0.00010254494154637357, 0.005503245196322048, 0.9987208074341213, 0.010305377665070387, 0.8552183290869902, 0.0003840513415554181, 0.13390590108898912, 0.00012801711385180604, 0.006151688420977441, 0.9932180577869032, 0.45627013438244224, 0.4897899088272168, 0.00032354994637813234, 0.020836616546751726, 0.032807964562742625, 0.9994831006564876, 0.9993784146356632, 0.999962219907755, 0.1625359873779498, 0.24332291559520622, 0.07065248227972049, 0.06391756567566179, 0.08816326545027309, 0.06276300854353745, 0.033963222303324554, 0.14168981693681573, 0.05942762127295599, 0.07353887511003135, 0.998972450380093, 0.000906572293098024, 0.000679929219823518, 0.9983627377741989, 0.9996280548904498, 0.09861717134533703, 0.014283836325812704, 0.2357811338712919, 0.6509907322736831, 0.09277724462149846, 0.03851762863347409, 0.8684887917095505, 0.9975864755423896, 0.999906280656336, 0.999004368721777, 0.999473099774962, 0.9988393572230253, 0.031391112215965744, 0.11139569782475005, 0.09832624643522345, 0.011359429712392274, 0.5514819908758185, 0.11725862928921058, 0.0030536101377398586, 0.05997290310521082, 0.0017100216771343208, 0.013924462228093756, 0.9991019185436162, 0.9996079998335653, 0.9997275852991855, 0.9604426683294847, 0.039210732789598225, 0.0015593233288561164, 0.90947533155533, 0.021050864939557573, 0.06744073397302704, 0.9990858772908746, 0.09762331399807567, 0.9019888720534176, 0.18949817556442522, 0.05043471475569943, 0.024403894236628757, 0.7209607611621182, 0.014642336541977254, 0.02802559534918165, 0.1281587120655286, 0.00014596664244365443, 0.2017258998571304, 0.4919075850351154, 0.029339295131174538, 0.07663248728291858, 0.04393595937553998, 0.1560022360018096, 0.006447418181598289, 0.015802495543133063, 0.8204655685994685, 0.001264199643450645, 0.015490142604709494, 0.9841403934858766, 0.08328609683324352, 0.29334395167814975, 0.00456967964925761, 0.40493258053260167, 0.004238009352134073, 0.016694071621884653, 0.024543601987141676, 0.11022509541072184, 0.057821188465203135, 0.00036852255235948463, 0.03706501031952826, 0.5999164792441294, 0.002012579745856738, 0.11974849487847591, 0.13551370288768705, 0.0072117440893199785, 0.0008385748941069742, 0.09257866830940996, 0.004863734385820451, 0.0006790461433058209, 0.03055707644876194, 0.10457310606909642, 0.0006790461433058209, 0.8623886019983925, 0.3243900722137376, 0.672192419086045, 0.0031216366211426236, 0.9984487125138451, 0.97167533373128, 0.010472877000030521, 0.017785834215569073, 0.27536836583916086, 0.7242515408002236, 0.9988289207019693, 0.9995762554126851, 0.9394108841673088, 0.06010448784956715, 0.9989344641682436, 0.018407576408310658, 0.9138688238808864, 0.06768151569641052, 0.4069392282771693, 0.033765850483838664, 0.5322858387063834, 0.02463206646806648, 0.00029150374518421867, 0.0019433583012281245, 4.8583957530703116e-05, 0.07889002805209172, 0.15174255395733968, 0.7691777735078943, 0.9993883778282153, 0.9983054251661905, 0.3191334703082268, 0.6805851258519727, 0.00019412011575926206, 0.998891772137657, 0.998311837298538, 0.0011970165914850575, 0.054626510729073166, 0.5037154846093292, 0.0022441161164376004, 0.0005610290291094001, 0.026191197306317783, 0.4063621841370297, 0.006289430694752749, 0.06553611920941098, 0.12865423910956889, 0.037604058223211646, 0.0979706616680126, 0.6702027050957321, 0.9980517811751926, 0.004595543057442659, 0.9941691480934285, 0.7286590749673771, 0.21215723499916703, 0.0021648697448894594, 0.05700823661542243, 0.05625282693257165, 0.10653777045775849, 0.021108624644638873, 0.20931798469605248, 0.045201190992970146, 0.008509759673493157, 0.061005030386600295, 0.4636161276662831, 0.022545337316787067, 0.005857367047988797, 0.9994812454308147, 0.9996943228072164, 0.9995877178828736, 0.9989177901908286, 0.21597051853099883, 0.25747988980880826, 0.07936510596392908, 0.06546098893444278, 0.05962531937827153, 0.09362443766205189, 0.06129990281612937, 0.08540375533074977, 0.06261927158535069, 0.01908010220104689, 0.9987761820467211, 0.9987040191820397, 0.8822262864827646, 0.11031848934144668, 0.00024122118660666186, 0.00257302599047106, 0.004502795483324355, 0.11927199958731363, 0.06789171429647603, 0.595744665178594, 0.19629114979373888, 0.0207162028517948, 0.9985649445130469, 0.9988338810549763, 0.000874579116406395, 0.9992066404943064, 0.9990684811604745, 0.18579906947498895, 0.10973031585321116, 0.17163297224362792, 0.06932733114511723, 0.04350039503520824, 0.1607009357949892, 0.08818509401901903, 0.12089010306119653, 0.016398054672958084, 0.033752662535172055, 0.9994630654709742, 0.9992867015430925, 0.1391821935205284, 0.027872519635672898, 0.5468967202300479, 0.019122893730623477, 0.08073108438164156, 0.11627080197534746, 0.015334395916065996, 0.04077145267095194, 0.01371075399554136, 0.6988041666482566, 0.03523901872511114, 0.265838211435049, 0.9984030649699178, 0.006406280274814954, 0.9929734425963179, 0.0035295422307075196, 0.0007059084461415039, 0.0028236337845660158, 0.014118168922830078, 0.9783891063521245, 0.0007059084461415039, 0.9992833963189856, 0.9992755929892324, 0.9017895612213978, 0.09820837009399401, 0.9985724272619034, 0.9992487575865161, 0.9998550266911203, 0.999595938866569, 0.9998468042008088, 0.9991581398116989, 0.9989719196703789, 0.9994468889426807, 0.000550093707057491, 0.6869295166880419, 0.3101153273536606, 0.0019253279747012187, 0.0002750468535287455, 0.16464465010213694, 0.010463029323037481, 0.0840990658795088, 0.6702261236172121, 0.06949030795677723, 0.00019741564760448075, 0.000789662590417923, 0.9979613115098622, 0.012116606303790321, 0.06704522154763978, 0.008481624412653224, 0.2990782322652244, 0.048466425215161285, 0.0008077737535860214, 0.0066641334670846765, 0.11854079833874864, 0.43902503507400265, 0.9989979097951147, 0.00034816118207317705, 0.041779341848781244, 0.9577914118833101, 0.9790699171632959, 0.007718542690099912, 0.0004804072213755132, 0.01268275064431355, 0.9996376597409111, 0.9986933914352879, 0.999345828962979, 0.9989693617189703, 0.9995568376568768, 0.9984526634243387, 0.7769008988780017, 0.22257160886775187, 0.017551353024375993, 0.004002940163454174, 0.5396271258810339, 0.04865111890967381, 0.20445786681027475, 0.008005880326908348, 7.697961852796489e-05, 0.023247844795445397, 0.021323354332246275, 0.13302078081632332, 0.000951730426961654, 0.03949681271890864, 0.9093784229618603, 0.04996584741548683, 0.9999867676537946, 0.9989884920687347, 0.9934731392432335, 0.00010722861729554598, 0.005790345333959483, 0.0006433717037732759, 0.9995095224623526, 0.00013809122482091673, 0.026720652002847387, 0.0002071368372313751, 0.00013809122482091673, 0.004280827969448418, 0.9679504403822158, 0.00027618244964183346, 0.00027618244964183346, 0.9854231988399342, 0.013391934752071587, 0.306432501496641, 0.4017695373470769, 0.000595159022086217, 0.2909955643612797, 0.00011159231664116569, 7.439487776077713e-05, 0.9967507594145258, 0.0028828655369906747, 0.9993408879659148, 0.9906173033479859, 0.009128555355083829, 0.9987897635452379, 0.9991971562576983, 0.9993099514687843, 0.9994216820695495, 0.00048035665620103116, 0.0009607133124020623, 0.05584146128336987, 0.9425798486304733, 0.9995522514285836, 0.11280172081424207, 0.18525830060733187, 0.09035900096923957, 0.20457221359763275, 0.00531661916663581, 0.050954854490854705, 0.05747124169951895, 0.15011215443496947, 0.09508749854664576, 0.04806129627184495, 0.9992465008084221, 0.010301074804135585, 0.9894754631305792, 0.9983615510187788, 0.9992928199511083, 0.9996589080563124, 0.9990994782001348, 0.9992522608298112, 0.15394268043626796, 0.0014822541445032678, 0.09105275459091502, 0.02583357223277124, 0.4785563380824836, 0.11688632682368626, 0.0014822541445032678, 0.013763788484673202, 0.11688632682368626, 0.022908670887462613, 0.30067630539794676, 0.0016083142232636422, 0.086927422408591, 0.5554175874924369, 0.0036873545606532286, 0.00027459023324013403, 0.008316161349558345, 0.01937822503151803, 0.0008237706997204021, 0.9993489420175857, 0.9996293148890252, 0.9989253728063511, 0.9992982249103584, 0.9989468185509105, 0.9993450889968692, 0.0005512715627740894, 5.512715627740894e-05, 0.3296713572556322, 0.010559113894364014, 0.0007566791715830889, 0.12182534662487732, 0.009338108867491302, 1.719725389961566e-05, 0.004024157412510064, 0.0002407615545946192, 0.0007738764254827046, 0.522796518548316, 0.9990094527534894, 0.9979855662319326, 0.02013409227860065, 0.30867112239423916, 0.28509100278333954, 0.008905463892457978, 0.0019746898196319864, 0.35002345038182664, 0.025167615348250807, 0.04897251851108078, 0.929534423157782, 0.00042883116034221353, 0.017496311341962313, 8.57662320684427e-05, 0.00317335058653238, 0.0001715324641368854, 4.288311603422135e-05, 0.04982970927037178, 0.9494579739354623, 0.1881170363608152, 0.8114302016160536, 0.03117910595012124, 0.004333558047219017, 0.4276152473087025, 0.009961555511139818, 0.0015758392898978244, 0.4513653966064483, 0.002251198985568321, 0.005515437514642386, 0.06618525017570863, 0.9986877241816274, 0.13562627002933594, 0.0011875488619718425, 0.17833707909956462, 8.189992151529948e-05, 0.6835367449666895, 0.0012284988227294921, 0.9323182055061968, 0.06740154067646956, 0.9991236112577905, 0.9991184800039808, 0.9905812018444877, 0.00018109345554743835, 0.0014487476443795068, 0.0077870185885398485, 0.9990899592743071, 0.9216627473053312, 0.0005602813053527849, 0.07731882013868431, 0.5201287236487321, 0.16002282929142567, 0.04260489684905745, 0.10418569485443571, 0.050675107685653656, 0.12228914078517855, 0.9997494142724835, 0.9995113967471152, 0.000832052009675817, 0.04992312058054902, 0.9493713430401072, 0.9217803369715276, 0.07727660316731648, 8.933711348822713e-05, 8.933711348822713e-05, 0.00062535979441759, 0.9996160269270142, 0.9972418054101777, 0.0024195110523498042, 0.9997018458998954, 0.9987136612765365, 0.15822043228534888, 7.18857029919804e-05, 0.49522060791175304, 0.344907602955522, 0.0015095997628315886, 0.9998212222027073, 0.0022323818203159934, 0.9881572469339912, 0.00013131657766564666, 0.008535577548267033, 0.00078789946599388, 0.9996427880309192, 0.9995196869237194, 0.0011952189333837176, 0.9986054188420961, 0.17553990883338666, 0.32074081054843595, 0.08997597699310837, 0.07763216527339269, 0.06717214811331232, 0.1563053749086891, 0.06821319247521605, 0.0053043688916047365, 0.026273976752808507, 0.012839547130146045, 0.9978597474939034, 0.001963760864567476, 0.26248936889718594, 0.07429561937613617, 0.0001636467387139563, 0.06791339656629188, 0.5891282593702427, 0.003763874990420995, 0.0001636467387139563, 0.9985542696002401, 0.9993540562493394, 0.02136452293728372, 0.22201781268609702, 0.022808071784397484, 0.7336115241032153, 0.12038271743339368, 0.8796146285190016, 0.9984249171235132, 0.998965415475847, 0.9978742543173548, 0.9993227197084859, 0.9996556767096549], \"Term\": [\"\\n  \", \"\\n  \", \"\\n  \", \"\\n  \", \"\\n    \", \"\\n     \", \"\\n      \", \"\\n        \", \"\\n         \", \"\\n          \", \"\\n    _\\n  \", \" \", \" \", \" \", \" \", \" \", \" \", \" \", \" \", \" \", \" \", \"  \", \"  \", \"  \", \"  \", \"  \", \"  \", \"  \", \"  \", \"  \", \"  \", \"3d\", \"access\", \"access\", \"access\", \"access\", \"access\", \"access\", \"access\", \"access\", \"access\", \"access_token\", \"access_token\", \"account\", \"account\", \"account\", \"account\", \"action\", \"action\", \"action\", \"action\", \"activity\", \"activity\", \"ad\", \"address\", \"address\", \"address\", \"address\", \"address\", \"address\", \"address\", \"administrator\", \"ajax\", \"ajax_request\", \"algorithm\", \"algorithm\", \"algorithm\", \"algorithm\", \"alias\", \"analysis\", \"analysis\", \"android\", \"android\", \"android\", \"android\", \"android_studio\", \"angular\", \"angular\", \"angular\", \"angularjs\", \"animation\", \"annotation\", \"anonymous\", \"ant\", \"apache\", \"apache\", \"apache\", \"api\", \"api\", \"api\", \"api\", \"api\", \"apk\", \"app\", \"app\", \"app\", \"app\", \"app\", \"app\", \"app\", \"apple\", \"apple\", \"application\", \"application\", \"application\", \"application\", \"application\", \"application\", \"application\", \"application\", \"apps\", \"apps\", \"apps\", \"arbitrary\", \"architecture\", \"argument\", \"argument\", \"argument\", \"argument\", \"array\", \"array\", \"array\", \"array\", \"array\", \"array\", \"arraylist\", \"assignment\", \"association\", \"async\", \"async\", \"attribute\", \"attribute\", \"attribute\", \"attribute\", \"attribute\", \"attribute\", \"audio\", \"audio\", \"authentication\", \"authentication\", \"authentication\", \"authentication\", \"axis\", \"b\", \"b\", \"b\", \"b\", \"b\", \"b\", \"b\", \"b\", \"background\", \"background\", \"background\", \"background\", \"background\", \"background\", \"background\", \"background\", \"background_color\", \"background_image\", \"backup\", \"bar\", \"bar\", \"bar\", \"bar\", \"base_class\", \"batch_file\", \"bean\", \"bitmap\", \"black\", \"bluetooth\", \"book\", \"book\", \"book\", \"book\", \"book\", \"book\", \"book\", \"book\", \"boolean\", \"boolean\", \"boost\", \"branch\", \"branch\", \"branch\", \"breakpoint\", \"browser\", \"browser\", \"browser\", \"buffer\", \"buffer\", \"build\", \"build\", \"build\", \"bundle\", \"bundle\", \"button\", \"button\", \"button\", \"c\", \"c\", \"c\", \"c\", \"c\", \"c\", \"c\", \"c\", \"c\", \"c++\", \"c++\", \"c_c++\", \"cakephp\", \"cakephp\", \"calendar\", \"camera\", \"canvas\", \"case\", \"case\", \"case\", \"case\", \"case\", \"case\", \"case\", \"case\", \"case\", \"case\", \"category\", \"category\", \"cell\", \"cell\", \"cell\", \"center\", \"char\", \"character\", \"checkbox\", \"child\", \"child\", \"child\", \"child\", \"chrome\", \"circle\", \"city\", \"city\", \"class\", \"class\", \"class\", \"class\", \"class\", \"clause\", \"client\", \"client\", \"client\", \"client\", \"client\", \"client\", \"client\", \"clojure\", \"cloud\", \"cmd\", \"code\", \"code\", \"code\", \"code\", \"code\", \"code\", \"code\", \"code\", \"code\", \"code\", \"collection\", \"collection\", \"collection\", \"collection\", \"collection\", \"color\", \"color\", \"colour\", \"column\", \"column\", \"combobox\", \"command\", \"command\", \"command\", \"command\", \"command\", \"command\", \"command_line\", \"command_line\", \"command_line\", \"commit\", \"computer\", \"computer\", \"computer\", \"computer\", \"computer\", \"configuration\", \"configuration\", \"configuration\", \"connection\", \"connection\", \"connection\", \"connection\", \"connection\", \"connection\", \"console\", \"console\", \"console\", \"console\", \"console\", \"console\", \"console\", \"const\", \"constructor\", \"constructor\", \"consumer\", \"contact\", \"content\", \"content\", \"content\", \"content\", \"content\", \"content\", \"content\", \"content\", \"content\", \"content\", \"context\", \"context\", \"context\", \"context\", \"context\", \"context\", \"context\", \"context\", \"control\", \"control\", \"control\", \"control\", \"control\", \"control\", \"control\", \"control\", \"control\", \"controller\", \"controller\", \"controller\", \"controller\", \"cookie\", \"cookie\", \"cost\", \"cost\", \"cpu\", \"cpu\", \"css\", \"css\", \"csv\", \"csv\", \"csv\", \"csv\", \"custom\", \"custom\", \"custom\", \"custom\", \"custom\", \"custom\", \"custom\", \"custom\", \"custom\", \"custom\", \"cycle\", \"data\", \"data\", \"data\", \"data\", \"data\", \"data\", \"data\", \"data\", \"data\", \"data_frame\", \"data_structure\", \"database\", \"database\", \"database\", \"dataframe\", \"dataframe\", \"datagrid\", \"datagridview\", \"datatable\", \"date\", \"date_format\", \"datetime\", \"datum\", \"datum\", \"datum\", \"datum\", \"datum\", \"datum\", \"datum\", \"datum\", \"datum\", \"datum\", \"datum_frame\", \"day\", \"day\", \"day\", \"day\", \"day\", \"day\", \"day\", \"day\", \"day\", \"db\", \"db\", \"debugging\", \"decimal\", \"degree\", \"delegate\", \"delphi\", \"department\", \"dependency\", \"dependency\", \"dependency\", \"device\", \"device\", \"device\", \"dictionary\", \"dictionary\", \"dictionary\", \"digit\", \"directive\", \"directory\", \"distance\", \"distance\", \"distance\", \"distinct\", \"div\", \"div\", \"django\", \"django\", \"django\", \"django\", \"dll\", \"docker\", \"document\", \"document\", \"document\", \"document\", \"document\", \"document\", \"document\", \"document\", \"dom\", \"domain\", \"domain\", \"domain\", \"domain\", \"domain\", \"double\", \"double\", \"double\", \"double\", \"drive\", \"dropdown\", \"eclipse\", \"eclipse\", \"eclipse\", \"edittext\", \"element\", \"element\", \"element\", \"element\", \"element\", \"element\", \"emacs\", \"email\", \"email\", \"email_address\", \"employee\", \"employee\", \"emulator\", \"end\", \"endpoint\", \"endpoint\", \"endpoint\", \"endpoint\", \"endpoint\", \"entity\", \"entry\", \"entry\", \"entry\", \"entry\", \"entry\", \"entry\", \"entry\", \"entry\", \"entry\", \"entry\", \"enum\", \"enum\", \"environment_variable\", \"error\", \"error\", \"error\", \"error\", \"error\", \"error\", \"error\", \"error\", \"error\", \"event\", \"event\", \"event\", \"event\", \"event\", \"event\", \"event\", \"event\", \"event\", \"excel\", \"exception\", \"exception\", \"exception\", \"exception\", \"exception\", \"exception\", \"exception\", \"executable\", \"expression\", \"expression\", \"expression\", \"f\", \"f\", \"facebook\", \"facebook\", \"factory\", \"failure\", \"failure\", \"failure\", \"fast\", \"fast\", \"fast\", \"fast\", \"fast\", \"fast\", \"fast\", \"fast\", \"fatal_error\", \"fatal_error\", \"field\", \"field\", \"field\", \"field\", \"field\", \"field\", \"file\", \"file\", \"file\", \"file\", \"file\", \"file,\\\"i\", \"file,\\\"i\", \"find\", \"fine\", \"fine\", \"fine\", \"fine\", \"fine\", \"fine\", \"fine\", \"fine\", \"fine\", \"fine\", \"firebase\", \"firefox\", \"flask\", \"float\", \"float\", \"folder\", \"font\", \"footer\", \"foreach\", \"foreign_key\", \"foreign_key\", \"form\", \"form\", \"form\", \"form\", \"form\", \"formula\", \"fragment\", \"fragment\", \"frame\", \"framework\", \"framework\", \"framework\", \"framework\", \"framework\", \"framework\", \"framework\", \"frequency\", \"function\", \"function\", \"function\", \"function\", \"function\", \"function\", \"function\", \"function\", \"function\", \"function\", \"gcc\", \"gem\", \"git\", \"google\", \"google\", \"google\", \"google\", \"google\", \"google\", \"gradient\", \"gradle\", \"graph\", \"graph\", \"graph\", \"graph\", \"graphic\", \"grid\", \"grid\", \"grid\", \"group\", \"group\", \"group\", \"group\", \"group\", \"grunt\", \"hashmap\", \"haskell\", \"height\", \"helper\", \"heroku\", \"hex\", \"hibernate\", \"history\", \"history\", \"host\", \"host\", \"html\", \"http\", \"http\", \"http\", \"http\", \"http\", \"http\", \"icon\", \"icon\", \"id\", \"id\", \"id\", \"id\", \"id\", \"id\", \"idea\", \"idea\", \"idea\", \"idea\", \"idea\", \"idea\", \"idea\", \"idea\", \"idea\", \"idea\", \"ie\", \"iframe\", \"iis\", \"iis\", \"image\", \"imageview\", \"index\", \"index\", \"index\", \"index\", \"index\", \"index\", \"index\", \"inheritance\", \"input\", \"input\", \"input\", \"input\", \"input\", \"input_field\", \"insert\", \"insert\", \"install\", \"install\", \"installation\", \"installation\", \"installer\", \"instance\", \"instance\", \"instance\", \"instance\", \"instance\", \"instance\", \"instance\", \"instance\", \"instance\", \"instance\", \"int\", \"int\", \"int\", \"integer\", \"integer\", \"integer\", \"integer\", \"interface\", \"interface\", \"interface\", \"interface\", \"interface\", \"internet_explorer\", \"interval\", \"ionic\", \"ios\", \"ios\", \"ios\", \"ios_app\", \"ios_app\", \"ip_address\", \"iphone\", \"iphone\", \"issue\", \"issue\", \"issue\", \"issue\", \"issue\", \"issue\", \"issue\", \"issue\", \"issue\", \"issue\", \"item\", \"item\", \"item\", \"item\", \"item\", \"item\", \"item\", \"iterator\", \"java\", \"java\", \"java\", \"java\", \"java\", \"java\", \"java\", \"java\", \"java\", \"javascript\", \"javascript\", \"jboss\", \"jenkins\", \"join\", \"jquery\", \"js\", \"js\", \"json\", \"json\", \"json\", \"json_response\", \"jsp\", \"key\", \"key\", \"label\", \"label\", \"label\", \"label\", \"laptop\", \"large\", \"large\", \"large\", \"large\", \"large\", \"large\", \"large\", \"large\", \"layout\", \"layout\", \"left\", \"left\", \"length\", \"length\", \"length\", \"length\", \"length\", \"letter\", \"library\", \"library\", \"library\", \"library\", \"library\", \"library\", \"library\", \"library\", \"library\", \"limitation\", \"line\", \"line\", \"line\", \"line\", \"line\", \"line\", \"line\", \"line\", \"line\", \"line\", \"link\", \"link\", \"link\", \"link\", \"link\", \"link\", \"link\", \"link\", \"link\", \"link\", \"linq\", \"linq\", \"linux\", \"list\", \"list\", \"list\", \"list\", \"list\", \"list\", \"list\", \"list\", \"list\", \"list\", \"listbox\", \"listview\", \"local\", \"local\", \"local\", \"local\", \"local\", \"local\", \"local\", \"local\", \"locale\", \"location\", \"location\", \"location\", \"location\", \"location\", \"location\", \"location\", \"location\", \"location\", \"log\", \"log\", \"log\", \"log\", \"log\", \"log\", \"log\", \"logcat\", \"login\", \"login\", \"loop\", \"loop\", \"loop\", \"loop\", \"loop\", \"mac\", \"mac\", \"machine\", \"machine\", \"machine\", \"macro\", \"macro\", \"magento\", \"mail\", \"management\", \"map\", \"map\", \"map\", \"map\", \"marker\", \"material\", \"matlab\", \"matlab\", \"matrix\", \"maven\", \"maximum\", \"maximum\", \"maximum\", \"member\", \"member\", \"member\", \"member\", \"menu\", \"menu\", \"message\", \"message\", \"message\", \"message\", \"message\", \"message\", \"message\", \"method\", \"method\", \"method\", \"method\", \"method\", \"method\", \"method\", \"method\", \"method\", \"method\", \"min\", \"mobile\", \"mobile\", \"model\", \"model\", \"model\", \"module\", \"module\", \"month\", \"month\", \"month\", \"month\", \"month\", \"month\", \"movie\", \"multiple\", \"multiple\", \"multiple\", \"multiple\", \"multiple\", \"multiple\", \"multiple\", \"multiple\", \"multiple\", \"multiple\", \"mysql\", \"n\", \"na\", \"namespace\", \"namespace\", \"native\", \"native\", \"native\", \"network\", \"network\", \"network\", \"ng\", \"ng\", \"nginx\", \"nhibernate\", \"nil\", \"node\", \"not\", \"not\", \"not\", \"not\", \"not\", \"not\", \"not\", \"not\", \"not\", \"not\", \"notification\", \"null\", \"null\", \"null\", \"null\", \"null\", \"null\", \"null\", \"null\", \"null\", \"number\", \"number\", \"number\", \"number\", \"number\", \"number\", \"number\", \"number\", \"oauth\", \"object\", \"object\", \"object\", \"object\", \"object\", \"object\", \"observable\", \"occurrence\", \"office\", \"onclick\", \"opengl\", \"operator\", \"operator\", \"option\", \"option\", \"option\", \"option\", \"option\", \"option\", \"option\", \"option\", \"option\", \"option\", \"oracle\", \"order\", \"order\", \"order\", \"order\", \"order\", \"order\", \"order\", \"order\", \"order\", \"order\", \"origin\", \"output\", \"output\", \"output\", \"output\", \"output\", \"output\", \"output\", \"output\", \"overlay\", \"package\", \"package\", \"package\", \"package\", \"package\", \"packet\", \"padding\", \"page\", \"page_load\", \"parameter\", \"parameter\", \"parameter\", \"parameter\", \"parameter\", \"parameter\", \"parameter\", \"parameter\", \"parameter\", \"parent\", \"parent\", \"parent\", \"parent\", \"parent\", \"parent\", \"parser\", \"pass\", \"password\", \"password\", \"password\", \"password\", \"path\", \"path\", \"path\", \"path\", \"path\", \"path\", \"pc\", \"pc\", \"pc\", \"pc\", \"pdf\", \"permission\", \"permission\", \"permission\", \"phone\", \"phone\", \"phone\", \"phone_number\", \"photo\", \"photo\", \"php\", \"php\", \"php\", \"php\", \"php\", \"php\", \"phpmyadmin\", \"picture\", \"picture\", \"picture\", \"pixel\", \"plot\", \"plugin\", \"plugin\", \"point\", \"point\", \"point\", \"point\", \"point\", \"point\", \"point\", \"point\", \"point\", \"point\", \"pointer\", \"pointer\", \"pointer\", \"pointer\", \"pointer\", \"pool\", \"popup\", \"port\", \"port\", \"position\", \"position\", \"position\", \"position\", \"post\", \"post\", \"post\", \"post\", \"post\", \"post\", \"post\", \"post\", \"post\", \"post\", \"postgresql\", \"power\", \"price\", \"problem\", \"problem\", \"problem\", \"problem\", \"problem\", \"problem\", \"problem\", \"problem\", \"problem\", \"problem\", \"procedure\", \"process\", \"process\", \"process\", \"process\", \"process\", \"process\", \"process\", \"process\", \"process\", \"process\", \"product\", \"product\", \"program\", \"program\", \"program\", \"program\", \"programmer\", \"project\", \"project\", \"project\", \"project\", \"project\", \"project\", \"project\", \"promise\", \"property\", \"property\", \"property\", \"property\", \"property\", \"proxy\", \"proxy\", \"python\", \"python\", \"python\", \"python\", \"python\", \"qt\", \"quantity\", \"query\", \"question\", \"question\", \"question\", \"question\", \"question\", \"question\", \"question\", \"question\", \"question\", \"question\", \"queue\", \"r\", \"r\", \"r\", \"radio_button\", \"rail\", \"rail\", \"rail\", \"rail\", \"range\", \"range\", \"range\", \"react_native\", \"record\", \"rectangle\", \"redirect\", \"redis\", \"reference\", \"reference\", \"reference\", \"reference\", \"reference\", \"reference\", \"reference\", \"reference\", \"reference\", \"reference\", \"reflection\", \"regex\", \"regular_expression\", \"relationship\", \"relationship\", \"remote\", \"remote\", \"remote\", \"remote\", \"repo\", \"report\", \"report\", \"request\", \"request\", \"request\", \"request\", \"request\", \"resource\", \"resource\", \"resource\", \"resource\", \"resource\", \"resource\", \"resource\", \"resource\", \"response\", \"response\", \"response\", \"response\", \"response\", \"rest_api\", \"rest_api\", \"result\", \"result\", \"result\", \"result\", \"result\", \"result\", \"result\", \"result\", \"result\", \"result\", \"return\", \"return\", \"return\", \"return\", \"return\", \"return\", \"return\", \"return\", \"return\", \"role\", \"role\", \"role\", \"role\", \"role\", \"route\", \"route\", \"route\", \"router\", \"row\", \"row\", \"row\", \"ruby\", \"ruby\", \"safari\", \"scala\", \"schema\", \"schema\", \"score\", \"screen\", \"screen\", \"screen\", \"script\", \"script\", \"script\", \"script\", \"script\", \"script\", \"script\", \"sdk\", \"sdk\", \"sdk\", \"segment\", \"segmentation_fault\", \"select\", \"select\", \"select\", \"select_statement\", \"sentence\", \"sentence\", \"server\", \"server\", \"server\", \"server\", \"server\", \"server\", \"server\", \"service\", \"service\", \"service\", \"service\", \"service\", \"services\", \"servlet\", \"servlet\", \"session\", \"session\", \"session\", \"session\", \"set\", \"set\", \"set\", \"set\", \"set\", \"set\", \"set\", \"set\", \"set\", \"set\", \"sharepoint\", \"sheet\", \"shell\", \"shortcut\", \"simple\", \"simple\", \"simple\", \"simple\", \"simple\", \"simple\", \"simple\", \"simple\", \"simple\", \"simple\", \"simulator\", \"singleton\", \"site\", \"site\", \"site\", \"site\", \"site\", \"size\", \"size\", \"size\", \"size\", \"size\", \"snapshot\", \"soap\", \"socket\", \"socket\", \"solr\", \"solution\", \"solution\", \"solution\", \"solution\", \"solution\", \"solution\", \"solution\", \"solution\", \"solution\", \"solution\", \"sorry\", \"sound\", \"source\", \"source\", \"source\", \"source\", \"source\", \"source\", \"source\", \"source\", \"source\", \"space\", \"space\", \"space\", \"spark\", \"spec\", \"spec\", \"speed\", \"speed\", \"speed\", \"speed\", \"speed\", \"speed\", \"spinner\", \"spreadsheet\", \"spring\", \"spring\", \"spring_mvc\", \"sprite\", \"sql\", \"sql_query\", \"sql_server\", \"sqlite\", \"square\", \"ssh\", \"statement\", \"statement\", \"statement\", \"statement\", \"statement\", \"static\", \"static\", \"static\", \"static\", \"static\", \"static\", \"static\", \"stop\", \"store\", \"store\", \"store\", \"store\", \"store\", \"store\", \"store\", \"store\", \"store\", \"stored_procedure\", \"stream\", \"stream\", \"stream\", \"string\", \"string\", \"string\", \"string\", \"struct\", \"submit_button\", \"subscription\", \"substring\", \"svg\", \"svn\", \"swift\", \"swift\", \"system\", \"system\", \"system\", \"system\", \"system\", \"system\", \"system\", \"system\", \"system\", \"system\", \"t\", \"t\", \"t\", \"t\", \"table\", \"tableview\", \"tag\", \"tag\", \"tag\", \"tag\", \"terminal\", \"test\", \"test\", \"test\", \"test\", \"test\", \"test\", \"test\", \"test\", \"test_case\", \"test_case\", \"text\", \"text\", \"text\", \"text\", \"text\", \"text\", \"text_box\", \"text_box\", \"textarea\", \"textbox\", \"textbox\", \"textfield\", \"textview\", \"tfs\", \"theme\", \"thread\", \"thread\", \"thread\", \"thread\", \"tile\", \"time\", \"time\", \"time\", \"time\", \"time\", \"time\", \"time\", \"time\", \"time\", \"time\", \"timestamp\", \"tomcat\", \"tomcat\", \"tooltip\", \"touch\", \"transaction\", \"true_false\", \"tuple\", \"tutorial\", \"tutorial\", \"tutorial\", \"tutorial\", \"tutorial\", \"tutorial\", \"tutorial\", \"tutorial\", \"tutorial\", \"type\", \"type\", \"type\", \"type\", \"type\", \"type\", \"type\", \"type\", \"type\", \"type\", \"typescript\", \"ubuntu\", \"unicode\", \"unit_test\", \"unix\", \"url\", \"url\", \"url\", \"user\", \"user\", \"user\", \"user\", \"user\", \"user\", \"user\", \"user\", \"user\", \"user\", \"userid\", \"validator\", \"value\", \"value\", \"value\", \"value\", \"value\", \"value\", \"value\", \"variable\", \"variable\", \"variable\", \"variable\", \"variable\", \"variable\", \"variable\", \"variable\", \"vba\", \"vba\", \"vector\", \"vector\", \"version\", \"version\", \"version\", \"version\", \"version\", \"version\", \"version\", \"version\", \"version\", \"vertex\", \"view\", \"view\", \"view\", \"view\", \"view\", \"view\", \"view_controller\", \"view_controller\", \"viewcontroller\", \"vim\", \"visual_studio\", \"visual_studio\", \"visual_studio\", \"visual_studio\", \"vm\", \"vs\", \"vs\", \"vs\", \"web\", \"web\", \"web\", \"web\", \"web\", \"web\", \"web_service\", \"webpage\", \"webservice\", \"webservice\", \"webservice\", \"website\", \"website\", \"website\", \"website\", \"website\", \"white\", \"widget\", \"widget\", \"width\", \"width_height\", \"window\", \"window\", \"window\", \"window\", \"window\", \"windows\", \"word\", \"word\", \"word\", \"word\", \"word\", \"wordpress\", \"worker\", \"wpf\", \"wpf\", \"wrong\", \"wrong\", \"wrong\", \"wrong\", \"wrong\", \"wrong\", \"wrong\", \"wrong\", \"wrong\", \"wrong\", \"wsdl\", \"x\", \"x\", \"x\", \"x\", \"x\", \"x\", \"x\", \"x\", \"x_axis\", \"xaml\", \"xcode\", \"xcode\", \"xcode\", \"xcode\", \"xml\", \"xml\", \"xpath\", \"xslt\", \"z\", \"zip_file\", \"|\"]}, \"R\": 30, \"lambda.step\": 0.01, \"plot.opts\": {\"xlab\": \"PC1\", \"ylab\": \"PC2\"}, \"topic.order\": [8, 9, 10, 7, 4, 2, 1, 3, 5, 6]};\n",
       "\n",
       "function LDAvis_load_lib(url, callback){\n",
       "  var s = document.createElement('script');\n",
       "  s.src = url;\n",
       "  s.async = true;\n",
       "  s.onreadystatechange = s.onload = callback;\n",
       "  s.onerror = function(){console.warn(\"failed to load library \" + url);};\n",
       "  document.getElementsByTagName(\"head\")[0].appendChild(s);\n",
       "}\n",
       "\n",
       "if(typeof(LDAvis) !== \"undefined\"){\n",
       "   // already loaded: just create the visualization\n",
       "   !function(LDAvis){\n",
       "       new LDAvis(\"#\" + \"ldavis_el994422406775601367260634559\", ldavis_el994422406775601367260634559_data);\n",
       "   }(LDAvis);\n",
       "}else if(typeof define === \"function\" && define.amd){\n",
       "   // require.js is available: use it to load d3/LDAvis\n",
       "   require.config({paths: {d3: \"https://cdnjs.cloudflare.com/ajax/libs/d3/3.5.5/d3.min\"}});\n",
       "   require([\"d3\"], function(d3){\n",
       "      window.d3 = d3;\n",
       "      LDAvis_load_lib(\"https://cdn.rawgit.com/bmabey/pyLDAvis/files/ldavis.v1.0.0.js\", function(){\n",
       "        new LDAvis(\"#\" + \"ldavis_el994422406775601367260634559\", ldavis_el994422406775601367260634559_data);\n",
       "      });\n",
       "    });\n",
       "}else{\n",
       "    // require.js not available: dynamically load d3 & LDAvis\n",
       "    LDAvis_load_lib(\"https://cdnjs.cloudflare.com/ajax/libs/d3/3.5.5/d3.min.js\", function(){\n",
       "         LDAvis_load_lib(\"https://cdn.rawgit.com/bmabey/pyLDAvis/files/ldavis.v1.0.0.js\", function(){\n",
       "                 new LDAvis(\"#\" + \"ldavis_el994422406775601367260634559\", ldavis_el994422406775601367260634559_data);\n",
       "            })\n",
       "         });\n",
       "}\n",
       "</script>"
      ],
      "text/plain": [
       "PreparedData(topic_coordinates=            Freq  cluster  topics         x         y\n",
       "topic                                                \n",
       "7      14.951986        1       1  0.022395  0.149621\n",
       "8      12.837156        1       2 -0.089824  0.066700\n",
       "9      12.315733        1       3  0.150578 -0.031470\n",
       "6       9.755641        1       4 -0.181189 -0.097175\n",
       "3       9.695883        1       5  0.055657 -0.020520\n",
       "1       9.488662        1       6  0.165388 -0.010921\n",
       "0       8.757404        1       7 -0.031171  0.246769\n",
       "2       8.278286        1       8 -0.197138 -0.019958\n",
       "4       7.078676        1       9 -0.059384 -0.192314\n",
       "5       6.840572        1      10  0.164688 -0.090731, topic_info=     Category          Freq         Term          Total  loglift  logprob\n",
       "term                                                                     \n",
       "13    Default  98710.000000         file   98710.000000  30.0000  30.0000\n",
       "45    Default  48996.000000        class   48996.000000  29.0000  29.0000\n",
       "394   Default  44001.000000        table   44001.000000  28.0000  28.0000\n",
       "194   Default  38730.000000        image   38730.000000  27.0000  27.0000\n",
       "5     Default  39908.000000          app   39908.000000  26.0000  26.0000\n",
       "91    Default  47623.000000         page   47623.000000  25.0000  25.0000\n",
       "53    Default  58148.000000         user   58148.000000  24.0000  24.0000\n",
       "60    Default  53818.000000     function   53818.000000  23.0000  23.0000\n",
       "387   Default  40363.000000       object   40363.000000  22.0000  22.0000\n",
       "88    Default  51938.000000        datum   51938.000000  21.0000  21.0000\n",
       "3     Default  75448.000000        error   75448.000000  20.0000  20.0000\n",
       "94    Default  27108.000000     database   27108.000000  19.0000  19.0000\n",
       "149   Default  27919.000000       column   27919.000000  18.0000  18.0000\n",
       "705   Default  31223.000000       string   31223.000000  17.0000  17.0000\n",
       "72    Default  45290.000000       method   45290.000000  16.0000  16.0000\n",
       "215   Default  24523.000000         \\n     24523.000000  15.0000  15.0000\n",
       "103   Default  22960.000000        query   22960.000000  14.0000  14.0000\n",
       "770   Default  28931.000000        array   28931.000000  13.0000  13.0000\n",
       "97    Default  33866.000000       server   33866.000000  12.0000  12.0000\n",
       "760   Default  22152.000000          row   22152.000000  11.0000  11.0000\n",
       "298   Default  29255.000000      project   29255.000000  10.0000  10.0000\n",
       "49    Default  27306.000000       button   27306.000000   9.0000   9.0000\n",
       "64    Default  36670.000000  application   36670.000000   8.0000   8.0000\n",
       "389   Default  23319.000000     variable   23319.000000   7.0000   7.0000\n",
       "409   Default  21047.000000         html   21047.000000   6.0000   6.0000\n",
       "537   Default  26130.000000         form   26130.000000   5.0000   5.0000\n",
       "589   Default  24420.000000         view   24420.000000   4.0000   4.0000\n",
       "86    Default  17774.000000      android   17774.000000   3.0000   3.0000\n",
       "232   Default  32483.000000         list   32483.000000   2.0000   2.0000\n",
       "326   Default  15332.000000        model   15332.000000   1.0000   1.0000\n",
       "...       ...           ...          ...            ...      ...      ...\n",
       "73    Topic10    875.337673      ios_app     892.417667   2.6630  -6.5224\n",
       "1101  Topic10   3916.453992      account    4311.041284   2.5863  -5.0241\n",
       "1205  Topic10   3486.693191     password    3879.397243   2.5756  -5.1403\n",
       "78    Topic10   4780.012376          ios    5477.822868   2.5460  -4.8248\n",
       "86    Topic10  14086.595819      android   17774.397722   2.4498  -3.7440\n",
       "8030  Topic10   1124.863957        apple    1176.252014   2.6376  -6.2716\n",
       "1588  Topic10   1140.543262   webservice    1201.847947   2.6299  -6.2578\n",
       "1227  Topic10   2725.286123       iphone    3194.063924   2.5236  -5.3867\n",
       "734   Topic10   3105.794066     facebook    3850.572941   2.4673  -5.2560\n",
       "818   Topic10   8038.306842      service   11993.386387   2.2822  -4.3050\n",
       "53    Topic10  30400.106918         user   58148.818750   2.0337  -2.9748\n",
       "64    Topic10  16169.338249  application   36670.776432   1.8634  -3.6061\n",
       "706   Topic10   2540.764181        xcode    3463.686047   2.3724  -5.4568\n",
       "1807  Topic10   1911.146363          sdk    2484.471166   2.4199  -5.7416\n",
       "1303  Topic10   1270.464849         role    1472.653972   2.5346  -6.1499\n",
       "120   Topic10   2812.909725       domain    4751.175672   2.1581  -5.3550\n",
       "976   Topic10   3018.125358        login    5269.929708   2.1249  -5.2846\n",
       "323   Topic10   1768.905823       native    2453.755236   2.3550  -5.8189\n",
       "302   Topic10   4419.093305          api   15090.493216   1.4542  -4.9033\n",
       "4554  Topic10   1963.020204   permission    3377.478408   2.1397  -5.7148\n",
       "2414  Topic10   1864.777688       mobile    3175.918280   2.1498  -5.7661\n",
       "497   Topic10   2776.343276       google    7175.461492   1.7328  -5.3681\n",
       "87    Topic10   2173.518934        store    4951.881616   1.8589  -5.6129\n",
       "11    Topic10   6814.373163               228656.187027  -0.8309  -4.4702\n",
       "109   Topic10   5484.343029          not  124627.522171  -0.4411  -4.6874\n",
       "100   Topic10   2080.836925       access    8092.315734   1.3242  -5.6565\n",
       "311   Topic10   2293.295102     question   31180.786986   0.0725  -5.5593\n",
       "1811  Topic10   1928.697940     activity    6223.588359   1.5108  -5.7324\n",
       "8     Topic10   2043.458937         time   42508.216766  -0.3528  -5.6746\n",
       "69    Topic10   2100.994595         code  132305.497873  -1.4604  -5.6469\n",
       "\n",
       "[688 rows x 6 columns], token_table=       Topic      Freq          Term\n",
       "term                                \n",
       "215        2  0.000285          \\n  \n",
       "215        3  0.000082          \\n  \n",
       "215        5  0.999550          \\n  \n",
       "215        6  0.000041          \\n  \n",
       "2813       5  0.999758        \\n    \n",
       "14034      5  0.998305       \\n     \n",
       "7517       5  0.999898      \\n      \n",
       "2194       5  0.999461    \\n        \n",
       "9141       8  0.998475   \\n         \n",
       "7149       2  0.999330  \\n          \n",
       "10648      5  0.999137   \\n    _\\n  \n",
       "11         1  0.174537              \n",
       "11         2  0.171257              \n",
       "11         3  0.117102              \n",
       "11         4  0.123128              \n",
       "11         5  0.071531              \n",
       "11         6  0.106116              \n",
       "11         7  0.096997              \n",
       "11         8  0.078130              \n",
       "11         9  0.031405              \n",
       "11        10  0.029800              \n",
       "517        1  0.107651              \n",
       "517        2  0.183858              \n",
       "517        3  0.123892              \n",
       "517        4  0.128695              \n",
       "517        5  0.139540              \n",
       "517        6  0.082941              \n",
       "517        7  0.090617              \n",
       "517        8  0.121020              \n",
       "517        9  0.006536              \n",
       "...      ...       ...           ...\n",
       "204        3  0.089976         wrong\n",
       "204        4  0.077632         wrong\n",
       "204        5  0.067172         wrong\n",
       "204        6  0.156305         wrong\n",
       "204        7  0.068213         wrong\n",
       "204        8  0.005304         wrong\n",
       "204        9  0.026274         wrong\n",
       "204       10  0.012840         wrong\n",
       "1372      10  0.997860          wsdl\n",
       "202        1  0.001964             x\n",
       "202        2  0.262489             x\n",
       "202        3  0.074296             x\n",
       "202        4  0.000164             x\n",
       "202        7  0.067913             x\n",
       "202        8  0.589128             x\n",
       "202        9  0.003764             x\n",
       "202       10  0.000164             x\n",
       "3083       8  0.998554        x_axis\n",
       "2840       7  0.999354          xaml\n",
       "706        3  0.021365         xcode\n",
       "706        6  0.222018         xcode\n",
       "706        7  0.022808         xcode\n",
       "706       10  0.733612         xcode\n",
       "829        7  0.120383           xml\n",
       "829        9  0.879615           xml\n",
       "2176       8  0.998425         xpath\n",
       "8161       9  0.998965          xslt\n",
       "11833      2  0.997874             z\n",
       "12493      2  0.999323      zip_file\n",
       "4232       8  0.999656             |\n",
       "\n",
       "[1682 rows x 3 columns], R=30, lambda_step=0.01, plot_opts={'xlab': 'PC1', 'ylab': 'PC2'}, topic_order=[8, 9, 10, 7, 4, 2, 1, 3, 5, 6])"
      ]
     },
     "execution_count": 10,
     "metadata": {},
     "output_type": "execute_result"
    }
   ],
   "source": [
    "pyLDAvis.enable_notebook()\n",
    "pyLDAvis.gensim.prepare(ldamodel, corpus, dictionary)"
   ]
  },
  {
   "cell_type": "markdown",
   "metadata": {},
   "source": [
    "\n",
    "\n",
    "\n",
    "### Topic Coherence\n",
    "\n",
    "Topic Coherence is a new gensim functionality where we can identify which topic model is 'better'. \n",
    "By returning a score, we can compare between different topic models of the same. We use the same example from the news classification notebook to plot a graph between the topic models we have created."
   ]
  },
  {
   "cell_type": "code",
   "execution_count": 11,
   "metadata": {
    "collapsed": true
   },
   "outputs": [],
   "source": [
    "#lsitopics = [[word for word, prob in topic] for topicid, topic in lsimodel.show_topics(formatted=False)]\n",
    "\n",
    "#hdptopics = [[word for word, prob in topic] for topicid, topic in hdpmodel.show_topics(formatted=False)]\n",
    "\n",
    "#ldatopics = [[word for word, prob in topic] for topicid, topic in ldamodel.show_topics(formatted=False)]"
   ]
  },
  {
   "cell_type": "code",
   "execution_count": 12,
   "metadata": {
    "collapsed": true
   },
   "outputs": [],
   "source": [
    "#lsi_coherence = CoherenceModel(topics=lsitopics[:10], texts=texts, dictionary=dictionary, window_size=10).get_coherence()\n",
    "\n",
    "#hdp_coherence = CoherenceModel(topics=hdptopics[:10], texts=texts, dictionary=dictionary, window_size=10).get_coherence()\n",
    "\n",
    "#lda_coherence = CoherenceModel(topics=ldatopics, texts=texts, dictionary=dictionary, window_size=10).get_coherence()"
   ]
  },
  {
   "cell_type": "code",
   "execution_count": 13,
   "metadata": {
    "collapsed": true
   },
   "outputs": [],
   "source": [
    "def evaluate_bar_graph(coherences, indices):\n",
    "    \"\"\"\n",
    "    Function to plot bar graph.\n",
    "    \n",
    "    coherences: list of coherence values\n",
    "    indices: Indices to be used to mark bars. Length of this and coherences should be equal.\n",
    "    \"\"\"\n",
    "    assert len(coherences) == len(indices)\n",
    "    n = len(coherences)\n",
    "    x = np.arange(n)\n",
    "    plt.bar(x, coherences, width=0.2, tick_label=indices, align='center')\n",
    "    plt.xlabel('Models')\n",
    "    plt.ylabel('Coherence Value')"
   ]
  },
  {
   "cell_type": "code",
   "execution_count": 14,
   "metadata": {
    "collapsed": true
   },
   "outputs": [],
   "source": [
    "#evaluate_bar_graph([lsi_coherence, hdp_coherence, lda_coherence],\n",
    "#                   ['LSI', 'HDP', 'LDA'])"
   ]
  },
  {
   "cell_type": "markdown",
   "metadata": {},
   "source": [
    "We can see that topic coherence helped us get past manually inspecting our topic models - we can now keep fine tuning our models and compare between them to see which has the best performance. \n",
    "\n"
   ]
  },
  {
   "cell_type": "code",
   "execution_count": 15,
   "metadata": {},
   "outputs": [
    {
     "name": "stderr",
     "output_type": "stream",
     "text": [
      "C:\\Users\\maneet\\AppData\\Local\\Continuum\\Anaconda3\\lib\\site-packages\\pyLDAvis\\_prepare.py:387: DeprecationWarning: \n",
      ".ix is deprecated. Please use\n",
      ".loc for label based indexing or\n",
      ".iloc for positional indexing\n",
      "\n",
      "See the documentation here:\n",
      "http://pandas.pydata.org/pandas-docs/stable/indexing.html#ix-indexer-is-deprecated\n",
      "  topic_term_dists = topic_term_dists.ix[topic_order]\n"
     ]
    }
   ],
   "source": [
    "pyLDAvis.save_html(pyLDAvis.gensim.prepare(ldamodel, corpus, dictionary), \"demo2.html\")"
   ]
  },
  {
   "cell_type": "code",
   "execution_count": 16,
   "metadata": {
    "collapsed": true
   },
   "outputs": [],
   "source": [
    "#print(lsi_coherence)\n",
    "#print(hdp_coherence)\n",
    "#print(lda_coherence)"
   ]
  },
  {
   "cell_type": "code",
   "execution_count": null,
   "metadata": {
    "collapsed": true
   },
   "outputs": [],
   "source": []
  }
 ],
 "metadata": {
  "kernelspec": {
   "display_name": "Python 3",
   "language": "python",
   "name": "python3"
  },
  "language_info": {
   "codemirror_mode": {
    "name": "ipython",
    "version": 3
   },
   "file_extension": ".py",
   "mimetype": "text/x-python",
   "name": "python",
   "nbconvert_exporter": "python",
   "pygments_lexer": "ipython3",
   "version": "3.6.1"
  }
 },
 "nbformat": 4,
 "nbformat_minor": 2
}
