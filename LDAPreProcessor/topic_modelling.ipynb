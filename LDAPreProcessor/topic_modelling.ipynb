{
 "cells": [
  {
   "cell_type": "markdown",
   "metadata": {
    "collapsed": true
   },
   "source": [
    "### Topic Modelling with Gensim!\n",
    "\n",
    "This notebook will walk you through the entire process of analysing your text - from pre-processing to creating your topic models and visualising them. \n",
    "\n",
    "python offers a very rich suite of NLP and CL tools, and we will illustrate these to the best of our capabilities.\n",
    "Let's start by setting up our imports.\n",
    "\n",
    "We will be needing: \n",
    "```\n",
    "- Gensim\n",
    "- matplotlib\n",
    "- spaCy\n",
    "- pyLDAVis\n",
    "```\n"
   ]
  },
  {
   "cell_type": "code",
   "execution_count": 1,
   "metadata": {},
   "outputs": [],
   "source": [
    "# Suppressing warnings\n",
    "import warnings\n",
    "warnings.filterwarnings(action='ignore', category=UserWarning, module='gensim')\n",
    "\n",
    "# Importing Libraries\n",
    "import os\n",
    "\n",
    "import matplotlib.pyplot as plt\n",
    "import gensim\n",
    "import numpy as np\n",
    "import spacy\n",
    "import en_core_web_sm\n",
    "\n",
    "from gensim.models import CoherenceModel, LdaModel, LsiModel, HdpModel\n",
    "from gensim.models.wrappers import LdaMallet\n",
    "from gensim.corpora import Dictionary\n",
    "import pyLDAvis.gensim\n",
    "\n",
    "\n"
   ]
  },
  {
   "cell_type": "markdown",
   "metadata": {},
   "source": [
    "For this tutorial, we will be using the Lee corpus which is a shortened version of the [Lee Background Corpus](http://www.socsci.uci.edu/~mdlee/lee_pincombe_welsh_document.PDF). The shortened version consists of 300 documents selected from the Australian Broadcasting Corporation's news mail service. It consists of texts of headline stories from around the year 2000-2001. \n",
    "\n",
    "We should keep in mind we can use pretty much any textual data-set and go ahead with what we will be doing."
   ]
  },
  {
   "cell_type": "code",
   "execution_count": null,
   "metadata": {
    "collapsed": true
   },
   "outputs": [],
   "source": []
  },
  {
   "cell_type": "markdown",
   "metadata": {},
   "source": [
    "### Pre-processing data!\n",
    "\n",
    "It's been often said in Machine Learning and NLP algorithms - garbage in, garbage out. We can't have state-of-the-art results without data which is aa good. Let's spend this section working on cleaning and understanding our data set.\n",
    "NTLK is usually a popular choice for pre-processing - but is a rather [outdated](https://explosion.ai/blog/dead-code-should-be-buried) and we will be checking out spaCy, an industry grade text-processing package. "
   ]
  },
  {
   "cell_type": "code",
   "execution_count": null,
   "metadata": {
    "collapsed": true
   },
   "outputs": [],
   "source": []
  },
  {
   "cell_type": "markdown",
   "metadata": {},
   "source": [
    "For safe measure, let's add some stopwords. It's a newspaper corpus, so it is likely we will be coming across variations of 'said' and 'Mister' which will not really add any value to the topic models."
   ]
  },
  {
   "cell_type": "code",
   "execution_count": null,
   "metadata": {
    "collapsed": true
   },
   "outputs": [],
   "source": []
  },
  {
   "cell_type": "code",
   "execution_count": null,
   "metadata": {
    "collapsed": true
   },
   "outputs": [],
   "source": []
  },
  {
   "cell_type": "markdown",
   "metadata": {},
   "source": [
    "Voila! With the `English` pipeline, all the heavy lifting has been done. Let's see what went on under the hood."
   ]
  },
  {
   "cell_type": "code",
   "execution_count": null,
   "metadata": {
    "collapsed": true
   },
   "outputs": [],
   "source": []
  },
  {
   "cell_type": "markdown",
   "metadata": {},
   "source": [
    "It seems like nothing, right? But spaCy's internal data structure has done all the work for us. Let's see how we can create our corpus. You can check out what a gensim corpus looks like [here](google.com)."
   ]
  },
  {
   "cell_type": "code",
   "execution_count": null,
   "metadata": {
    "collapsed": true
   },
   "outputs": [],
   "source": []
  },
  {
   "cell_type": "markdown",
   "metadata": {},
   "source": [
    "And this is the magic of spaCy - just like that, we've managed to get rid of stopwords, punctauation markers, and added the lemmatized word. There's lot more we can do with spaCy which I would really recommend checking out.\n",
    "\n",
    "Sometimes topic models make more sense when 'New' and 'York' are treated as 'New_York' - we can do this by creating a bigram model and modifying our corpus accordingly."
   ]
  },
  {
   "cell_type": "code",
   "execution_count": null,
   "metadata": {
    "collapsed": true
   },
   "outputs": [],
   "source": []
  },
  {
   "cell_type": "code",
   "execution_count": 2,
   "metadata": {},
   "outputs": [
    {
     "name": "stdout",
     "output_type": "stream",
     "text": [
      "File read!\n",
      "Stop words added!\n",
      "Text tagged!\n",
      "Texts bigramed!\n"
     ]
    }
   ],
   "source": [
    "import txtpreprocess as tp\n",
    "texts = tp.txtpreprocess()"
   ]
  },
  {
   "cell_type": "code",
   "execution_count": 3,
   "metadata": {
    "collapsed": true
   },
   "outputs": [],
   "source": [
    "dictionary = Dictionary(texts)\n",
    "corpus = [dictionary.doc2bow(text) for text in texts]"
   ]
  },
  {
   "cell_type": "markdown",
   "metadata": {},
   "source": [
    "We're now done with a very important part of any text analysis - the data cleaning and setting up of corpus. It must be kept in mind that we created the corpus the way we did because that's how gensim requires it - most algorithms still require one to clean the data set the way we did, by removing stop words and numbers, adding the lemmatized form of the word, and using bigrams. "
   ]
  },
  {
   "cell_type": "markdown",
   "metadata": {},
   "source": [
    "### LSI\n",
    "\n",
    "LSI stands for Latent Semantic Indeixing - it is a popular information retreival method which works by decomposing the original matrix of words to maintain key topics. Gensim's implementation uses an SVD."
   ]
  },
  {
   "cell_type": "code",
   "execution_count": 4,
   "metadata": {
    "collapsed": true
   },
   "outputs": [],
   "source": [
    "#lsimodel = LsiModel(corpus=corpus, num_topics=10, id2word=dictionary)"
   ]
  },
  {
   "cell_type": "code",
   "execution_count": 5,
   "metadata": {
    "collapsed": true
   },
   "outputs": [],
   "source": [
    "#lsimodel.show_topics(num_topics=5)  # Showing only the top 5 topics"
   ]
  },
  {
   "cell_type": "markdown",
   "metadata": {},
   "source": [
    "### HDP\n",
    "\n",
    "HDP, the Hierarchical Dirichlet process is an unsupervised topic model which figures out the number of topics on it's own."
   ]
  },
  {
   "cell_type": "code",
   "execution_count": 6,
   "metadata": {
    "collapsed": true
   },
   "outputs": [],
   "source": [
    "#hdpmodel = HdpModel(corpus=corpus, id2word=dictionary)"
   ]
  },
  {
   "cell_type": "code",
   "execution_count": 7,
   "metadata": {
    "collapsed": true
   },
   "outputs": [],
   "source": [
    "#hdpmodel.show_topics()"
   ]
  },
  {
   "cell_type": "markdown",
   "metadata": {},
   "source": [
    "### LDA\n",
    "\n",
    "LDA, or Latent Dirichlet Allocation is arguably the most famous topic modelling algorithm out there. Out here we create a simple topic model with 10 topics."
   ]
  },
  {
   "cell_type": "code",
   "execution_count": 8,
   "metadata": {
    "collapsed": true
   },
   "outputs": [],
   "source": [
    "\n",
    "ldamodel = LdaModel(corpus=corpus, num_topics=10, id2word=dictionary)"
   ]
  },
  {
   "cell_type": "code",
   "execution_count": 9,
   "metadata": {},
   "outputs": [
    {
     "data": {
      "text/plain": [
       "[(0,\n",
       "  '0.011*\"app\" + 0.011*\"alarm\" + 0.011*\"extension\" + 0.011*\"ios\" + 0.011*\"word\" + 0.011*\"tone\" + 0.011*\"idea\" + 0.011*\"application\" + 0.011*\"time\" + 0.011*\"color\"'),\n",
       " (1,\n",
       "  '0.064*\"ios\" + 0.061*\"word\" + 0.048*\"app\" + 0.038*\"version\" + 0.036*\"character\" + 0.035*\"extension\" + 0.034*\"vowel\" + 0.022*\"friend\" + 0.020*\"sequence\" + 0.020*\"base\"'),\n",
       " (2,\n",
       "  '0.011*\"app\" + 0.011*\"alarm\" + 0.011*\"ios\" + 0.011*\"extension\" + 0.011*\"application\" + 0.011*\"code\" + 0.011*\"tone\" + 0.011*\"time\" + 0.011*\"word\" + 0.011*\"button\"'),\n",
       " (3,\n",
       "  '0.123*\"alarm\" + 0.066*\"tone\" + 0.040*\"english\" + 0.038*\"application?,\"how\" + 0.037*\"method\" + 0.037*\"tone:-\" + 0.035*\"problem\" + 0.035*\"advance\" + 0.034*\"set\" + 0.033*\"main\"'),\n",
       " (4,\n",
       "  '0.011*\"app\" + 0.011*\"alarm\" + 0.011*\"ios\" + 0.011*\"extension\" + 0.011*\"code\" + 0.011*\"tone\" + 0.011*\"word\" + 0.011*\"idea\" + 0.011*\"application\" + 0.011*\"version\"'),\n",
       " (5,\n",
       "  '0.064*\"alarm\" + 0.052*\"class\" + 0.040*\"click\" + 0.034*\"mouse\" + 0.034*\"button\" + 0.034*\"color\" + 0.032*\"tone\" + 0.032*\"immediately\" + 0.023*\"time\" + 0.022*\"element\"'),\n",
       " (6,\n",
       "  '0.077*\"class\" + 0.057*\"immediately\" + 0.055*\"color\" + 0.055*\"button\" + 0.055*\"mouse\" + 0.047*\"click\" + 0.031*\"css\" + 0.031*\"user\" + 0.031*\"function\" + 0.030*\"jquery\"'),\n",
       " (7,\n",
       "  '0.097*\"extension\" + 0.097*\"ios\" + 0.075*\"app\" + 0.043*\"version\" + 0.035*\"code\" + 0.035*\"application\" + 0.033*\"phasis\" + 0.032*\"info.plist\" + 0.032*\"build?,\"i\" + 0.030*\"reference\"'),\n",
       " (8,\n",
       "  '0.099*\"word\" + 0.047*\"vowel\" + 0.044*\"character\" + 0.029*\"letter\" + 0.028*\"original\" + 0.028*\"unchanged\" + 0.027*\"-soul\" + 0.027*\"stdin\" + 0.027*\"program\" + 0.027*\"e.g.\"'),\n",
       " (9,\n",
       "  '0.087*\"app\" + 0.059*\"error\" + 0.059*\"foundry\" + 0.031*\"usage\" + 0.031*\"detail\" + 0.031*\"server.js\" + 0.031*\"windows\",\"i\" + 0.031*\"file\" + 0.031*\"cloudfoundry\" + 0.031*\"response\"')]"
      ]
     },
     "execution_count": 9,
     "metadata": {},
     "output_type": "execute_result"
    }
   ],
   "source": [
    "ldamodel.show_topics()"
   ]
  },
  {
   "cell_type": "markdown",
   "metadata": {},
   "source": [
    "### pyLDAvis \n",
    "\n",
    "Thanks to pyLDAvis, we can visualise our topic models in a really handy way. All we need to do is enable our notebook and prepare the object."
   ]
  },
  {
   "cell_type": "code",
   "execution_count": 10,
   "metadata": {},
   "outputs": [
    {
     "name": "stderr",
     "output_type": "stream",
     "text": [
      "C:\\Users\\maneet\\AppData\\Local\\Continuum\\Anaconda3\\lib\\site-packages\\pyLDAvis\\_prepare.py:387: DeprecationWarning: \n",
      ".ix is deprecated. Please use\n",
      ".loc for label based indexing or\n",
      ".iloc for positional indexing\n",
      "\n",
      "See the documentation here:\n",
      "http://pandas.pydata.org/pandas-docs/stable/indexing.html#ix-indexer-is-deprecated\n",
      "  topic_term_dists = topic_term_dists.ix[topic_order]\n"
     ]
    },
    {
     "data": {
      "text/html": [
       "\n",
       "<link rel=\"stylesheet\" type=\"text/css\" href=\"https://cdn.rawgit.com/bmabey/pyLDAvis/files/ldavis.v1.0.0.css\">\n",
       "\n",
       "\n",
       "<div id=\"ldavis_el113626380477515288444218515\"></div>\n",
       "<script type=\"text/javascript\">\n",
       "\n",
       "var ldavis_el113626380477515288444218515_data = {\"mdsDat\": {\"Freq\": [21.913688005555596, 21.91365963716673, 20.263047584201544, 18.612801847255888, 15.313904588584629, 0.396608021913997, 0.3965935712576713, 0.39656558135465775, 0.39656558135464276, 0.39656558135463843], \"cluster\": [1, 1, 1, 1, 1, 1, 1, 1, 1, 1], \"topics\": [1, 2, 3, 4, 5, 6, 7, 8, 9, 10], \"x\": [-0.016935576192952013, -0.09398505856020953, 0.13240079495099863, -0.08627021298094951, 0.07259882659183875, -0.16143451049372665, 0.15411388713067278, -0.000162649025393583, -0.00016273289452432938, -0.00016276852575415198], \"y\": [0.22724945447289469, -0.07397381096978904, -0.03827417494469239, -0.0021796738587892854, -0.02696988711779563, -0.07151952840105875, -0.050651959295575665, 0.012106446135215379, 0.012106534984147717, 0.012106598995443064]}, \"tinfo\": {\"Category\": [\"Default\", \"Default\", \"Default\", \"Default\", \"Default\", \"Default\", \"Default\", \"Default\", \"Default\", \"Default\", \"Default\", \"Default\", \"Default\", \"Default\", \"Default\", \"Default\", \"Default\", \"Default\", \"Default\", \"Default\", \"Default\", \"Default\", \"Default\", \"Default\", \"Default\", \"Default\", \"Default\", \"Default\", \"Default\", \"Default\", \"Topic1\", \"Topic1\", \"Topic1\", \"Topic1\", \"Topic1\", \"Topic1\", \"Topic1\", \"Topic1\", \"Topic1\", \"Topic1\", \"Topic1\", \"Topic1\", \"Topic1\", \"Topic1\", \"Topic1\", \"Topic1\", \"Topic1\", \"Topic1\", \"Topic1\", \"Topic1\", \"Topic1\", \"Topic1\", \"Topic1\", \"Topic1\", \"Topic1\", \"Topic1\", \"Topic1\", \"Topic1\", \"Topic1\", \"Topic1\", \"Topic1\", \"Topic1\", \"Topic1\", \"Topic1\", \"Topic1\", \"Topic1\", \"Topic1\", \"Topic2\", \"Topic2\", \"Topic2\", \"Topic2\", \"Topic2\", \"Topic2\", \"Topic2\", \"Topic2\", \"Topic2\", \"Topic2\", \"Topic2\", \"Topic2\", \"Topic2\", \"Topic2\", \"Topic2\", \"Topic2\", \"Topic2\", \"Topic2\", \"Topic2\", \"Topic2\", \"Topic2\", \"Topic2\", \"Topic2\", \"Topic2\", \"Topic2\", \"Topic2\", \"Topic2\", \"Topic2\", \"Topic2\", \"Topic2\", \"Topic2\", \"Topic2\", \"Topic2\", \"Topic2\", \"Topic2\", \"Topic2\", \"Topic2\", \"Topic2\", \"Topic3\", \"Topic3\", \"Topic3\", \"Topic3\", \"Topic3\", \"Topic3\", \"Topic3\", \"Topic3\", \"Topic3\", \"Topic3\", \"Topic3\", \"Topic3\", \"Topic3\", \"Topic3\", \"Topic3\", \"Topic3\", \"Topic3\", \"Topic3\", \"Topic3\", \"Topic3\", \"Topic3\", \"Topic3\", \"Topic3\", \"Topic3\", \"Topic3\", \"Topic3\", \"Topic3\", \"Topic3\", \"Topic3\", \"Topic3\", \"Topic3\", \"Topic3\", \"Topic3\", \"Topic3\", \"Topic3\", \"Topic3\", \"Topic3\", \"Topic3\", \"Topic3\", \"Topic3\", \"Topic3\", \"Topic3\", \"Topic4\", \"Topic4\", \"Topic4\", \"Topic4\", \"Topic4\", \"Topic4\", \"Topic4\", \"Topic4\", \"Topic4\", \"Topic4\", \"Topic4\", \"Topic4\", \"Topic4\", \"Topic4\", \"Topic4\", \"Topic4\", \"Topic4\", \"Topic4\", \"Topic4\", \"Topic4\", \"Topic4\", \"Topic4\", \"Topic4\", \"Topic4\", \"Topic4\", \"Topic4\", \"Topic4\", \"Topic4\", \"Topic4\", \"Topic4\", \"Topic4\", \"Topic4\", \"Topic4\", \"Topic4\", \"Topic4\", \"Topic4\", \"Topic4\", \"Topic4\", \"Topic4\", \"Topic4\", \"Topic4\", \"Topic4\", \"Topic4\", \"Topic4\", \"Topic5\", \"Topic5\", \"Topic5\", \"Topic5\", \"Topic5\", \"Topic5\", \"Topic5\", \"Topic5\", \"Topic5\", \"Topic5\", \"Topic5\", \"Topic5\", \"Topic5\", \"Topic5\", \"Topic5\", \"Topic5\", \"Topic5\", \"Topic5\", \"Topic5\", \"Topic5\", \"Topic5\", \"Topic5\", \"Topic5\", \"Topic5\", \"Topic5\", \"Topic5\", \"Topic5\", \"Topic5\", \"Topic5\", \"Topic5\", \"Topic5\", \"Topic5\", \"Topic5\", \"Topic5\", \"Topic5\", \"Topic5\", \"Topic5\", \"Topic5\", \"Topic5\", \"Topic5\", \"Topic5\", \"Topic5\", \"Topic5\", \"Topic5\", \"Topic5\", \"Topic6\", \"Topic6\", \"Topic6\", \"Topic6\", \"Topic6\", \"Topic6\", \"Topic6\", \"Topic6\", \"Topic6\", \"Topic6\", \"Topic6\", \"Topic6\", \"Topic6\", \"Topic6\", \"Topic6\", \"Topic6\", \"Topic6\", \"Topic6\", \"Topic6\", \"Topic6\", \"Topic6\", \"Topic6\", \"Topic6\", \"Topic6\", \"Topic6\", \"Topic6\", \"Topic6\", \"Topic6\", \"Topic6\", \"Topic6\", \"Topic6\", \"Topic6\", \"Topic7\", \"Topic7\", \"Topic7\", \"Topic7\", \"Topic7\", \"Topic7\", \"Topic7\", \"Topic7\", \"Topic7\", \"Topic7\", \"Topic7\", \"Topic7\", \"Topic7\", \"Topic7\", \"Topic7\", \"Topic7\", \"Topic7\", \"Topic7\", \"Topic7\", \"Topic7\", \"Topic7\", \"Topic7\", \"Topic7\", \"Topic7\", \"Topic7\", \"Topic7\", \"Topic7\", \"Topic7\", \"Topic7\", \"Topic7\", \"Topic7\", \"Topic7\", \"Topic7\", \"Topic8\", \"Topic8\", \"Topic8\", \"Topic8\", \"Topic8\", \"Topic8\", \"Topic8\", \"Topic8\", \"Topic8\", \"Topic8\", \"Topic8\", \"Topic8\", \"Topic8\", \"Topic8\", \"Topic8\", \"Topic8\", \"Topic8\", \"Topic8\", \"Topic8\", \"Topic8\", \"Topic8\", \"Topic8\", \"Topic8\", \"Topic8\", \"Topic8\", \"Topic8\", \"Topic8\", \"Topic8\", \"Topic8\", \"Topic8\", \"Topic8\", \"Topic8\", \"Topic8\", \"Topic8\", \"Topic8\", \"Topic8\", \"Topic8\", \"Topic8\", \"Topic8\", \"Topic8\", \"Topic8\", \"Topic8\", \"Topic8\", \"Topic8\", \"Topic8\", \"Topic8\", \"Topic8\", \"Topic8\", \"Topic8\", \"Topic8\", \"Topic8\", \"Topic8\", \"Topic9\", \"Topic9\", \"Topic9\", \"Topic9\", \"Topic9\", \"Topic9\", \"Topic9\", \"Topic9\", \"Topic9\", \"Topic9\", \"Topic9\", \"Topic9\", \"Topic9\", \"Topic9\", \"Topic9\", \"Topic9\", \"Topic9\", \"Topic9\", \"Topic9\", \"Topic9\", \"Topic9\", \"Topic9\", \"Topic9\", \"Topic9\", \"Topic9\", \"Topic9\", \"Topic9\", \"Topic9\", \"Topic9\", \"Topic9\", \"Topic9\", \"Topic9\", \"Topic9\", \"Topic9\", \"Topic9\", \"Topic9\", \"Topic9\", \"Topic9\", \"Topic9\", \"Topic9\", \"Topic9\", \"Topic9\", \"Topic9\", \"Topic9\", \"Topic9\", \"Topic9\", \"Topic9\", \"Topic9\", \"Topic9\", \"Topic9\", \"Topic9\", \"Topic9\", \"Topic9\", \"Topic10\", \"Topic10\", \"Topic10\", \"Topic10\", \"Topic10\", \"Topic10\", \"Topic10\", \"Topic10\", \"Topic10\", \"Topic10\", \"Topic10\", \"Topic10\", \"Topic10\", \"Topic10\", \"Topic10\", \"Topic10\", \"Topic10\", \"Topic10\", \"Topic10\", \"Topic10\", \"Topic10\", \"Topic10\", \"Topic10\", \"Topic10\", \"Topic10\", \"Topic10\", \"Topic10\", \"Topic10\", \"Topic10\", \"Topic10\", \"Topic10\", \"Topic10\", \"Topic10\", \"Topic10\", \"Topic10\", \"Topic10\", \"Topic10\", \"Topic10\", \"Topic10\", \"Topic10\", \"Topic10\", \"Topic10\", \"Topic10\", \"Topic10\", \"Topic10\", \"Topic10\", \"Topic10\", \"Topic10\", \"Topic10\", \"Topic10\", \"Topic10\", \"Topic10\", \"Topic10\", \"Topic10\", \"Topic10\", \"Topic10\", \"Topic10\"], \"Freq\": [3.0, 2.0, 4.0, 2.0, 2.0, 2.0, 1.0, 1.0, 1.0, 1.0, 1.0, 1.0, 1.0, 1.0, 1.0, 1.0, 1.0, 2.0, 2.0, 1.0, 1.0, 1.0, 1.0, 1.0, 1.0, 1.0, 1.0, 1.0, 1.0, 1.0, 1.55537514600709, 1.5553745713125118, 0.8147225038601031, 0.8147216224319395, 0.8147219349511544, 0.8147216636601727, 0.8147217156929757, 0.8147212368498415, 0.8147209849960937, 0.8147211152603422, 0.8147203934017736, 0.8147205189653511, 0.81472002572327, 0.8147197825464431, 0.8147194870495666, 0.8147196638370492, 0.8147191370577316, 0.8147190947775788, 0.8147187981687867, 0.8147177536950292, 2.2960254248717322, 0.8147195239561597, 0.814718505210965, 0.07406703188662099, 0.07406706112615874, 0.07406730468481774, 0.07406692102604046, 0.07406718741273857, 0.07406695553643357, 0.07406696272087014, 0.07407137409199561, 0.0740707287833143, 0.07406928095244088, 0.07406873397383833, 0.07406851884797287, 0.07406837617237041, 0.07406834844411789, 2.6223021175482573, 1.257780938336066, 1.1767454272829454, 0.7576709539534157, 0.7516614205647367, 0.7458618807374184, 0.7240563197856901, 0.7227957420034026, 0.719537765510389, 0.7092024161631716, 0.7090694757889275, 0.7089535464772204, 0.7048236759834665, 0.7022052019814874, 0.6933583840010228, 0.6893187711439827, 0.6824105851737335, 0.6784005255788107, 0.6681734380057655, 0.6555067417917827, 0.6373643140800258, 0.528440075126617, 0.12530068589956653, 0.125301903907269, 0.12530083259289276, 0.1253015871895025, 0.12530030235574005, 0.12530052874495343, 0.1253009842508606, 0.125300656278554, 0.1253073313133652, 0.12530722954937842, 0.12530563523840516, 0.12530490764065388, 0.12530289899425498, 0.12530285492491489, 0.12530266158855974, 0.12530258857889687, 1.8928908197065926, 1.4024289670757741, 1.3493541686763775, 1.3469755104589243, 1.3469232237726416, 1.1616864492535426, 0.7697925792601793, 0.7691308997344983, 0.7539191946844457, 0.7310293566262567, 0.7294468836948492, 0.7275924607281916, 0.7233588476694791, 0.6505647361313681, 0.647722310466708, 0.636664622021888, 0.627413170079338, 0.7149796090611401, 0.10766269424308936, 0.10766232796193534, 0.107662861473661, 0.10766276010028504, 0.10766304188628997, 0.10766309561058335, 0.10766272296289474, 0.10766304599434226, 0.10766282704534641, 0.10766227316768849, 0.10766218849768812, 0.10766280034690612, 0.10767005129990981, 0.10766859545094984, 0.10766567066988869, 0.10766557060661074, 0.10766518882395572, 0.10766487117788595, 0.10766434397105197, 0.10766421373661114, 0.10766417852539126, 0.10766416981740529, 0.10766376594788879, 0.10766366856368248, 2.1798523887105934, 2.1757692839804794, 0.9715538158500829, 0.7508931341253081, 0.7116093413822935, 0.7101990897560463, 0.6845498592078094, 0.6690005931604591, 0.6252015292337785, 0.6222429130558791, 0.6058829401620904, 0.5596224153755304, 0.7866962371122963, 0.7857975557005401, 1.6820632059946932, 0.109596407311176, 0.10959680691035406, 0.10959725933711238, 0.10959624051182475, 0.10959618281475694, 0.10959640702504367, 0.10959634752310497, 0.10959605945174909, 0.10959656243658479, 0.10959638866426345, 0.10959669304714428, 0.10959608947672968, 0.10959710218575572, 0.1095962658586438, 0.1095962347830223, 0.10960260150505706, 0.10959869822275246, 0.1095985515610458, 0.10959808532649895, 0.1095980541810909, 0.10959778864766648, 0.10959763694258023, 0.10959755699507223, 0.10959749212383917, 0.1095974320345536, 0.10959738920851535, 0.10959735118141957, 0.10959720794014227, 0.10959714546989642, 2.2735106595722536, 1.2175253799609134, 0.7347276420316147, 0.6960832188223989, 0.6897277390088016, 0.6837738389623417, 0.650634251104286, 0.6430752365900246, 0.6374014751337218, 0.6145359995030626, 0.5976034426468994, 0.5524727585723479, 0.5989819540366796, 0.5801295424982001, 0.5314819611125232, 0.09353602833119594, 0.09353629660708124, 0.09353661155132374, 0.09353613805490386, 0.09353580317883572, 0.0935361911775248, 0.09353596352839305, 0.09353623453679813, 0.09353581419045452, 0.09353637940803465, 0.09353608000567566, 0.09353583172606678, 0.09353603033496362, 0.09353639100991228, 0.09353630281089094, 0.09354106984035263, 0.09354016998279147, 0.09353864799345854, 0.09353831450131504, 0.09353779750836158, 0.09353771283043587, 0.09353746326607164, 0.09353726727816478, 0.09353726694136787, 0.09353707907582229, 0.09353687343866454, 0.09353687126381192, 0.09353683743603866, 0.0935367139280514, 0.09353670300011105, 0.01817144251533654, 0.03063904204373957, 0.010766658581929931, 0.0174430452844869, 0.016548255943433853, 0.009536990796084265, 0.029151202036555635, 0.009564011878383369, 0.009363727430927471, 0.008953013238221945, 0.009223842325757448, 0.009110922655704937, 0.00874651358262756, 0.009066635256501093, 0.008709150170803398, 0.008990371715484481, 0.008945781265760814, 0.008848073435790272, 0.008819180633919873, 0.008773577415353388, 0.008772322501574023, 0.008770836531239525, 0.008656719183171886, 0.008620754105332789, 0.008606871151086113, 0.00815625853898635, 0.008366095587283904, 0.007959985735106931, 0.008302044618967374, 0.00823569303941351, 0.016752946027935367, 0.023037003452404246, 0.019338886074340016, 0.030523925491613722, 0.024873801327634885, 0.010512154998638895, 0.010648389075888772, 0.010500086459322263, 0.010322938864175367, 0.010277398704320343, 0.015497457146472535, 0.009679723401680182, 0.0163705961935456, 0.016369770824841038, 0.016331612142000573, 0.009367462079511663, 0.015481159988688232, 0.008945713201509017, 0.00884103231774989, 0.008701642624866005, 0.009110917901789119, 0.009043060145225846, 0.009013376704186242, 0.00898800623021895, 0.008621205340994276, 0.008090397087936572, 0.007980543478310122, 0.00837741601595751, 0.00836686219533666, 0.007863284651118062, 0.010899389675434086, 0.007150584026018206, 0.010002079332589165, 0.009654379990296983, 0.00924522009908907, 0.005452772484610812, 0.005452755441450417, 0.005452776952196809, 0.005452758610425501, 0.005452795369993153, 0.0054527442605958555, 0.005452776909232837, 0.005452770757786176, 0.005452754668140234, 0.005452729037686411, 0.005452755272309095, 0.005452736431198898, 0.005452777738266178, 0.005452745080956991, 0.005452762427158007, 0.005452764788147802, 0.005452778477654644, 0.005452769660945887, 0.005452770659295999, 0.005452745639223855, 0.00545275576053474, 0.005452768880942047, 0.0054527529604237405, 0.0054527683186439985, 0.0054527702889969705, 0.005452743792121009, 0.005452754485739085, 0.005452747301816765, 0.005452759518660644, 0.005452761215374194, 0.005453012935742792, 0.005452979460116084, 0.005452917180029053, 0.005452909062706788, 0.0054528972949779465, 0.005452876782888808, 0.005452876660722734, 0.005452871011653453, 0.005452859783646392, 0.005452841908677745, 0.0054528376712512285, 0.005452833699338831, 0.005452826451020705, 0.005452826254413738, 0.005452821670646133, 0.005452808434481709, 0.005452798432812509, 0.005452786129317644, 0.0054527852510243766, 0.005452779230343526, 0.005452777434129454, 0.0054527706895627125, 0.005452746516111512, 0.00545274163711863, 0.005452762458397541, 0.005452763275166759, 0.005452787364069753, 0.005452749065914158, 0.005452750135534475, 0.00545275510211666, 0.005452770241610563, 0.005452765068094127, 0.005452789616769796, 0.00545273020152297, 0.005452743657007281, 0.005452742980262553, 0.005452767283568341, 0.0054527437677833, 0.00545279259341602, 0.005452743775611508, 0.005452785744487547, 0.005452748891803361, 0.005452746422643458, 0.005452756106870013, 0.00545274640393437, 0.005452739786822951, 0.005452763682360469, 0.005452747954412334, 0.005452757845773556, 0.005452740798888783, 0.00545275880881447, 0.005452808115040113, 0.005453110667751189, 0.005453041033703476, 0.005452962767549751, 0.005452909177113761, 0.005452897720547589, 0.005452869766230819, 0.005452865578342383, 0.005452862420533596, 0.00545283502247196, 0.005452826122064866, 0.0054528250005776565, 0.00545282411758374, 0.005452817772279595, 0.005452815040249293, 0.005452812434079527, 0.0054528080687482, 0.005452805770997099, 0.005452804862315216, 0.005452791669896899, 0.005452786830531115, 0.0054527837713473385, 0.0054527744219096674, 0.005452767448216049, 0.00545275904579061, 0.005452750874315253, 0.005452761508462201, 0.005452752952856869, 0.005452761320514522, 0.005452745778080705, 0.005452740642468341, 0.005452747392913444, 0.00545276583619631, 0.005452750897656678, 0.005452765527504777, 0.005452726665254205, 0.005452752306829781, 0.005452767942208941, 0.005452762152578587, 0.005452747838051121, 0.00545278692261112, 0.005452751285490585, 0.005452761363196991, 0.0054527537558659404, 0.005452756597740049, 0.005452731775584079, 0.005452733796693293, 0.005452742307121695, 0.005452767122540007, 0.0054527502803412104, 0.005452743121657336, 0.005452717821066313, 0.00545275138022355, 0.005452746940444408, 0.0054531542423909, 0.005453138345570616, 0.005452972545456824, 0.005452926673809593, 0.005452920119497032, 0.005452849854572861, 0.0054528413556425605, 0.005452835454082645, 0.005452835427433575, 0.005452833020949337, 0.005452821369208873, 0.005452810273860831, 0.005452809275323737, 0.005452805713942865, 0.005452805478505155, 0.005452804966932669, 0.005452804484737466, 0.0054527978628265, 0.005452794358462906, 0.005452781700783547, 0.005452781463452336, 0.005452780877666737, 0.005452780187310858, 0.005452779575673, 0.005452774268635519, 0.005452768216183431, 0.005452767565928721], \"Term\": [\"word\", \"alarm\", \"app\", \"ios\", \"class\", \"extension\", \"immediately\", \"color\", \"button\", \"mouse\", \"click\", \"vowel\", \"character\", \"tone\", \"version\", \"code\", \"application\", \"error\", \"foundry\", \"time\", \"idea\", \"css\", \"user\", \"function\", \"jquery\", \"released),\\\"i'd\", \"kind\", \"complex\", \"letter\", \"original\", \"error\", \"foundry\", \"usage\", \"file\", \"detail\", \"windows\\\",\\\"i\", \"server.js\", \"cloudfoundry\", \"command\", \"response\", \"incorrect\", \"manually\", \"hard\", \"exact\", \"fine\", \"folder\", \"paul\", \"node.js\", \"cloud\", \"syntax\", \"app\", \"time\", \"idea\", \"friend\", \"base\", \"pick\", \"hint\", \"bad\", \"simple\", \"sequence\", \"alarm\", \"extension\", \"ios\", \"application\", \"tone\", \"version\", \"code\", \"word\", \"vowel\", \"character\", \"letter\", \"original\", \"unchanged\", \"-soul\", \"stdin\", \"program\", \"e.g.\", \"consecutive\", \"iendfr\", \"rotate\", \"unable\", \"stdout\", \"place\", \"stream\", \"suggestion\", \"alphabetic\", \"c,\\\"i\", \"sequence\", \"friend\", \"base\", \"pick\", \"hint\", \"bad\", \"simple\", \"scheme\", \"main\", \"element\", \"alarm\", \"app\", \"ios\", \"extension\", \"time\", \"code\", \"class\", \"application\", \"class\", \"immediately\", \"color\", \"button\", \"mouse\", \"click\", \"css\", \"user\", \"function\", \"jquery\", \"released),\\\"i'd\", \"kind\", \"complex\", \"change\", \"basic\", \"spin\", \"element\", \"idea\", \"friend\", \"base\", \"pick\", \"hint\", \"bad\", \"simple\", \"sequence\", \"scheme\", \"main\", \"c,\\\"i\", \"alphabetic\", \"set\", \"alarm\", \"app\", \"ios\", \"extension\", \"word\", \"tone\", \"code\", \"vowel\", \"foundry\", \"application?,\\\"how\", \"time\", \"version\", \"extension\", \"ios\", \"version\", \"phasis\", \"info.plist\", \"build?,\\\"i\", \"reference\", \"build\", \"scheme\", \"simple\", \"hint\", \"base\", \"code\", \"application\", \"app\", \"friend\", \"pick\", \"bad\", \"sequence\", \"main\", \"element\", \"spin\", \"c,\\\"i\", \"basic\", \"alphabetic\", \"set\", \"change\", \"advance\", \"suggestion\", \"problem\", \"alarm\", \"idea\", \"word\", \"tone\", \"class\", \"time\", \"color\", \"method\", \"mouse\", \"foundry\", \"button\", \"vowel\", \"click\", \"application?,\\\"how\", \"alarm\", \"tone\", \"english\", \"application?,\\\"how\", \"method\", \"tone:-\", \"problem\", \"advance\", \"set\", \"main\", \"bad\", \"pick\", \"application\", \"code\", \"time\", \"friend\", \"base\", \"hint\", \"simple\", \"sequence\", \"scheme\", \"element\", \"spin\", \"c,\\\"i\", \"basic\", \"alphabetic\", \"change\", \"suggestion\", \"stream\", \"build\", \"extension\", \"app\", \"ios\", \"word\", \"idea\", \"immediately\", \"click\", \"class\", \"error\", \"foundry\", \"color\", \"mouse\", \"version\", \"character\", \"button\", \"version\", \"ios\", \"friend\", \"character\", \"vowel\", \"base\", \"word\", \"sequence\", \"c,\\\"i\", \"hint\", \"alphabetic\", \"suggestion\", \"simple\", \"stream\", \"scheme\", \"place\", \"stdout\", \"unable\", \"rotate\", \"iendfr\", \"consecutive\", \"e.g.\", \"program\", \"stdin\", \"-soul\", \"build\", \"unchanged\", \"reference\", \"original\", \"letter\", \"extension\", \"app\", \"click\", \"alarm\", \"class\", \"pick\", \"element\", \"spin\", \"basic\", \"change\", \"tone\", \"bad\", \"mouse\", \"button\", \"color\", \"main\", \"immediately\", \"set\", \"advance\", \"problem\", \"complex\", \"kind\", \"released),\\\"i'd\", \"jquery\", \"function\", \"tone:-\", \"method\", \"user\", \"css\", \"application?,\\\"how\", \"time\", \"english\", \"code\", \"application\", \"idea\", \"friend\", \"base\", \"pick\", \"hint\", \"bad\", \"simple\", \"sequence\", \"scheme\", \"main\", \"element\", \"spin\", \"c,\\\"i\", \"basic\", \"alphabetic\", \"set\", \"change\", \"advance\", \"suggestion\", \"problem\", \"stream\", \"build\", \"place\", \"stdout\", \"reference\", \"unable\", \"rotate\", \"iendfr\", \"consecutive\", \"e.g.\", \"tone:-\", \"app\", \"alarm\", \"ios\", \"extension\", \"application\", \"code\", \"tone\", \"time\", \"word\", \"button\", \"mouse\", \"class\", \"color\", \"idea\", \"click\", \"error\", \"vowel\", \"character\", \"immediately\", \"method\", \"version\", \"foundry\", \"friend\", \"base\", \"pick\", \"hint\", \"bad\", \"simple\", \"sequence\", \"scheme\", \"main\", \"element\", \"spin\", \"c,\\\"i\", \"basic\", \"alphabetic\", \"set\", \"change\", \"advance\", \"suggestion\", \"problem\", \"stream\", \"build\", \"place\", \"stdout\", \"reference\", \"unable\", \"rotate\", \"iendfr\", \"consecutive\", \"e.g.\", \"tone:-\", \"app\", \"alarm\", \"ios\", \"extension\", \"code\", \"tone\", \"word\", \"idea\", \"application\", \"version\", \"mouse\", \"time\", \"button\", \"error\", \"color\", \"vowel\", \"class\", \"character\", \"immediately\", \"method\", \"click\", \"application?,\\\"how\", \"build?,\\\"i\", \"friend\", \"base\", \"pick\", \"hint\", \"bad\", \"simple\", \"sequence\", \"scheme\", \"main\", \"element\", \"spin\", \"c,\\\"i\", \"basic\", \"alphabetic\", \"set\", \"change\", \"advance\", \"suggestion\", \"problem\", \"stream\", \"build\", \"place\", \"stdout\", \"reference\", \"unable\", \"rotate\", \"iendfr\", \"consecutive\", \"e.g.\", \"tone:-\", \"app\", \"alarm\", \"extension\", \"ios\", \"word\", \"tone\", \"idea\", \"application\", \"time\", \"color\", \"vowel\", \"code\", \"application?,\\\"how\", \"class\", \"error\", \"click\", \"version\", \"immediately\", \"foundry\", \"button\", \"mouse\", \"character\", \"user\", \"kind\", \"method\", \"syntax\", \"build?,\\\"i\"], \"Total\": [3.0, 2.0, 4.0, 2.0, 2.0, 2.0, 1.0, 1.0, 1.0, 1.0, 1.0, 1.0, 1.0, 1.0, 1.0, 1.0, 1.0, 2.0, 2.0, 1.0, 1.0, 1.0, 1.0, 1.0, 1.0, 1.0, 1.0, 1.0, 1.0, 1.0, 2.0109414101716823, 2.0109420919567054, 1.27028288074039, 1.2702820659321008, 1.270282626598111, 1.2702822137522718, 1.2702824078515675, 1.2702819436479789, 1.2702819853547318, 1.2702823106366237, 1.270281791855494, 1.2702820053964776, 1.2702816975971585, 1.270281751857814, 1.2702815100216276, 1.2702818737189354, 1.2702816302133753, 1.2702817340612063, 1.2702813136243936, 1.2702815204861384, 4.345726239211527, 1.7174073512630859, 1.8851241233950458, 0.942152399255907, 0.9878092516135586, 0.9973555677656266, 1.0334865806529223, 1.0416540637942042, 1.0496393841507576, 1.0498735519656477, 2.738428637844131, 2.615271680764285, 2.6250716485650987, 1.7245093720267122, 1.667398113841505, 1.4083796492832223, 1.7068925908206214, 3.0544075255611003, 1.6772792606726579, 1.5971364569044857, 1.1688519138482716, 1.1629083148867014, 1.1571726672810003, 1.135607053719965, 1.1343618385028904, 1.131140455654021, 1.1209184393415306, 1.1207868874906013, 1.1206728866406623, 1.116588649303066, 1.113999436203393, 1.1052495658546844, 1.1012546939064072, 1.094423455303774, 1.090456757378266, 1.0803426105781566, 1.0678150139226434, 1.0498735519656477, 0.942152399255907, 0.9878092516135586, 0.9973555677656266, 1.0334865806529223, 1.0416540637942042, 1.0496393841507576, 1.0525610834908163, 1.058272432966193, 1.0583033450553103, 2.738428637844131, 4.345726239211527, 2.6250716485650987, 2.615271680764285, 1.7174073512630859, 1.7068925908206214, 2.3380125287267908, 1.7245093720267122, 2.3380125287267908, 1.8381561115722744, 1.7859319994109297, 1.7835905816579785, 1.7835395667818135, 1.6012722943837536, 1.1984003845088014, 1.1977506796488468, 1.182782362048643, 1.1602590134538109, 1.1587011212506857, 1.1568778166826545, 1.1527117009092527, 1.081083763329408, 1.0782872983698548, 1.0674078250472758, 1.0583033450553103, 1.8851241233950458, 0.942152399255907, 0.9878092516135586, 0.9973555677656266, 1.0334865806529223, 1.0416540637942042, 1.0496393841507576, 1.0498735519656477, 1.0525610834908163, 1.058272432966193, 1.0678150139226434, 1.0803426105781566, 1.0807169537793457, 2.738428637844131, 4.345726239211527, 2.6250716485650987, 2.615271680764285, 3.0544075255611003, 1.667398113841505, 1.7068925908206214, 1.6772792606726579, 2.0109420919567054, 1.1383189929796393, 1.7174073512630859, 1.4083796492832223, 2.615271680764285, 2.6250716485650987, 1.4083796492832223, 1.176666050233848, 1.137878082467367, 1.1364859882318072, 1.1111603218590138, 1.0958070792468382, 1.0525610834908163, 1.0496393841507576, 1.0334865806529223, 0.9878092516135586, 1.7068925908206214, 1.7245093720267122, 4.345726239211527, 0.942152399255907, 0.9973555677656266, 1.0416540637942042, 1.0498735519656477, 1.058272432966193, 1.0583033450553103, 1.0674078250472758, 1.0678150139226434, 1.0782872983698548, 1.0803426105781566, 1.0807169537793457, 1.081083763329408, 1.0862861622132698, 1.090456757378266, 1.0937047488924294, 2.738428637844131, 1.8851241233950458, 3.0544075255611003, 1.667398113841505, 2.3380125287267908, 1.7174073512630859, 1.7859319994109297, 1.1320792820933232, 1.7835395667818135, 2.0109420919567054, 1.7835905816579785, 1.6772792606726579, 1.6012722943837536, 1.1383189929796393, 2.738428637844131, 1.667398113841505, 1.1762479635263416, 1.1383189929796393, 1.1320792820933232, 1.1262336105387576, 1.0937047488924294, 1.0862861622132698, 1.0807169537793457, 1.058272432966193, 1.0416540637942042, 0.9973555677656266, 1.7245093720267122, 1.7068925908206214, 1.7174073512630859, 0.942152399255907, 0.9878092516135586, 1.0334865806529223, 1.0496393841507576, 1.0498735519656477, 1.0525610834908163, 1.0583033450553103, 1.0674078250472758, 1.0678150139226434, 1.0782872983698548, 1.0803426105781566, 1.081083763329408, 1.090456757378266, 1.094423455303774, 1.0958070792468382, 2.615271680764285, 4.345726239211527, 2.6250716485650987, 3.0544075255611003, 1.8851241233950458, 1.8381561115722744, 1.6012722943837536, 2.3380125287267908, 2.0109414101716823, 2.0109420919567054, 1.7859319994109297, 1.7835395667818135, 1.4083796492832223, 1.5971364569044857, 1.7835905816579785, 1.4083796492832223, 2.6250716485650987, 0.942152399255907, 1.5971364569044857, 1.6772792606726579, 0.9878092516135586, 3.0544075255611003, 1.0498735519656477, 1.0678150139226434, 1.0334865806529223, 1.0803426105781566, 1.090456757378266, 1.0496393841507576, 1.094423455303774, 1.0525610834908163, 1.1012546939064072, 1.1052495658546844, 1.113999436203393, 1.116588649303066, 1.1206728866406623, 1.1207868874906013, 1.1209184393415306, 1.131140455654021, 1.1343618385028904, 1.135607053719965, 1.0958070792468382, 1.1571726672810003, 1.1111603218590138, 1.1629083148867014, 1.1688519138482716, 2.615271680764285, 4.345726239211527, 1.6012722943837536, 2.738428637844131, 2.3380125287267908, 0.9973555677656266, 1.0583033450553103, 1.0674078250472758, 1.0782872983698548, 1.081083763329408, 1.667398113841505, 1.0416540637942042, 1.7835395667818135, 1.7835905816579785, 1.7859319994109297, 1.058272432966193, 1.8381561115722744, 1.0807169537793457, 1.0862861622132698, 1.0937047488924294, 1.1527117009092527, 1.1568778166826545, 1.1587011212506857, 1.1602590134538109, 1.182782362048643, 1.1262336105387576, 1.1320792820933232, 1.1977506796488468, 1.1984003845088014, 1.1383189929796393, 1.7174073512630859, 1.1762479635263416, 1.7068925908206214, 1.7245093720267122, 1.8851241233950458, 0.942152399255907, 0.9878092516135586, 0.9973555677656266, 1.0334865806529223, 1.0416540637942042, 1.0496393841507576, 1.0498735519656477, 1.0525610834908163, 1.058272432966193, 1.0583033450553103, 1.0674078250472758, 1.0678150139226434, 1.0782872983698548, 1.0803426105781566, 1.0807169537793457, 1.081083763329408, 1.0862861622132698, 1.090456757378266, 1.0937047488924294, 1.094423455303774, 1.0958070792468382, 1.1012546939064072, 1.1052495658546844, 1.1111603218590138, 1.113999436203393, 1.116588649303066, 1.1206728866406623, 1.1207868874906013, 1.1209184393415306, 1.1262336105387576, 4.345726239211527, 2.738428637844131, 2.6250716485650987, 2.615271680764285, 1.7245093720267122, 1.7068925908206214, 1.667398113841505, 1.7174073512630859, 3.0544075255611003, 1.7835905816579785, 1.7835395667818135, 2.3380125287267908, 1.7859319994109297, 1.8851241233950458, 1.6012722943837536, 2.0109414101716823, 1.6772792606726579, 1.5971364569044857, 1.8381561115722744, 1.1320792820933232, 1.4083796492832223, 2.0109420919567054, 0.942152399255907, 0.9878092516135586, 0.9973555677656266, 1.0334865806529223, 1.0416540637942042, 1.0496393841507576, 1.0498735519656477, 1.0525610834908163, 1.058272432966193, 1.0583033450553103, 1.0674078250472758, 1.0678150139226434, 1.0782872983698548, 1.0803426105781566, 1.0807169537793457, 1.081083763329408, 1.0862861622132698, 1.090456757378266, 1.0937047488924294, 1.094423455303774, 1.0958070792468382, 1.1012546939064072, 1.1052495658546844, 1.1111603218590138, 1.113999436203393, 1.116588649303066, 1.1206728866406623, 1.1207868874906013, 1.1209184393415306, 1.1262336105387576, 4.345726239211527, 2.738428637844131, 2.6250716485650987, 2.615271680764285, 1.7068925908206214, 1.667398113841505, 3.0544075255611003, 1.8851241233950458, 1.7245093720267122, 1.4083796492832223, 1.7835395667818135, 1.7174073512630859, 1.7835905816579785, 2.0109414101716823, 1.7859319994109297, 1.6772792606726579, 2.3380125287267908, 1.5971364569044857, 1.8381561115722744, 1.1320792820933232, 1.6012722943837536, 1.1383189929796393, 1.1364859882318072, 0.942152399255907, 0.9878092516135586, 0.9973555677656266, 1.0334865806529223, 1.0416540637942042, 1.0496393841507576, 1.0498735519656477, 1.0525610834908163, 1.058272432966193, 1.0583033450553103, 1.0674078250472758, 1.0678150139226434, 1.0782872983698548, 1.0803426105781566, 1.0807169537793457, 1.081083763329408, 1.0862861622132698, 1.090456757378266, 1.0937047488924294, 1.094423455303774, 1.0958070792468382, 1.1012546939064072, 1.1052495658546844, 1.1111603218590138, 1.113999436203393, 1.116588649303066, 1.1206728866406623, 1.1207868874906013, 1.1209184393415306, 1.1262336105387576, 4.345726239211527, 2.738428637844131, 2.615271680764285, 2.6250716485650987, 3.0544075255611003, 1.667398113841505, 1.8851241233950458, 1.7245093720267122, 1.7174073512630859, 1.7859319994109297, 1.6772792606726579, 1.7068925908206214, 1.1383189929796393, 2.3380125287267908, 2.0109414101716823, 1.6012722943837536, 1.4083796492832223, 1.8381561115722744, 2.0109420919567054, 1.7835905816579785, 1.7835395667818135, 1.5971364569044857, 1.1977506796488468, 1.1568778166826545, 1.1320792820933232, 1.2702815204861384, 1.1364859882318072], \"loglift\": [30.0, 29.0, 28.0, 27.0, 26.0, 25.0, 24.0, 23.0, 22.0, 21.0, 20.0, 19.0, 18.0, 17.0, 16.0, 15.0, 14.0, 13.0, 12.0, 11.0, 10.0, 9.0, 8.0, 7.0, 6.0, 5.0, 4.0, 3.0, 2.0, 1.0, 1.2612, 1.2612, 1.0739, 1.0739, 1.0739, 1.0739, 1.0739, 1.0739, 1.0739, 1.0739, 1.0739, 1.0739, 1.0739, 1.0739, 1.0739, 1.0739, 1.0739, 1.0739, 1.0739, 1.0739, 0.88, 0.7723, 0.6792, -1.0251, -1.0725, -1.0821, -1.1177, -1.1255, -1.1332, -1.1334, -2.0921, -2.046, -2.0498, -1.6296, -1.596, -1.4271, -1.6194, 1.3655, 1.2302, 1.2126, 1.0845, 1.0817, 1.0789, 1.068, 1.0674, 1.0657, 1.0603, 1.0602, 1.0602, 1.058, 1.0566, 1.0518, 1.0496, 1.0457, 1.0434, 1.0376, 1.0301, 1.019, 0.9398, -0.5467, -0.5563, -0.5919, -0.5998, -0.6074, -0.6102, -0.6156, -0.6156, -1.5663, -2.0281, -1.524, -1.5203, -1.0998, -1.0936, -1.4083, -1.1039, 1.3852, 1.3258, 1.3161, 1.3156, 1.3156, 1.2754, 1.1537, 1.1534, 1.146, 1.1344, 1.1336, 1.1326, 1.1304, 1.0885, 1.0867, 1.0796, 1.0736, 0.6269, -0.5728, -0.6201, -0.6297, -0.6653, -0.6732, -0.6808, -0.6811, -0.6836, -0.689, -0.698, -0.7097, -0.71, -1.6397, -2.1015, -1.5975, -1.5937, -1.7489, -1.1436, -1.167, -1.1495, -1.331, -0.7619, -1.1732, -0.9748, 1.4992, 1.4936, 1.31, 1.2321, 1.2119, 1.2112, 1.1969, 1.1879, 1.1604, 1.1584, 1.1473, 1.1131, 0.9067, 0.8953, 0.7321, -0.47, -0.527, -0.5704, -0.5783, -0.5863, -0.5863, -0.5949, -0.5952, -0.605, -0.6069, -0.6073, -0.6076, -0.6124, -0.6162, -0.6192, -1.537, -1.1636, -1.6462, -1.0409, -1.3789, -1.0704, -1.1096, -0.6537, -1.1082, -1.2282, -1.1082, -1.0468, -1.0004, -0.6592, 1.6903, 1.562, 1.4058, 1.3846, 1.3809, 1.3774, 1.357, 1.3522, 1.3484, 1.3329, 1.3208, 1.2857, 0.8189, 0.7972, 0.7035, -0.4334, -0.4807, -0.5259, -0.5414, -0.5417, -0.5442, -0.5497, -0.5582, -0.5586, -0.5684, -0.5703, -0.571, -0.5796, -0.5832, -0.5845, -1.4543, -1.9621, -1.4581, -1.6096, -1.127, -1.1017, -0.9638, -1.3423, -1.1916, -1.1916, -1.0729, -1.0716, -0.8354, -0.9612, -1.0716, 1.1796, 1.0794, 1.0583, 1.013, 0.9113, 0.8897, 0.8781, 0.8316, 0.7935, 0.7813, 0.7667, 0.7451, 0.7424, 0.7366, 0.7354, 0.7219, 0.7133, 0.6945, 0.6889, 0.68, 0.6798, 0.6795, 0.6573, 0.6503, 0.6476, 0.6295, 0.6004, 0.5912, 0.5878, 0.5747, 0.4794, 0.2901, 1.1136, 1.0334, 0.9868, 0.9774, 0.931, 0.9084, 0.8813, 0.8742, 0.8517, 0.8515, 0.8391, 0.8391, 0.8354, 0.8029, 0.7531, 0.7358, 0.7189, 0.6962, 0.6896, 0.6785, 0.6737, 0.6695, 0.6086, 0.5941, 0.5752, 0.5674, 0.5655, 0.5549, 0.4701, 0.4271, 0.3904, 0.3447, 0.2124, 0.378, 0.3307, 0.3211, 0.2855, 0.2776, 0.27, 0.2698, 0.2672, 0.2618, 0.2618, 0.2532, 0.2528, 0.2431, 0.2412, 0.2408, 0.2405, 0.2357, 0.2319, 0.2289, 0.2282, 0.227, 0.222, 0.2184, 0.213, 0.2105, 0.2082, 0.2045, 0.2044, 0.2043, 0.1996, -1.1507, -0.6889, -0.6466, -0.6429, -0.2265, -0.2162, -0.1928, -0.2223, -0.7981, -0.2602, -0.2601, -0.5308, -0.2615, -0.3155, -0.1523, -0.3801, -0.1987, -0.1498, -0.2903, 0.1944, -0.024, -0.3802, 0.378, 0.3307, 0.3211, 0.2855, 0.2776, 0.27, 0.2698, 0.2672, 0.2618, 0.2618, 0.2532, 0.2528, 0.2431, 0.2412, 0.2408, 0.2405, 0.2357, 0.2319, 0.2289, 0.2282, 0.227, 0.222, 0.2184, 0.213, 0.2105, 0.2082, 0.2045, 0.2044, 0.2043, 0.1996, -1.1507, -0.6889, -0.6466, -0.6429, -0.2162, -0.1928, -0.7981, -0.3155, -0.2265, -0.024, -0.2601, -0.2224, -0.2602, -0.3801, -0.2615, -0.1987, -0.5308, -0.1498, -0.2903, 0.1944, -0.1523, 0.1889, 0.1905, 0.378, 0.3307, 0.3211, 0.2855, 0.2776, 0.27, 0.2698, 0.2672, 0.2618, 0.2618, 0.2532, 0.2528, 0.2431, 0.2412, 0.2408, 0.2405, 0.2357, 0.2319, 0.2289, 0.2282, 0.227, 0.222, 0.2184, 0.213, 0.2105, 0.2082, 0.2045, 0.2044, 0.2043, 0.1996, -1.1507, -0.6889, -0.6429, -0.6466, -0.7981, -0.1928, -0.3155, -0.2265, -0.2224, -0.2615, -0.1987, -0.2162, 0.1889, -0.5308, -0.3801, -0.1523, -0.024, -0.2903, -0.3801, -0.2602, -0.2601, -0.1498, 0.138, 0.1727, 0.1944, 0.0792, 0.1905], \"logprob\": [30.0, 29.0, 28.0, 27.0, 26.0, 25.0, 24.0, 23.0, 22.0, 21.0, 20.0, 19.0, 18.0, 17.0, 16.0, 15.0, 14.0, 13.0, 12.0, 11.0, 10.0, 9.0, 8.0, 7.0, 6.0, 5.0, 4.0, 3.0, 2.0, 1.0, -2.836, -2.836, -3.4826, -3.4826, -3.4826, -3.4826, -3.4826, -3.4826, -3.4826, -3.4826, -3.4826, -3.4826, -3.4826, -3.4826, -3.4826, -3.4826, -3.4826, -3.4826, -3.4826, -3.4826, -2.4466, -3.4826, -3.4826, -5.8805, -5.8805, -5.8805, -5.8805, -5.8805, -5.8805, -5.8805, -5.8805, -5.8805, -5.8805, -5.8805, -5.8805, -5.8805, -5.8805, -2.3137, -3.0484, -3.115, -3.5552, -3.5632, -3.5709, -3.6006, -3.6024, -3.6069, -3.6213, -3.6215, -3.6217, -3.6275, -3.6313, -3.6439, -3.6498, -3.6599, -3.6657, -3.6809, -3.7001, -3.7281, -3.9156, -5.3548, -5.3548, -5.3548, -5.3548, -5.3548, -5.3548, -5.3548, -5.3548, -5.3547, -5.3547, -5.3547, -5.3547, -5.3548, -5.3548, -5.3548, -5.3548, -2.5613, -2.8612, -2.8998, -2.9016, -2.9016, -3.0495, -3.4611, -3.4619, -3.4819, -3.5127, -3.5149, -3.5174, -3.5233, -3.6293, -3.6337, -3.6509, -3.6656, -3.5349, -5.4282, -5.4282, -5.4282, -5.4282, -5.4282, -5.4282, -5.4282, -5.4282, -5.4282, -5.4282, -5.4282, -5.4282, -5.4281, -5.4281, -5.4281, -5.4281, -5.4281, -5.4282, -5.4282, -5.4282, -5.4282, -5.4282, -5.4282, -5.4282, -2.3352, -2.3371, -3.1433, -3.401, -3.4547, -3.4567, -3.4935, -3.5164, -3.5842, -3.5889, -3.6155, -3.695, -3.3544, -3.3555, -2.5944, -5.3254, -5.3254, -5.3254, -5.3254, -5.3254, -5.3254, -5.3254, -5.3254, -5.3254, -5.3254, -5.3254, -5.3254, -5.3254, -5.3254, -5.3254, -5.3254, -5.3254, -5.3254, -5.3254, -5.3254, -5.3254, -5.3254, -5.3254, -5.3254, -5.3254, -5.3254, -5.3254, -5.3254, -5.3254, -2.0981, -2.7226, -3.2276, -3.2817, -3.2908, -3.2995, -3.3492, -3.3609, -3.3697, -3.4063, -3.4342, -3.5127, -3.4319, -3.4639, -3.5515, -5.2888, -5.2888, -5.2888, -5.2888, -5.2888, -5.2888, -5.2888, -5.2888, -5.2888, -5.2888, -5.2888, -5.2888, -5.2888, -5.2888, -5.2888, -5.2887, -5.2887, -5.2888, -5.2888, -5.2888, -5.2888, -5.2888, -5.2888, -5.2888, -5.2888, -5.2888, -5.2888, -5.2888, -5.2888, -5.2888, -3.2737, -2.7513, -3.7971, -3.3146, -3.3673, -3.9184, -2.8011, -3.9156, -3.9367, -3.9816, -3.9518, -3.9641, -4.0049, -3.969, -4.0092, -3.9774, -3.9824, -3.9934, -3.9966, -4.0018, -4.002, -4.0021, -4.0152, -4.0194, -4.021, -4.0748, -4.0494, -4.0991, -4.0571, -4.0651, -3.355, -3.0365, -3.2114, -2.755, -2.9597, -3.821, -3.8081, -3.8221, -3.8392, -3.8436, -3.4329, -3.9035, -3.378, -3.3781, -3.3804, -3.9363, -3.4339, -3.9824, -3.9941, -4.01, -3.9641, -3.9715, -3.9748, -3.9776, -4.0193, -4.0829, -4.0965, -4.048, -4.0493, -4.1113, -3.7848, -4.2063, -3.8707, -3.9061, -3.9494, -4.4773, -4.4773, -4.4773, -4.4773, -4.4773, -4.4773, -4.4773, -4.4773, -4.4773, -4.4773, -4.4773, -4.4773, -4.4773, -4.4773, -4.4773, -4.4773, -4.4773, -4.4773, -4.4773, -4.4773, -4.4773, -4.4773, -4.4773, -4.4773, -4.4773, -4.4773, -4.4773, -4.4773, -4.4773, -4.4773, -4.4773, -4.4773, -4.4773, -4.4773, -4.4773, -4.4773, -4.4773, -4.4773, -4.4773, -4.4773, -4.4773, -4.4773, -4.4773, -4.4773, -4.4773, -4.4773, -4.4773, -4.4773, -4.4773, -4.4773, -4.4773, -4.4773, -4.4773, -4.4773, -4.4773, -4.4773, -4.4773, -4.4773, -4.4773, -4.4773, -4.4773, -4.4773, -4.4773, -4.4773, -4.4773, -4.4773, -4.4773, -4.4773, -4.4773, -4.4773, -4.4773, -4.4773, -4.4773, -4.4773, -4.4773, -4.4773, -4.4773, -4.4773, -4.4773, -4.4773, -4.4773, -4.4773, -4.4773, -4.4773, -4.4773, -4.4773, -4.4773, -4.4773, -4.4773, -4.4773, -4.4773, -4.4773, -4.4773, -4.4773, -4.4773, -4.4773, -4.4773, -4.4773, -4.4773, -4.4773, -4.4773, -4.4773, -4.4773, -4.4773, -4.4773, -4.4773, -4.4773, -4.4773, -4.4773, -4.4773, -4.4773, -4.4773, -4.4773, -4.4773, -4.4773, -4.4773, -4.4773, -4.4773, -4.4773, -4.4773, -4.4773, -4.4773, -4.4773, -4.4773, -4.4773, -4.4773, -4.4773, -4.4773, -4.4773, -4.4773, -4.4773, -4.4773, -4.4773, -4.4773, -4.4773, -4.4773, -4.4773, -4.4773, -4.4773, -4.4773, -4.4773, -4.4773, -4.4773, -4.4773, -4.4773, -4.4773, -4.4773, -4.4773, -4.4773, -4.4773, -4.4773, -4.4773, -4.4773, -4.4773, -4.4773, -4.4773, -4.4773, -4.4773, -4.4773, -4.4773, -4.4773, -4.4773]}, \"token.table\": {\"Topic\": [2, 5, 5, 2, 1, 4, 4, 5, 5, 5, 4, 3, 4, 4, 3, 2, 3, 2, 3, 3, 1, 1, 4, 5, 3, 1, 3, 2, 3, 1, 2, 3, 5, 1, 1, 4, 1, 1, 1, 1, 2, 3, 1, 4, 1, 3, 2, 3, 1, 4, 4, 3, 3, 2, 5, 1, 5, 3, 1, 2, 1, 4, 5, 2, 5, 2, 4, 3, 1, 2, 4, 2, 1, 5, 4, 3, 2, 2, 2, 2, 1, 1, 5, 5, 5, 2, 2, 1, 3, 4, 2, 1, 2], \"Freq\": [0.8805862879455089, 0.9205677424469214, 0.7303458532242527, 0.9256322857290981, 0.460222271240646, 0.460222271240646, 0.5798750741637084, 0.5798750741637084, 0.8784883729141877, 0.9600116149477879, 1.0123411968115588, 0.9273966238049832, 0.9125693919474516, 0.8799052609138122, 0.5606667865841871, 0.9364917958275156, 0.9249977050069694, 0.6261205770345792, 0.8554274091461512, 0.6245034048908265, 0.787227198632702, 0.7872268081904819, 0.5858599453637741, 0.5858599453637741, 0.559931733307785, 0.7872267823437216, 0.8675196054756844, 0.8922302813864654, 0.8344456601704768, 0.7872263849487233, 0.892125568553799, 0.9449086641106069, 0.8501608767950954, 0.994559060688522, 0.7872269270478607, 0.7647389044550513, 0.7872267324078336, 0.7872270769201184, 0.787226851527334, 0.9945587234955839, 1.0613994092566976, 0.8454640786728894, 0.7872269606746138, 0.967598436903006, 0.5304690484778442, 0.5304690484778442, 0.8923210438307361, 0.544023433975173, 0.7872269022602498, 0.8788287738450914, 0.7618839665169628, 0.8618765192982569, 0.8643955183335597, 0.8555403709847625, 0.9449362648492474, 0.7872267699233307, 0.8833303601766336, 0.5606828234286845, 0.7872269380768855, 0.8599130191079827, 0.7872270024341179, 0.8498588021650342, 1.00265144379782, 0.908055153393051, 0.9143235420827036, 0.884063508648715, 0.8999601410595383, 0.8630353260732276, 0.7872265807581252, 0.8955849592633452, 0.9500636264106425, 0.952495658289257, 0.7872265205115317, 0.9253116613956386, 0.9527081539619249, 0.9368490435749894, 0.8815529278733331, 0.904773031262586, 0.9137231070421775, 0.9170469101445646, 0.7872270704349841, 0.5822730403852873, 0.5822730403852873, 0.5997367945295968, 0.8879152519002065, 0.8976665225326209, 0.8641752681124869, 0.7872262274503341, 0.8348982947713102, 0.7100358206034415, 0.5962036396962059, 0.7872266407998516, 0.9821872081227584], \"Term\": [\"-soul\", \"advance\", \"alarm\", \"alphabetic\", \"app\", \"app\", \"application\", \"application\", \"application?,\\\"how\", \"bad\", \"base\", \"basic\", \"build\", \"build?,\\\"i\", \"button\", \"c,\\\"i\", \"change\", \"character\", \"class\", \"click\", \"cloud\", \"cloudfoundry\", \"code\", \"code\", \"color\", \"command\", \"complex\", \"consecutive\", \"css\", \"detail\", \"e.g.\", \"element\", \"english\", \"error\", \"exact\", \"extension\", \"file\", \"fine\", \"folder\", \"foundry\", \"friend\", \"function\", \"hard\", \"hint\", \"idea\", \"idea\", \"iendfr\", \"immediately\", \"incorrect\", \"info.plist\", \"ios\", \"jquery\", \"kind\", \"letter\", \"main\", \"manually\", \"method\", \"mouse\", \"node.js\", \"original\", \"paul\", \"phasis\", \"pick\", \"place\", \"problem\", \"program\", \"reference\", \"released),\\\"i'd\", \"response\", \"rotate\", \"scheme\", \"sequence\", \"server.js\", \"set\", \"simple\", \"spin\", \"stdin\", \"stdout\", \"stream\", \"suggestion\", \"syntax\", \"time\", \"time\", \"tone\", \"tone:-\", \"unable\", \"unchanged\", \"usage\", \"user\", \"version\", \"vowel\", \"windows\\\",\\\"i\", \"word\"]}, \"R\": 30, \"lambda.step\": 0.01, \"plot.opts\": {\"xlab\": \"PC1\", \"ylab\": \"PC2\"}, \"topic.order\": [10, 9, 7, 8, 4, 2, 6, 3, 5, 1]};\n",
       "\n",
       "function LDAvis_load_lib(url, callback){\n",
       "  var s = document.createElement('script');\n",
       "  s.src = url;\n",
       "  s.async = true;\n",
       "  s.onreadystatechange = s.onload = callback;\n",
       "  s.onerror = function(){console.warn(\"failed to load library \" + url);};\n",
       "  document.getElementsByTagName(\"head\")[0].appendChild(s);\n",
       "}\n",
       "\n",
       "if(typeof(LDAvis) !== \"undefined\"){\n",
       "   // already loaded: just create the visualization\n",
       "   !function(LDAvis){\n",
       "       new LDAvis(\"#\" + \"ldavis_el113626380477515288444218515\", ldavis_el113626380477515288444218515_data);\n",
       "   }(LDAvis);\n",
       "}else if(typeof define === \"function\" && define.amd){\n",
       "   // require.js is available: use it to load d3/LDAvis\n",
       "   require.config({paths: {d3: \"https://cdnjs.cloudflare.com/ajax/libs/d3/3.5.5/d3.min\"}});\n",
       "   require([\"d3\"], function(d3){\n",
       "      window.d3 = d3;\n",
       "      LDAvis_load_lib(\"https://cdn.rawgit.com/bmabey/pyLDAvis/files/ldavis.v1.0.0.js\", function(){\n",
       "        new LDAvis(\"#\" + \"ldavis_el113626380477515288444218515\", ldavis_el113626380477515288444218515_data);\n",
       "      });\n",
       "    });\n",
       "}else{\n",
       "    // require.js not available: dynamically load d3 & LDAvis\n",
       "    LDAvis_load_lib(\"https://cdnjs.cloudflare.com/ajax/libs/d3/3.5.5/d3.min.js\", function(){\n",
       "         LDAvis_load_lib(\"https://cdn.rawgit.com/bmabey/pyLDAvis/files/ldavis.v1.0.0.js\", function(){\n",
       "                 new LDAvis(\"#\" + \"ldavis_el113626380477515288444218515\", ldavis_el113626380477515288444218515_data);\n",
       "            })\n",
       "         });\n",
       "}\n",
       "</script>"
      ],
      "text/plain": [
       "PreparedData(topic_coordinates=            Freq  cluster  topics         x         y\n",
       "topic                                                \n",
       "9      21.913688        1       1 -0.016936  0.227249\n",
       "8      21.913660        1       2 -0.093985 -0.073974\n",
       "6      20.263048        1       3  0.132401 -0.038274\n",
       "7      18.612802        1       4 -0.086270 -0.002180\n",
       "3      15.313905        1       5  0.072599 -0.026970\n",
       "1       0.396608        1       6 -0.161435 -0.071520\n",
       "5       0.396594        1       7  0.154114 -0.050652\n",
       "2       0.396566        1       8 -0.000163  0.012106\n",
       "4       0.396566        1       9 -0.000163  0.012107\n",
       "0       0.396566        1      10 -0.000163  0.012107, topic_info=     Category      Freq               Term     Total  loglift  logprob\n",
       "term                                                                  \n",
       "24    Default  3.000000               word  3.000000  30.0000  30.0000\n",
       "62    Default  2.000000              alarm  2.000000  29.0000  29.0000\n",
       "6     Default  4.000000                app  4.000000  28.0000  28.0000\n",
       "76    Default  2.000000                ios  2.000000  27.0000  27.0000\n",
       "45    Default  2.000000              class  2.000000  26.0000  26.0000\n",
       "77    Default  2.000000          extension  2.000000  25.0000  25.0000\n",
       "46    Default  1.000000        immediately  1.000000  24.0000  24.0000\n",
       "51    Default  1.000000              color  1.000000  23.0000  23.0000\n",
       "49    Default  1.000000             button  1.000000  22.0000  22.0000\n",
       "48    Default  1.000000              mouse  1.000000  21.0000  21.0000\n",
       "47    Default  1.000000              click  1.000000  20.0000  20.0000\n",
       "25    Default  1.000000              vowel  1.000000  19.0000  19.0000\n",
       "32    Default  1.000000          character  1.000000  18.0000  18.0000\n",
       "63    Default  1.000000               tone  1.000000  17.0000  17.0000\n",
       "79    Default  1.000000            version  1.000000  16.0000  16.0000\n",
       "72    Default  1.000000               code  1.000000  15.0000  15.0000\n",
       "65    Default  1.000000        application  1.000000  14.0000  14.0000\n",
       "4     Default  2.000000              error  2.000000  13.0000  13.0000\n",
       "1     Default  2.000000            foundry  2.000000  12.0000  12.0000\n",
       "8     Default  1.000000               time  1.000000  11.0000  11.0000\n",
       "21    Default  1.000000               idea  1.000000  10.0000  10.0000\n",
       "56    Default  1.000000                css  1.000000   9.0000   9.0000\n",
       "54    Default  1.000000               user  1.000000   8.0000   8.0000\n",
       "61    Default  1.000000           function  1.000000   7.0000   7.0000\n",
       "57    Default  1.000000             jquery  1.000000   6.0000   6.0000\n",
       "50    Default  1.000000     released),\"i'd  1.000000   5.0000   5.0000\n",
       "60    Default  1.000000               kind  1.000000   4.0000   4.0000\n",
       "59    Default  1.000000            complex  1.000000   3.0000   3.0000\n",
       "41    Default  1.000000             letter  1.000000   2.0000   2.0000\n",
       "38    Default  1.000000           original  1.000000   1.0000   1.0000\n",
       "...       ...       ...                ...       ...      ...      ...\n",
       "30    Topic10  0.005453        consecutive  1.120787   0.2044  -4.4773\n",
       "33    Topic10  0.005453               e.g.  1.120918   0.2043  -4.4773\n",
       "74    Topic10  0.005453             tone:-  1.126234   0.1996  -4.4773\n",
       "6     Topic10  0.005453                app  4.345726  -1.1507  -4.4773\n",
       "62    Topic10  0.005453              alarm  2.738429  -0.6889  -4.4773\n",
       "77    Topic10  0.005453          extension  2.615272  -0.6429  -4.4773\n",
       "76    Topic10  0.005453                ios  2.625072  -0.6466  -4.4773\n",
       "24    Topic10  0.005453               word  3.054408  -0.7981  -4.4773\n",
       "63    Topic10  0.005453               tone  1.667398  -0.1928  -4.4773\n",
       "21    Topic10  0.005453               idea  1.885124  -0.3155  -4.4773\n",
       "65    Topic10  0.005453        application  1.724509  -0.2265  -4.4773\n",
       "8     Topic10  0.005453               time  1.717407  -0.2224  -4.4773\n",
       "51    Topic10  0.005453              color  1.785932  -0.2615  -4.4773\n",
       "25    Topic10  0.005453              vowel  1.677279  -0.1987  -4.4773\n",
       "72    Topic10  0.005453               code  1.706893  -0.2162  -4.4773\n",
       "64    Topic10  0.005453  application?,\"how  1.138319   0.1889  -4.4773\n",
       "45    Topic10  0.005453              class  2.338013  -0.5308  -4.4773\n",
       "4     Topic10  0.005453              error  2.010941  -0.3801  -4.4773\n",
       "47    Topic10  0.005453              click  1.601272  -0.1523  -4.4773\n",
       "79    Topic10  0.005453            version  1.408380  -0.0240  -4.4773\n",
       "46    Topic10  0.005453        immediately  1.838156  -0.2903  -4.4773\n",
       "1     Topic10  0.005453            foundry  2.010942  -0.3801  -4.4773\n",
       "49    Topic10  0.005453             button  1.783591  -0.2602  -4.4773\n",
       "48    Topic10  0.005453              mouse  1.783540  -0.2601  -4.4773\n",
       "32    Topic10  0.005453          character  1.597136  -0.1498  -4.4773\n",
       "54    Topic10  0.005453               user  1.197751   0.1380  -4.4773\n",
       "60    Topic10  0.005453               kind  1.156878   0.1727  -4.4773\n",
       "75    Topic10  0.005453             method  1.132079   0.1944  -4.4773\n",
       "19    Topic10  0.005453             syntax  1.270282   0.0792  -4.4773\n",
       "78    Topic10  0.005453          build?,\"i  1.136486   0.1905  -4.4773\n",
       "\n",
       "[463 rows x 6 columns], token_table=      Topic      Freq               Term\n",
       "term                                    \n",
       "44        2  0.880586              -soul\n",
       "71        5  0.920568            advance\n",
       "62        5  0.730346              alarm\n",
       "31        2  0.925632         alphabetic\n",
       "6         1  0.460222                app\n",
       "6         4  0.460222                app\n",
       "65        4  0.579875        application\n",
       "65        5  0.579875        application\n",
       "64        5  0.878488  application?,\"how\n",
       "69        5  0.960012                bad\n",
       "80        4  1.012341               base\n",
       "58        3  0.927397              basic\n",
       "82        4  0.912569              build\n",
       "78        4  0.879905          build?,\"i\n",
       "49        3  0.560667             button\n",
       "26        2  0.936492               c,\"i\n",
       "55        3  0.924998             change\n",
       "32        2  0.626121          character\n",
       "45        3  0.855427              class\n",
       "47        3  0.624503              click\n",
       "0         1  0.787227              cloud\n",
       "9         1  0.787227       cloudfoundry\n",
       "72        4  0.585860               code\n",
       "72        5  0.585860               code\n",
       "51        3  0.559932              color\n",
       "14        1  0.787227            command\n",
       "59        3  0.867520            complex\n",
       "30        2  0.892230        consecutive\n",
       "56        3  0.834446                css\n",
       "16        1  0.787226             detail\n",
       "...     ...       ...                ...\n",
       "37        2  0.908055              place\n",
       "67        5  0.914324            problem\n",
       "27        2  0.884064            program\n",
       "85        4  0.899960          reference\n",
       "50        3  0.863035     released),\"i'd\n",
       "15        1  0.787227           response\n",
       "23        2  0.895585             rotate\n",
       "84        4  0.950064             scheme\n",
       "36        2  0.952496           sequence\n",
       "13        1  0.787227          server.js\n",
       "68        5  0.925312                set\n",
       "86        4  0.952708             simple\n",
       "52        3  0.936849               spin\n",
       "28        2  0.881553              stdin\n",
       "39        2  0.904773             stdout\n",
       "29        2  0.913723             stream\n",
       "43        2  0.917047         suggestion\n",
       "19        1  0.787227             syntax\n",
       "8         1  0.582273               time\n",
       "8         5  0.582273               time\n",
       "63        5  0.599737               tone\n",
       "74        5  0.887915             tone:-\n",
       "42        2  0.897667             unable\n",
       "40        2  0.864175          unchanged\n",
       "3         1  0.787226              usage\n",
       "54        3  0.834898               user\n",
       "79        4  0.710036            version\n",
       "25        2  0.596204              vowel\n",
       "7         1  0.787227        windows\",\"i\n",
       "24        2  0.982187               word\n",
       "\n",
       "[93 rows x 3 columns], R=30, lambda_step=0.01, plot_opts={'xlab': 'PC1', 'ylab': 'PC2'}, topic_order=[10, 9, 7, 8, 4, 2, 6, 3, 5, 1])"
      ]
     },
     "execution_count": 10,
     "metadata": {},
     "output_type": "execute_result"
    }
   ],
   "source": [
    "pyLDAvis.enable_notebook()\n",
    "pyLDAvis.gensim.prepare(ldamodel, corpus, dictionary)"
   ]
  },
  {
   "cell_type": "markdown",
   "metadata": {},
   "source": [
    "\n",
    "\n",
    "\n",
    "### Topic Coherence\n",
    "\n",
    "Topic Coherence is a new gensim functionality where we can identify which topic model is 'better'. \n",
    "By returning a score, we can compare between different topic models of the same. We use the same example from the news classification notebook to plot a graph between the topic models we have created."
   ]
  },
  {
   "cell_type": "code",
   "execution_count": 11,
   "metadata": {
    "collapsed": true
   },
   "outputs": [],
   "source": [
    "#lsitopics = [[word for word, prob in topic] for topicid, topic in lsimodel.show_topics(formatted=False)]\n",
    "\n",
    "#hdptopics = [[word for word, prob in topic] for topicid, topic in hdpmodel.show_topics(formatted=False)]\n",
    "\n",
    "#ldatopics = [[word for word, prob in topic] for topicid, topic in ldamodel.show_topics(formatted=False)]"
   ]
  },
  {
   "cell_type": "code",
   "execution_count": 12,
   "metadata": {
    "collapsed": true
   },
   "outputs": [],
   "source": [
    "#lsi_coherence = CoherenceModel(topics=lsitopics[:10], texts=texts, dictionary=dictionary, window_size=10).get_coherence()\n",
    "\n",
    "#hdp_coherence = CoherenceModel(topics=hdptopics[:10], texts=texts, dictionary=dictionary, window_size=10).get_coherence()\n",
    "\n",
    "#lda_coherence = CoherenceModel(topics=ldatopics, texts=texts, dictionary=dictionary, window_size=10).get_coherence()"
   ]
  },
  {
   "cell_type": "code",
   "execution_count": 13,
   "metadata": {
    "collapsed": true
   },
   "outputs": [],
   "source": [
    "def evaluate_bar_graph(coherences, indices):\n",
    "    \"\"\"\n",
    "    Function to plot bar graph.\n",
    "    \n",
    "    coherences: list of coherence values\n",
    "    indices: Indices to be used to mark bars. Length of this and coherences should be equal.\n",
    "    \"\"\"\n",
    "    assert len(coherences) == len(indices)\n",
    "    n = len(coherences)\n",
    "    x = np.arange(n)\n",
    "    plt.bar(x, coherences, width=0.2, tick_label=indices, align='center')\n",
    "    plt.xlabel('Models')\n",
    "    plt.ylabel('Coherence Value')"
   ]
  },
  {
   "cell_type": "code",
   "execution_count": 14,
   "metadata": {
    "collapsed": true
   },
   "outputs": [],
   "source": [
    "#evaluate_bar_graph([lsi_coherence, hdp_coherence, lda_coherence],\n",
    "#                   ['LSI', 'HDP', 'LDA'])"
   ]
  },
  {
   "cell_type": "markdown",
   "metadata": {},
   "source": [
    "We can see that topic coherence helped us get past manually inspecting our topic models - we can now keep fine tuning our models and compare between them to see which has the best performance. \n",
    "\n"
   ]
  },
  {
   "cell_type": "code",
   "execution_count": 15,
   "metadata": {},
   "outputs": [
    {
     "name": "stderr",
     "output_type": "stream",
     "text": [
      "C:\\Users\\maneet\\AppData\\Local\\Continuum\\Anaconda3\\lib\\site-packages\\pyLDAvis\\_prepare.py:387: DeprecationWarning: \n",
      ".ix is deprecated. Please use\n",
      ".loc for label based indexing or\n",
      ".iloc for positional indexing\n",
      "\n",
      "See the documentation here:\n",
      "http://pandas.pydata.org/pandas-docs/stable/indexing.html#ix-indexer-is-deprecated\n",
      "  topic_term_dists = topic_term_dists.ix[topic_order]\n"
     ]
    }
   ],
   "source": [
    "pyLDAvis.save_html(pyLDAvis.gensim.prepare(ldamodel, corpus, dictionary), \"demo2.html\")"
   ]
  },
  {
   "cell_type": "code",
   "execution_count": 16,
   "metadata": {
    "collapsed": true
   },
   "outputs": [],
   "source": [
    "#print(lsi_coherence)\n",
    "#print(hdp_coherence)\n",
    "#print(lda_coherence)"
   ]
  },
  {
   "cell_type": "code",
   "execution_count": 17,
   "metadata": {
    "collapsed": true
   },
   "outputs": [],
   "source": [
    "ldamodel.save(\"fi\")"
   ]
  }
 ],
 "metadata": {
  "kernelspec": {
   "display_name": "Python 3",
   "language": "python",
   "name": "python3"
  },
  "language_info": {
   "codemirror_mode": {
    "name": "ipython",
    "version": 3
   },
   "file_extension": ".py",
   "mimetype": "text/x-python",
   "name": "python",
   "nbconvert_exporter": "python",
   "pygments_lexer": "ipython3",
   "version": "3.6.1"
  }
 },
 "nbformat": 4,
 "nbformat_minor": 2
}
